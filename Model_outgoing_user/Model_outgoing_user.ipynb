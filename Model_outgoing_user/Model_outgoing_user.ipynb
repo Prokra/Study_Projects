{
 "cells": [
  {
   "cell_type": "markdown",
   "id": "72020b12",
   "metadata": {},
   "source": [
    "# Модель для предсказывания ухода клиента"
   ]
  },
  {
   "cell_type": "markdown",
   "id": "d3c1def2",
   "metadata": {},
   "source": [
    "**Описание:**\n",
    "\n",
    "Оператор связи «НиЕдиногоРазрыва.ком» хочет научиться прогнозировать отток клиентов. Если выяснится, что пользователь планирует уйти, ему будут предложены промокоды и специальные условия. Команда оператора собрала персональные данные о некоторых клиентах, информацию об их тарифах и договорах. На основе этих данных будет создан датасет для обучения модели.\n",
    "\n",
    "Телеком предоставляет два вида услуг \n",
    "- телефонная связь, с возможность подключения несколька линий\n",
    "- интернет через телефонную линнию или оптоволокно. \n",
    "\n",
    "Так же есть дополнительные услуги \n",
    "- Интернет-безопасность: антивирус (*DeviceProtection*) и блокировка небезопасных сайтов (*OnlineSecurity*);\n",
    "- Выделенная линия технической поддержки (*TechSupport*);\n",
    "- Облачное хранилище файлов для резервного копирования данных (*OnlineBackup*);\n",
    "- Стриминговое телевидение (*StreamingTV*) и каталог фильмов (*StreamingMovies*)."
   ]
  },
  {
   "cell_type": "markdown",
   "id": "bdc3e150",
   "metadata": {},
   "source": [
    "# 1 План "
   ]
  },
  {
   "cell_type": "markdown",
   "id": "596620b1",
   "metadata": {},
   "source": [
    "## 1.1 Выгрузка и осмотр данных"
   ]
  },
  {
   "cell_type": "code",
   "execution_count": 1,
   "id": "1ef7c032",
   "metadata": {},
   "outputs": [],
   "source": [
    "!pip install lightgbm -q\n",
    "!pip install catboost -q\n",
    "!pip install phik -q\n",
    "!pip install scikit-learn==1.1.3 -q"
   ]
  },
  {
   "cell_type": "code",
   "execution_count": 2,
   "id": "53abe730",
   "metadata": {},
   "outputs": [],
   "source": [
    "import warnings\n",
    "warnings.filterwarnings(\"ignore\")\n",
    "\n",
    "import pandas as pd\n",
    "import numpy as np\n",
    "import seaborn as sns\n",
    "from datetime import datetime\n",
    "import matplotlib as mpl\n",
    "import matplotlib.pyplot as plt\n",
    "import phik\n",
    "from phik import resources, report\n",
    "\n",
    "#from sklearn.model_selection import train_test_split\n",
    "#from sklearn.model_selection import RandomizedSearchCV\n",
    "from sklearn.preprocessing import OneHotEncoder\n",
    "from sklearn.model_selection import (\n",
    "    GridSearchCV, \n",
    "    RandomizedSearchCV,\n",
    "    train_test_split)\n",
    "from sklearn.metrics import roc_auc_score\n",
    "from sklearn.metrics import roc_curve, auc\n",
    "\n",
    "from sklearn.ensemble import RandomForestClassifier\n",
    "from lightgbm import LGBMClassifier\n",
    "from catboost import CatBoostClassifier\n",
    "\n",
    "RANDOM_STATE = 100423"
   ]
  },
  {
   "cell_type": "code",
   "execution_count": 3,
   "id": "3871e062",
   "metadata": {
    "scrolled": false
   },
   "outputs": [
    {
     "data": {
      "text/plain": [
       "'КОНТРАКТЫ'"
      ]
     },
     "metadata": {},
     "output_type": "display_data"
    },
    {
     "data": {
      "text/plain": [
       "(7043, 7)"
      ]
     },
     "metadata": {},
     "output_type": "display_data"
    },
    {
     "data": {
      "text/html": [
       "<div>\n",
       "<style scoped>\n",
       "    .dataframe tbody tr th:only-of-type {\n",
       "        vertical-align: middle;\n",
       "    }\n",
       "\n",
       "    .dataframe tbody tr th {\n",
       "        vertical-align: top;\n",
       "    }\n",
       "\n",
       "    .dataframe thead th {\n",
       "        text-align: right;\n",
       "    }\n",
       "</style>\n",
       "<table border=\"1\" class=\"dataframe\">\n",
       "  <thead>\n",
       "    <tr style=\"text-align: right;\">\n",
       "      <th></th>\n",
       "      <th>BeginDate</th>\n",
       "      <th>EndDate</th>\n",
       "      <th>Type</th>\n",
       "      <th>PaperlessBilling</th>\n",
       "      <th>PaymentMethod</th>\n",
       "      <th>MonthlyCharges</th>\n",
       "      <th>TotalCharges</th>\n",
       "    </tr>\n",
       "    <tr>\n",
       "      <th>customerID</th>\n",
       "      <th></th>\n",
       "      <th></th>\n",
       "      <th></th>\n",
       "      <th></th>\n",
       "      <th></th>\n",
       "      <th></th>\n",
       "      <th></th>\n",
       "    </tr>\n",
       "  </thead>\n",
       "  <tbody>\n",
       "    <tr>\n",
       "      <th>7590-VHVEG</th>\n",
       "      <td>2020-01-01</td>\n",
       "      <td>No</td>\n",
       "      <td>Month-to-month</td>\n",
       "      <td>Yes</td>\n",
       "      <td>Electronic check</td>\n",
       "      <td>29.85</td>\n",
       "      <td>31.04</td>\n",
       "    </tr>\n",
       "    <tr>\n",
       "      <th>5575-GNVDE</th>\n",
       "      <td>2017-04-01</td>\n",
       "      <td>No</td>\n",
       "      <td>One year</td>\n",
       "      <td>No</td>\n",
       "      <td>Mailed check</td>\n",
       "      <td>56.95</td>\n",
       "      <td>2071.84</td>\n",
       "    </tr>\n",
       "    <tr>\n",
       "      <th>3668-QPYBK</th>\n",
       "      <td>2019-10-01</td>\n",
       "      <td>No</td>\n",
       "      <td>Month-to-month</td>\n",
       "      <td>Yes</td>\n",
       "      <td>Mailed check</td>\n",
       "      <td>53.85</td>\n",
       "      <td>226.17</td>\n",
       "    </tr>\n",
       "    <tr>\n",
       "      <th>7795-CFOCW</th>\n",
       "      <td>2016-05-01</td>\n",
       "      <td>No</td>\n",
       "      <td>One year</td>\n",
       "      <td>No</td>\n",
       "      <td>Bank transfer (automatic)</td>\n",
       "      <td>42.30</td>\n",
       "      <td>1960.6</td>\n",
       "    </tr>\n",
       "    <tr>\n",
       "      <th>9237-HQITU</th>\n",
       "      <td>2019-09-01</td>\n",
       "      <td>No</td>\n",
       "      <td>Month-to-month</td>\n",
       "      <td>Yes</td>\n",
       "      <td>Electronic check</td>\n",
       "      <td>70.70</td>\n",
       "      <td>353.5</td>\n",
       "    </tr>\n",
       "  </tbody>\n",
       "</table>\n",
       "</div>"
      ],
      "text/plain": [
       "             BeginDate EndDate            Type PaperlessBilling  \\\n",
       "customerID                                                        \n",
       "7590-VHVEG  2020-01-01      No  Month-to-month              Yes   \n",
       "5575-GNVDE  2017-04-01      No        One year               No   \n",
       "3668-QPYBK  2019-10-01      No  Month-to-month              Yes   \n",
       "7795-CFOCW  2016-05-01      No        One year               No   \n",
       "9237-HQITU  2019-09-01      No  Month-to-month              Yes   \n",
       "\n",
       "                        PaymentMethod  MonthlyCharges TotalCharges  \n",
       "customerID                                                          \n",
       "7590-VHVEG           Electronic check           29.85        31.04  \n",
       "5575-GNVDE               Mailed check           56.95      2071.84  \n",
       "3668-QPYBK               Mailed check           53.85       226.17  \n",
       "7795-CFOCW  Bank transfer (automatic)           42.30       1960.6  \n",
       "9237-HQITU           Electronic check           70.70        353.5  "
      ]
     },
     "metadata": {},
     "output_type": "display_data"
    },
    {
     "data": {
      "text/plain": [
       "'ПЕРСОНАЛЬНЫЕ'"
      ]
     },
     "metadata": {},
     "output_type": "display_data"
    },
    {
     "data": {
      "text/plain": [
       "(7043, 4)"
      ]
     },
     "metadata": {},
     "output_type": "display_data"
    },
    {
     "data": {
      "text/html": [
       "<div>\n",
       "<style scoped>\n",
       "    .dataframe tbody tr th:only-of-type {\n",
       "        vertical-align: middle;\n",
       "    }\n",
       "\n",
       "    .dataframe tbody tr th {\n",
       "        vertical-align: top;\n",
       "    }\n",
       "\n",
       "    .dataframe thead th {\n",
       "        text-align: right;\n",
       "    }\n",
       "</style>\n",
       "<table border=\"1\" class=\"dataframe\">\n",
       "  <thead>\n",
       "    <tr style=\"text-align: right;\">\n",
       "      <th></th>\n",
       "      <th>gender</th>\n",
       "      <th>SeniorCitizen</th>\n",
       "      <th>Partner</th>\n",
       "      <th>Dependents</th>\n",
       "    </tr>\n",
       "    <tr>\n",
       "      <th>customerID</th>\n",
       "      <th></th>\n",
       "      <th></th>\n",
       "      <th></th>\n",
       "      <th></th>\n",
       "    </tr>\n",
       "  </thead>\n",
       "  <tbody>\n",
       "    <tr>\n",
       "      <th>7590-VHVEG</th>\n",
       "      <td>Female</td>\n",
       "      <td>0</td>\n",
       "      <td>Yes</td>\n",
       "      <td>No</td>\n",
       "    </tr>\n",
       "    <tr>\n",
       "      <th>5575-GNVDE</th>\n",
       "      <td>Male</td>\n",
       "      <td>0</td>\n",
       "      <td>No</td>\n",
       "      <td>No</td>\n",
       "    </tr>\n",
       "    <tr>\n",
       "      <th>3668-QPYBK</th>\n",
       "      <td>Male</td>\n",
       "      <td>0</td>\n",
       "      <td>No</td>\n",
       "      <td>No</td>\n",
       "    </tr>\n",
       "    <tr>\n",
       "      <th>7795-CFOCW</th>\n",
       "      <td>Male</td>\n",
       "      <td>0</td>\n",
       "      <td>No</td>\n",
       "      <td>No</td>\n",
       "    </tr>\n",
       "    <tr>\n",
       "      <th>9237-HQITU</th>\n",
       "      <td>Female</td>\n",
       "      <td>0</td>\n",
       "      <td>No</td>\n",
       "      <td>No</td>\n",
       "    </tr>\n",
       "  </tbody>\n",
       "</table>\n",
       "</div>"
      ],
      "text/plain": [
       "            gender  SeniorCitizen Partner Dependents\n",
       "customerID                                          \n",
       "7590-VHVEG  Female              0     Yes         No\n",
       "5575-GNVDE    Male              0      No         No\n",
       "3668-QPYBK    Male              0      No         No\n",
       "7795-CFOCW    Male              0      No         No\n",
       "9237-HQITU  Female              0      No         No"
      ]
     },
     "metadata": {},
     "output_type": "display_data"
    },
    {
     "data": {
      "text/plain": [
       "'ТЕЛЕФОНИЯ'"
      ]
     },
     "metadata": {},
     "output_type": "display_data"
    },
    {
     "data": {
      "text/plain": [
       "(6361, 1)"
      ]
     },
     "metadata": {},
     "output_type": "display_data"
    },
    {
     "data": {
      "text/html": [
       "<div>\n",
       "<style scoped>\n",
       "    .dataframe tbody tr th:only-of-type {\n",
       "        vertical-align: middle;\n",
       "    }\n",
       "\n",
       "    .dataframe tbody tr th {\n",
       "        vertical-align: top;\n",
       "    }\n",
       "\n",
       "    .dataframe thead th {\n",
       "        text-align: right;\n",
       "    }\n",
       "</style>\n",
       "<table border=\"1\" class=\"dataframe\">\n",
       "  <thead>\n",
       "    <tr style=\"text-align: right;\">\n",
       "      <th></th>\n",
       "      <th>MultipleLines</th>\n",
       "    </tr>\n",
       "    <tr>\n",
       "      <th>customerID</th>\n",
       "      <th></th>\n",
       "    </tr>\n",
       "  </thead>\n",
       "  <tbody>\n",
       "    <tr>\n",
       "      <th>5575-GNVDE</th>\n",
       "      <td>No</td>\n",
       "    </tr>\n",
       "    <tr>\n",
       "      <th>3668-QPYBK</th>\n",
       "      <td>No</td>\n",
       "    </tr>\n",
       "    <tr>\n",
       "      <th>9237-HQITU</th>\n",
       "      <td>No</td>\n",
       "    </tr>\n",
       "    <tr>\n",
       "      <th>9305-CDSKC</th>\n",
       "      <td>Yes</td>\n",
       "    </tr>\n",
       "    <tr>\n",
       "      <th>1452-KIOVK</th>\n",
       "      <td>Yes</td>\n",
       "    </tr>\n",
       "  </tbody>\n",
       "</table>\n",
       "</div>"
      ],
      "text/plain": [
       "           MultipleLines\n",
       "customerID              \n",
       "5575-GNVDE            No\n",
       "3668-QPYBK            No\n",
       "9237-HQITU            No\n",
       "9305-CDSKC           Yes\n",
       "1452-KIOVK           Yes"
      ]
     },
     "metadata": {},
     "output_type": "display_data"
    },
    {
     "data": {
      "text/plain": [
       "'ИНТЕРНЕТ'"
      ]
     },
     "metadata": {},
     "output_type": "display_data"
    },
    {
     "data": {
      "text/plain": [
       "(5517, 7)"
      ]
     },
     "metadata": {},
     "output_type": "display_data"
    },
    {
     "data": {
      "text/html": [
       "<div>\n",
       "<style scoped>\n",
       "    .dataframe tbody tr th:only-of-type {\n",
       "        vertical-align: middle;\n",
       "    }\n",
       "\n",
       "    .dataframe tbody tr th {\n",
       "        vertical-align: top;\n",
       "    }\n",
       "\n",
       "    .dataframe thead th {\n",
       "        text-align: right;\n",
       "    }\n",
       "</style>\n",
       "<table border=\"1\" class=\"dataframe\">\n",
       "  <thead>\n",
       "    <tr style=\"text-align: right;\">\n",
       "      <th></th>\n",
       "      <th>InternetService</th>\n",
       "      <th>OnlineSecurity</th>\n",
       "      <th>OnlineBackup</th>\n",
       "      <th>DeviceProtection</th>\n",
       "      <th>TechSupport</th>\n",
       "      <th>StreamingTV</th>\n",
       "      <th>StreamingMovies</th>\n",
       "    </tr>\n",
       "    <tr>\n",
       "      <th>customerID</th>\n",
       "      <th></th>\n",
       "      <th></th>\n",
       "      <th></th>\n",
       "      <th></th>\n",
       "      <th></th>\n",
       "      <th></th>\n",
       "      <th></th>\n",
       "    </tr>\n",
       "  </thead>\n",
       "  <tbody>\n",
       "    <tr>\n",
       "      <th>7590-VHVEG</th>\n",
       "      <td>DSL</td>\n",
       "      <td>No</td>\n",
       "      <td>Yes</td>\n",
       "      <td>No</td>\n",
       "      <td>No</td>\n",
       "      <td>No</td>\n",
       "      <td>No</td>\n",
       "    </tr>\n",
       "    <tr>\n",
       "      <th>5575-GNVDE</th>\n",
       "      <td>DSL</td>\n",
       "      <td>Yes</td>\n",
       "      <td>No</td>\n",
       "      <td>Yes</td>\n",
       "      <td>No</td>\n",
       "      <td>No</td>\n",
       "      <td>No</td>\n",
       "    </tr>\n",
       "    <tr>\n",
       "      <th>3668-QPYBK</th>\n",
       "      <td>DSL</td>\n",
       "      <td>Yes</td>\n",
       "      <td>Yes</td>\n",
       "      <td>No</td>\n",
       "      <td>No</td>\n",
       "      <td>No</td>\n",
       "      <td>No</td>\n",
       "    </tr>\n",
       "    <tr>\n",
       "      <th>7795-CFOCW</th>\n",
       "      <td>DSL</td>\n",
       "      <td>Yes</td>\n",
       "      <td>No</td>\n",
       "      <td>Yes</td>\n",
       "      <td>Yes</td>\n",
       "      <td>No</td>\n",
       "      <td>No</td>\n",
       "    </tr>\n",
       "    <tr>\n",
       "      <th>9237-HQITU</th>\n",
       "      <td>Fiber optic</td>\n",
       "      <td>No</td>\n",
       "      <td>No</td>\n",
       "      <td>No</td>\n",
       "      <td>No</td>\n",
       "      <td>No</td>\n",
       "      <td>No</td>\n",
       "    </tr>\n",
       "  </tbody>\n",
       "</table>\n",
       "</div>"
      ],
      "text/plain": [
       "           InternetService OnlineSecurity OnlineBackup DeviceProtection  \\\n",
       "customerID                                                                \n",
       "7590-VHVEG             DSL             No          Yes               No   \n",
       "5575-GNVDE             DSL            Yes           No              Yes   \n",
       "3668-QPYBK             DSL            Yes          Yes               No   \n",
       "7795-CFOCW             DSL            Yes           No              Yes   \n",
       "9237-HQITU     Fiber optic             No           No               No   \n",
       "\n",
       "           TechSupport StreamingTV StreamingMovies  \n",
       "customerID                                          \n",
       "7590-VHVEG          No          No              No  \n",
       "5575-GNVDE          No          No              No  \n",
       "3668-QPYBK          No          No              No  \n",
       "7795-CFOCW         Yes          No              No  \n",
       "9237-HQITU          No          No              No  "
      ]
     },
     "metadata": {},
     "output_type": "display_data"
    }
   ],
   "source": [
    "#C:\\Users\\niklu\\Desktop\\jupyter\\data\n",
    "try:\n",
    "    data_contract = pd.read_csv('C:\\\\Users\\\\niklu\\\\Desktop\\\\jupyter\\\\data\\\\finals_data\\\\contract_new.csv', index_col = 'customerID')\n",
    "    data_person = pd.read_csv(\"C:\\\\Users\\\\niklu\\\\Desktop\\\\jupyter\\\\data\\\\finals_data\\\\personal_new.csv\", index_col = 'customerID')\n",
    "    data_phone = pd.read_csv(\"C:\\\\Users\\\\niklu\\\\Desktop\\\\jupyter\\\\data\\\\finals_data\\\\phone_new.csv\", index_col = 'customerID')\n",
    "    data_inet = pd.read_csv(\"C:\\\\Users\\\\niklu\\\\Desktop\\\\jupyter\\\\data\\\\finals_data\\\\internet_new.csv\", index_col = 'customerID')\n",
    "\n",
    "    display ('КОНТРАКТЫ', data_contract.shape ,data_contract.head())\n",
    "    display ('ПЕРСОНАЛЬНЫЕ', data_person.shape, data_person.head())\n",
    "    display ('ТЕЛЕФОНИЯ', data_phone.shape, data_phone.head())\n",
    "    display ('ИНТЕРНЕТ', data_inet.shape, data_inet.head())\n",
    "    \n",
    "except:\n",
    "    data_contract = pd.read_csv('/datasets/contract_new.csv', index_col = 'customerID')\n",
    "    data_person = pd.read_csv(\"/datasets/personal_new.csv\", index_col = 'customerID')\n",
    "    data_phone = pd.read_csv(\"/datasets/phone_new.csv\", index_col = 'customerID')\n",
    "    data_inet = pd.read_csv(\"/datasets/internet_new.csv\", index_col = 'customerID')\n",
    "\n",
    "    display ('КОНТРАКТЫ', data_contract.shape ,data_contract.head())\n",
    "    display ('ПЕРСОНАЛЬНЫЕ', data_person.shape, data_person.head())\n",
    "    display ('ТЕЛЕФОНИЯ', data_phone.shape, data_phone.head())\n",
    "    display ('ИНТЕРНЕТ', data_inet.shape, data_inet.head())"
   ]
  },
  {
   "cell_type": "markdown",
   "id": "a9b869a3",
   "metadata": {},
   "source": [
    "## 1.2 Объеденение таблиц\n",
    "\n",
    "Для анализа и последущего обучения модели все данные необходио соеденить в одну таблицу."
   ]
  },
  {
   "cell_type": "markdown",
   "id": "6c4dd9bb",
   "metadata": {},
   "source": [
    "В первую очередь объеденяю контракты и персональные данные, предпологаю что пропусков там быть не должно"
   ]
  },
  {
   "cell_type": "code",
   "execution_count": 4,
   "id": "4658946d",
   "metadata": {
    "scrolled": false
   },
   "outputs": [
    {
     "name": "stdout",
     "output_type": "stream",
     "text": [
      "BeginDate           0\n",
      "EndDate             0\n",
      "Type                0\n",
      "PaperlessBilling    0\n",
      "PaymentMethod       0\n",
      "MonthlyCharges      0\n",
      "TotalCharges        0\n",
      "gender              0\n",
      "SeniorCitizen       0\n",
      "Partner             0\n",
      "Dependents          0\n",
      "dtype: int64 (7043, 11)\n"
     ]
    },
    {
     "data": {
      "text/html": [
       "<div>\n",
       "<style scoped>\n",
       "    .dataframe tbody tr th:only-of-type {\n",
       "        vertical-align: middle;\n",
       "    }\n",
       "\n",
       "    .dataframe tbody tr th {\n",
       "        vertical-align: top;\n",
       "    }\n",
       "\n",
       "    .dataframe thead th {\n",
       "        text-align: right;\n",
       "    }\n",
       "</style>\n",
       "<table border=\"1\" class=\"dataframe\">\n",
       "  <thead>\n",
       "    <tr style=\"text-align: right;\">\n",
       "      <th></th>\n",
       "      <th>BeginDate</th>\n",
       "      <th>EndDate</th>\n",
       "      <th>Type</th>\n",
       "      <th>PaperlessBilling</th>\n",
       "      <th>PaymentMethod</th>\n",
       "      <th>MonthlyCharges</th>\n",
       "      <th>TotalCharges</th>\n",
       "      <th>gender</th>\n",
       "      <th>SeniorCitizen</th>\n",
       "      <th>Partner</th>\n",
       "      <th>Dependents</th>\n",
       "    </tr>\n",
       "    <tr>\n",
       "      <th>customerID</th>\n",
       "      <th></th>\n",
       "      <th></th>\n",
       "      <th></th>\n",
       "      <th></th>\n",
       "      <th></th>\n",
       "      <th></th>\n",
       "      <th></th>\n",
       "      <th></th>\n",
       "      <th></th>\n",
       "      <th></th>\n",
       "      <th></th>\n",
       "    </tr>\n",
       "  </thead>\n",
       "  <tbody>\n",
       "    <tr>\n",
       "      <th>7590-VHVEG</th>\n",
       "      <td>2020-01-01</td>\n",
       "      <td>No</td>\n",
       "      <td>Month-to-month</td>\n",
       "      <td>Yes</td>\n",
       "      <td>Electronic check</td>\n",
       "      <td>29.85</td>\n",
       "      <td>31.04</td>\n",
       "      <td>Female</td>\n",
       "      <td>0</td>\n",
       "      <td>Yes</td>\n",
       "      <td>No</td>\n",
       "    </tr>\n",
       "    <tr>\n",
       "      <th>5575-GNVDE</th>\n",
       "      <td>2017-04-01</td>\n",
       "      <td>No</td>\n",
       "      <td>One year</td>\n",
       "      <td>No</td>\n",
       "      <td>Mailed check</td>\n",
       "      <td>56.95</td>\n",
       "      <td>2071.84</td>\n",
       "      <td>Male</td>\n",
       "      <td>0</td>\n",
       "      <td>No</td>\n",
       "      <td>No</td>\n",
       "    </tr>\n",
       "    <tr>\n",
       "      <th>3668-QPYBK</th>\n",
       "      <td>2019-10-01</td>\n",
       "      <td>No</td>\n",
       "      <td>Month-to-month</td>\n",
       "      <td>Yes</td>\n",
       "      <td>Mailed check</td>\n",
       "      <td>53.85</td>\n",
       "      <td>226.17</td>\n",
       "      <td>Male</td>\n",
       "      <td>0</td>\n",
       "      <td>No</td>\n",
       "      <td>No</td>\n",
       "    </tr>\n",
       "    <tr>\n",
       "      <th>7795-CFOCW</th>\n",
       "      <td>2016-05-01</td>\n",
       "      <td>No</td>\n",
       "      <td>One year</td>\n",
       "      <td>No</td>\n",
       "      <td>Bank transfer (automatic)</td>\n",
       "      <td>42.30</td>\n",
       "      <td>1960.6</td>\n",
       "      <td>Male</td>\n",
       "      <td>0</td>\n",
       "      <td>No</td>\n",
       "      <td>No</td>\n",
       "    </tr>\n",
       "    <tr>\n",
       "      <th>9237-HQITU</th>\n",
       "      <td>2019-09-01</td>\n",
       "      <td>No</td>\n",
       "      <td>Month-to-month</td>\n",
       "      <td>Yes</td>\n",
       "      <td>Electronic check</td>\n",
       "      <td>70.70</td>\n",
       "      <td>353.5</td>\n",
       "      <td>Female</td>\n",
       "      <td>0</td>\n",
       "      <td>No</td>\n",
       "      <td>No</td>\n",
       "    </tr>\n",
       "    <tr>\n",
       "      <th>...</th>\n",
       "      <td>...</td>\n",
       "      <td>...</td>\n",
       "      <td>...</td>\n",
       "      <td>...</td>\n",
       "      <td>...</td>\n",
       "      <td>...</td>\n",
       "      <td>...</td>\n",
       "      <td>...</td>\n",
       "      <td>...</td>\n",
       "      <td>...</td>\n",
       "      <td>...</td>\n",
       "    </tr>\n",
       "    <tr>\n",
       "      <th>6840-RESVB</th>\n",
       "      <td>2018-02-01</td>\n",
       "      <td>No</td>\n",
       "      <td>One year</td>\n",
       "      <td>Yes</td>\n",
       "      <td>Mailed check</td>\n",
       "      <td>84.80</td>\n",
       "      <td>2035.2</td>\n",
       "      <td>Male</td>\n",
       "      <td>0</td>\n",
       "      <td>Yes</td>\n",
       "      <td>Yes</td>\n",
       "    </tr>\n",
       "    <tr>\n",
       "      <th>2234-XADUH</th>\n",
       "      <td>2014-02-01</td>\n",
       "      <td>No</td>\n",
       "      <td>One year</td>\n",
       "      <td>Yes</td>\n",
       "      <td>Credit card (automatic)</td>\n",
       "      <td>103.20</td>\n",
       "      <td>7430.4</td>\n",
       "      <td>Female</td>\n",
       "      <td>0</td>\n",
       "      <td>Yes</td>\n",
       "      <td>Yes</td>\n",
       "    </tr>\n",
       "    <tr>\n",
       "      <th>4801-JZAZL</th>\n",
       "      <td>2019-03-01</td>\n",
       "      <td>No</td>\n",
       "      <td>Month-to-month</td>\n",
       "      <td>Yes</td>\n",
       "      <td>Electronic check</td>\n",
       "      <td>29.60</td>\n",
       "      <td>325.6</td>\n",
       "      <td>Female</td>\n",
       "      <td>0</td>\n",
       "      <td>Yes</td>\n",
       "      <td>Yes</td>\n",
       "    </tr>\n",
       "    <tr>\n",
       "      <th>8361-LTMKD</th>\n",
       "      <td>2019-07-01</td>\n",
       "      <td>No</td>\n",
       "      <td>Month-to-month</td>\n",
       "      <td>Yes</td>\n",
       "      <td>Mailed check</td>\n",
       "      <td>74.40</td>\n",
       "      <td>520.8</td>\n",
       "      <td>Male</td>\n",
       "      <td>1</td>\n",
       "      <td>Yes</td>\n",
       "      <td>No</td>\n",
       "    </tr>\n",
       "    <tr>\n",
       "      <th>3186-AJIEK</th>\n",
       "      <td>2014-08-01</td>\n",
       "      <td>No</td>\n",
       "      <td>Two year</td>\n",
       "      <td>Yes</td>\n",
       "      <td>Bank transfer (automatic)</td>\n",
       "      <td>105.65</td>\n",
       "      <td>7251.82</td>\n",
       "      <td>Male</td>\n",
       "      <td>0</td>\n",
       "      <td>No</td>\n",
       "      <td>No</td>\n",
       "    </tr>\n",
       "  </tbody>\n",
       "</table>\n",
       "<p>7043 rows × 11 columns</p>\n",
       "</div>"
      ],
      "text/plain": [
       "             BeginDate EndDate            Type PaperlessBilling  \\\n",
       "customerID                                                        \n",
       "7590-VHVEG  2020-01-01      No  Month-to-month              Yes   \n",
       "5575-GNVDE  2017-04-01      No        One year               No   \n",
       "3668-QPYBK  2019-10-01      No  Month-to-month              Yes   \n",
       "7795-CFOCW  2016-05-01      No        One year               No   \n",
       "9237-HQITU  2019-09-01      No  Month-to-month              Yes   \n",
       "...                ...     ...             ...              ...   \n",
       "6840-RESVB  2018-02-01      No        One year              Yes   \n",
       "2234-XADUH  2014-02-01      No        One year              Yes   \n",
       "4801-JZAZL  2019-03-01      No  Month-to-month              Yes   \n",
       "8361-LTMKD  2019-07-01      No  Month-to-month              Yes   \n",
       "3186-AJIEK  2014-08-01      No        Two year              Yes   \n",
       "\n",
       "                        PaymentMethod  MonthlyCharges TotalCharges  gender  \\\n",
       "customerID                                                                   \n",
       "7590-VHVEG           Electronic check           29.85        31.04  Female   \n",
       "5575-GNVDE               Mailed check           56.95      2071.84    Male   \n",
       "3668-QPYBK               Mailed check           53.85       226.17    Male   \n",
       "7795-CFOCW  Bank transfer (automatic)           42.30       1960.6    Male   \n",
       "9237-HQITU           Electronic check           70.70        353.5  Female   \n",
       "...                               ...             ...          ...     ...   \n",
       "6840-RESVB               Mailed check           84.80       2035.2    Male   \n",
       "2234-XADUH    Credit card (automatic)          103.20       7430.4  Female   \n",
       "4801-JZAZL           Electronic check           29.60        325.6  Female   \n",
       "8361-LTMKD               Mailed check           74.40        520.8    Male   \n",
       "3186-AJIEK  Bank transfer (automatic)          105.65      7251.82    Male   \n",
       "\n",
       "            SeniorCitizen Partner Dependents  \n",
       "customerID                                    \n",
       "7590-VHVEG              0     Yes         No  \n",
       "5575-GNVDE              0      No         No  \n",
       "3668-QPYBK              0      No         No  \n",
       "7795-CFOCW              0      No         No  \n",
       "9237-HQITU              0      No         No  \n",
       "...                   ...     ...        ...  \n",
       "6840-RESVB              0     Yes        Yes  \n",
       "2234-XADUH              0     Yes        Yes  \n",
       "4801-JZAZL              0     Yes        Yes  \n",
       "8361-LTMKD              1     Yes         No  \n",
       "3186-AJIEK              0      No         No  \n",
       "\n",
       "[7043 rows x 11 columns]"
      ]
     },
     "execution_count": 4,
     "metadata": {},
     "output_type": "execute_result"
    }
   ],
   "source": [
    "data_full = data_contract.join(data_person)\n",
    "print (data_full.isnull().sum(), data_full.shape)\n",
    "data_full"
   ]
  },
  {
   "cell_type": "markdown",
   "id": "9ee65ed9",
   "metadata": {},
   "source": [
    "Данные объеденились успешно, без пропусков, по индексу которым выступает индефикатор пользователя. Теперь более сложное объеденение, где должны появится пропуски. "
   ]
  },
  {
   "cell_type": "code",
   "execution_count": 5,
   "id": "79b80daf",
   "metadata": {
    "scrolled": true
   },
   "outputs": [
    {
     "name": "stdout",
     "output_type": "stream",
     "text": [
      "BeginDate              0\n",
      "EndDate                0\n",
      "Type                   0\n",
      "PaperlessBilling       0\n",
      "PaymentMethod          0\n",
      "MonthlyCharges         0\n",
      "TotalCharges           0\n",
      "gender                 0\n",
      "SeniorCitizen          0\n",
      "Partner                0\n",
      "Dependents             0\n",
      "InternetService     1526\n",
      "OnlineSecurity      1526\n",
      "OnlineBackup        1526\n",
      "DeviceProtection    1526\n",
      "TechSupport         1526\n",
      "StreamingTV         1526\n",
      "StreamingMovies     1526\n",
      "MultipleLines        682\n",
      "dtype: int64 (7043, 19)\n"
     ]
    }
   ],
   "source": [
    "data_full = data_full.join(data_inet)\n",
    "data_full = data_full.join(data_phone)\n",
    "print (data_full.isnull().sum(), data_full.shape) "
   ]
  },
  {
   "cell_type": "code",
   "execution_count": 6,
   "id": "1e6e761b",
   "metadata": {},
   "outputs": [
    {
     "name": "stdout",
     "output_type": "stream",
     "text": [
      "BeginDate           0\n",
      "EndDate             0\n",
      "Type                0\n",
      "PaperlessBilling    0\n",
      "PaymentMethod       0\n",
      "MonthlyCharges      0\n",
      "TotalCharges        0\n",
      "gender              0\n",
      "SeniorCitizen       0\n",
      "Partner             0\n",
      "Dependents          0\n",
      "InternetService     0\n",
      "OnlineSecurity      0\n",
      "OnlineBackup        0\n",
      "DeviceProtection    0\n",
      "TechSupport         0\n",
      "StreamingTV         0\n",
      "StreamingMovies     0\n",
      "MultipleLines       0\n",
      "dtype: int64 (7043, 19)\n"
     ]
    }
   ],
   "source": [
    "data_full = data_full.fillna('No')  \n",
    "print (data_full.isnull().sum(), data_full.shape)"
   ]
  },
  {
   "cell_type": "markdown",
   "id": "7536311c",
   "metadata": {},
   "source": [
    "Образававшиеся пропуски были заполнены No, так все они отвечают за предоставляемые услуги."
   ]
  },
  {
   "cell_type": "markdown",
   "id": "0ae431d1",
   "metadata": {},
   "source": [
    "## 1.3 Список уточняющих вопросов"
   ]
  },
  {
   "cell_type": "markdown",
   "id": "4a038aa7",
   "metadata": {},
   "source": [
    "1) Если индефикатора клиента нет в таблицах phone_new.csv и internet_new.csv означает ли это, что клиенту не предоставялется данная услуга?\n",
    "\n",
    "2) В какую дату данные были выгруженны из системы?"
   ]
  },
  {
   "cell_type": "markdown",
   "id": "28e5c69d",
   "metadata": {},
   "source": [
    "### Ответы\n",
    "    \n",
    "1) да, все верно\n",
    "\n",
    "2) 1 февраля 2020"
   ]
  },
  {
   "cell_type": "markdown",
   "id": "e194df96",
   "metadata": {},
   "source": [
    "## 1.4 Примерный план"
   ]
  },
  {
   "cell_type": "markdown",
   "id": "cd64473c",
   "metadata": {},
   "source": [
    "- Анализ данных\n",
    "\n",
    "Данные будут исследованны на аномалии и ошибки\n",
    "- Подготовка признаков  \n",
    "\n",
    "Из данных будут выделенны признаки, которые будут подготовленны для корректной работы модели и удалены признаки, которые мешают работе модели\n",
    "- Исследование моделей\n",
    "    - Данные будут разделенны на выборки \n",
    "    - Будут обучены несколько моделей и полученные результаты на валидационой выборки \n",
    "    - Сравнение результатов моделей\n",
    "- Тестирование модели \n",
    "\n",
    "Лучшая модель будет проверенна на тестовой выборке \n",
    "- Подготовка отчета "
   ]
  },
  {
   "cell_type": "markdown",
   "id": "49034a94",
   "metadata": {},
   "source": [
    "## 1.5 Цель "
   ]
  },
  {
   "cell_type": "markdown",
   "id": "2c17b511",
   "metadata": {},
   "source": [
    "Цель данной работы получить корректно работающую модель. \n",
    "\n",
    "В качестве метрики качества выбрана **AUC-ROC** и ее качество должно быть выше 0.85, дополнительная метрика **точность**."
   ]
  },
  {
   "cell_type": "markdown",
   "id": "4268aaf1",
   "metadata": {},
   "source": [
    "# 2 Предобработка и исследование признаков "
   ]
  },
  {
   "cell_type": "code",
   "execution_count": 7,
   "id": "82cdc9f6",
   "metadata": {
    "scrolled": true
   },
   "outputs": [
    {
     "data": {
      "text/html": [
       "<div>\n",
       "<style scoped>\n",
       "    .dataframe tbody tr th:only-of-type {\n",
       "        vertical-align: middle;\n",
       "    }\n",
       "\n",
       "    .dataframe tbody tr th {\n",
       "        vertical-align: top;\n",
       "    }\n",
       "\n",
       "    .dataframe thead th {\n",
       "        text-align: right;\n",
       "    }\n",
       "</style>\n",
       "<table border=\"1\" class=\"dataframe\">\n",
       "  <thead>\n",
       "    <tr style=\"text-align: right;\">\n",
       "      <th></th>\n",
       "      <th>BeginDate</th>\n",
       "      <th>EndDate</th>\n",
       "      <th>Type</th>\n",
       "      <th>PaperlessBilling</th>\n",
       "      <th>PaymentMethod</th>\n",
       "      <th>MonthlyCharges</th>\n",
       "      <th>TotalCharges</th>\n",
       "      <th>gender</th>\n",
       "      <th>SeniorCitizen</th>\n",
       "      <th>Partner</th>\n",
       "      <th>Dependents</th>\n",
       "      <th>InternetService</th>\n",
       "      <th>OnlineSecurity</th>\n",
       "      <th>OnlineBackup</th>\n",
       "      <th>DeviceProtection</th>\n",
       "      <th>TechSupport</th>\n",
       "      <th>StreamingTV</th>\n",
       "      <th>StreamingMovies</th>\n",
       "      <th>MultipleLines</th>\n",
       "    </tr>\n",
       "    <tr>\n",
       "      <th>customerID</th>\n",
       "      <th></th>\n",
       "      <th></th>\n",
       "      <th></th>\n",
       "      <th></th>\n",
       "      <th></th>\n",
       "      <th></th>\n",
       "      <th></th>\n",
       "      <th></th>\n",
       "      <th></th>\n",
       "      <th></th>\n",
       "      <th></th>\n",
       "      <th></th>\n",
       "      <th></th>\n",
       "      <th></th>\n",
       "      <th></th>\n",
       "      <th></th>\n",
       "      <th></th>\n",
       "      <th></th>\n",
       "      <th></th>\n",
       "    </tr>\n",
       "  </thead>\n",
       "  <tbody>\n",
       "    <tr>\n",
       "      <th>7590-VHVEG</th>\n",
       "      <td>2020-01-01</td>\n",
       "      <td>No</td>\n",
       "      <td>Month-to-month</td>\n",
       "      <td>Yes</td>\n",
       "      <td>Electronic check</td>\n",
       "      <td>29.85</td>\n",
       "      <td>31.04</td>\n",
       "      <td>Female</td>\n",
       "      <td>0</td>\n",
       "      <td>Yes</td>\n",
       "      <td>No</td>\n",
       "      <td>DSL</td>\n",
       "      <td>No</td>\n",
       "      <td>Yes</td>\n",
       "      <td>No</td>\n",
       "      <td>No</td>\n",
       "      <td>No</td>\n",
       "      <td>No</td>\n",
       "      <td>No</td>\n",
       "    </tr>\n",
       "    <tr>\n",
       "      <th>5575-GNVDE</th>\n",
       "      <td>2017-04-01</td>\n",
       "      <td>No</td>\n",
       "      <td>One year</td>\n",
       "      <td>No</td>\n",
       "      <td>Mailed check</td>\n",
       "      <td>56.95</td>\n",
       "      <td>2071.84</td>\n",
       "      <td>Male</td>\n",
       "      <td>0</td>\n",
       "      <td>No</td>\n",
       "      <td>No</td>\n",
       "      <td>DSL</td>\n",
       "      <td>Yes</td>\n",
       "      <td>No</td>\n",
       "      <td>Yes</td>\n",
       "      <td>No</td>\n",
       "      <td>No</td>\n",
       "      <td>No</td>\n",
       "      <td>No</td>\n",
       "    </tr>\n",
       "    <tr>\n",
       "      <th>3668-QPYBK</th>\n",
       "      <td>2019-10-01</td>\n",
       "      <td>No</td>\n",
       "      <td>Month-to-month</td>\n",
       "      <td>Yes</td>\n",
       "      <td>Mailed check</td>\n",
       "      <td>53.85</td>\n",
       "      <td>226.17</td>\n",
       "      <td>Male</td>\n",
       "      <td>0</td>\n",
       "      <td>No</td>\n",
       "      <td>No</td>\n",
       "      <td>DSL</td>\n",
       "      <td>Yes</td>\n",
       "      <td>Yes</td>\n",
       "      <td>No</td>\n",
       "      <td>No</td>\n",
       "      <td>No</td>\n",
       "      <td>No</td>\n",
       "      <td>No</td>\n",
       "    </tr>\n",
       "    <tr>\n",
       "      <th>7795-CFOCW</th>\n",
       "      <td>2016-05-01</td>\n",
       "      <td>No</td>\n",
       "      <td>One year</td>\n",
       "      <td>No</td>\n",
       "      <td>Bank transfer (automatic)</td>\n",
       "      <td>42.30</td>\n",
       "      <td>1960.6</td>\n",
       "      <td>Male</td>\n",
       "      <td>0</td>\n",
       "      <td>No</td>\n",
       "      <td>No</td>\n",
       "      <td>DSL</td>\n",
       "      <td>Yes</td>\n",
       "      <td>No</td>\n",
       "      <td>Yes</td>\n",
       "      <td>Yes</td>\n",
       "      <td>No</td>\n",
       "      <td>No</td>\n",
       "      <td>No</td>\n",
       "    </tr>\n",
       "    <tr>\n",
       "      <th>9237-HQITU</th>\n",
       "      <td>2019-09-01</td>\n",
       "      <td>No</td>\n",
       "      <td>Month-to-month</td>\n",
       "      <td>Yes</td>\n",
       "      <td>Electronic check</td>\n",
       "      <td>70.70</td>\n",
       "      <td>353.5</td>\n",
       "      <td>Female</td>\n",
       "      <td>0</td>\n",
       "      <td>No</td>\n",
       "      <td>No</td>\n",
       "      <td>Fiber optic</td>\n",
       "      <td>No</td>\n",
       "      <td>No</td>\n",
       "      <td>No</td>\n",
       "      <td>No</td>\n",
       "      <td>No</td>\n",
       "      <td>No</td>\n",
       "      <td>No</td>\n",
       "    </tr>\n",
       "  </tbody>\n",
       "</table>\n",
       "</div>"
      ],
      "text/plain": [
       "             BeginDate EndDate            Type PaperlessBilling  \\\n",
       "customerID                                                        \n",
       "7590-VHVEG  2020-01-01      No  Month-to-month              Yes   \n",
       "5575-GNVDE  2017-04-01      No        One year               No   \n",
       "3668-QPYBK  2019-10-01      No  Month-to-month              Yes   \n",
       "7795-CFOCW  2016-05-01      No        One year               No   \n",
       "9237-HQITU  2019-09-01      No  Month-to-month              Yes   \n",
       "\n",
       "                        PaymentMethod  MonthlyCharges TotalCharges  gender  \\\n",
       "customerID                                                                   \n",
       "7590-VHVEG           Electronic check           29.85        31.04  Female   \n",
       "5575-GNVDE               Mailed check           56.95      2071.84    Male   \n",
       "3668-QPYBK               Mailed check           53.85       226.17    Male   \n",
       "7795-CFOCW  Bank transfer (automatic)           42.30       1960.6    Male   \n",
       "9237-HQITU           Electronic check           70.70        353.5  Female   \n",
       "\n",
       "            SeniorCitizen Partner Dependents InternetService OnlineSecurity  \\\n",
       "customerID                                                                    \n",
       "7590-VHVEG              0     Yes         No             DSL             No   \n",
       "5575-GNVDE              0      No         No             DSL            Yes   \n",
       "3668-QPYBK              0      No         No             DSL            Yes   \n",
       "7795-CFOCW              0      No         No             DSL            Yes   \n",
       "9237-HQITU              0      No         No     Fiber optic             No   \n",
       "\n",
       "           OnlineBackup DeviceProtection TechSupport StreamingTV  \\\n",
       "customerID                                                         \n",
       "7590-VHVEG          Yes               No          No          No   \n",
       "5575-GNVDE           No              Yes          No          No   \n",
       "3668-QPYBK          Yes               No          No          No   \n",
       "7795-CFOCW           No              Yes         Yes          No   \n",
       "9237-HQITU           No               No          No          No   \n",
       "\n",
       "           StreamingMovies MultipleLines  \n",
       "customerID                                \n",
       "7590-VHVEG              No            No  \n",
       "5575-GNVDE              No            No  \n",
       "3668-QPYBK              No            No  \n",
       "7795-CFOCW              No            No  \n",
       "9237-HQITU              No            No  "
      ]
     },
     "execution_count": 7,
     "metadata": {},
     "output_type": "execute_result"
    }
   ],
   "source": [
    "data_full.head()"
   ]
  },
  {
   "cell_type": "code",
   "execution_count": 8,
   "id": "8fbc7b7f",
   "metadata": {
    "scrolled": false
   },
   "outputs": [
    {
     "name": "stdout",
     "output_type": "stream",
     "text": [
      "<class 'pandas.core.frame.DataFrame'>\n",
      "Index: 7043 entries, 7590-VHVEG to 3186-AJIEK\n",
      "Data columns (total 19 columns):\n",
      " #   Column            Non-Null Count  Dtype  \n",
      "---  ------            --------------  -----  \n",
      " 0   BeginDate         7043 non-null   object \n",
      " 1   EndDate           7043 non-null   object \n",
      " 2   Type              7043 non-null   object \n",
      " 3   PaperlessBilling  7043 non-null   object \n",
      " 4   PaymentMethod     7043 non-null   object \n",
      " 5   MonthlyCharges    7043 non-null   float64\n",
      " 6   TotalCharges      7043 non-null   object \n",
      " 7   gender            7043 non-null   object \n",
      " 8   SeniorCitizen     7043 non-null   int64  \n",
      " 9   Partner           7043 non-null   object \n",
      " 10  Dependents        7043 non-null   object \n",
      " 11  InternetService   7043 non-null   object \n",
      " 12  OnlineSecurity    7043 non-null   object \n",
      " 13  OnlineBackup      7043 non-null   object \n",
      " 14  DeviceProtection  7043 non-null   object \n",
      " 15  TechSupport       7043 non-null   object \n",
      " 16  StreamingTV       7043 non-null   object \n",
      " 17  StreamingMovies   7043 non-null   object \n",
      " 18  MultipleLines     7043 non-null   object \n",
      "dtypes: float64(1), int64(1), object(17)\n",
      "memory usage: 1.3+ MB\n"
     ]
    }
   ],
   "source": [
    "#data_full['BeginDate'] = datetime.strptime(data_full['BeginDate'], '%Y-%m-%d') \n",
    "data_full.info()"
   ]
  },
  {
   "cell_type": "markdown",
   "id": "9c774431",
   "metadata": {},
   "source": [
    "## 2.1 Обработка дубликатов "
   ]
  },
  {
   "cell_type": "markdown",
   "id": "9d5a7f5d",
   "metadata": {},
   "source": [
    "Для начала проверю данные на дубликаты, не записан ли один клиент дважды "
   ]
  },
  {
   "cell_type": "code",
   "execution_count": 9,
   "id": "674ecccb",
   "metadata": {
    "scrolled": true
   },
   "outputs": [
    {
     "data": {
      "text/plain": [
       "4"
      ]
     },
     "execution_count": 9,
     "metadata": {},
     "output_type": "execute_result"
    }
   ],
   "source": [
    "data_full.duplicated().sum()"
   ]
  },
  {
   "cell_type": "markdown",
   "id": "bff2ca8e",
   "metadata": {},
   "source": [
    "Обнаружил всего 4 дубликата из более чем 7 тысяч образцов, просто их удалю"
   ]
  },
  {
   "cell_type": "code",
   "execution_count": 10,
   "id": "3b09122f",
   "metadata": {},
   "outputs": [],
   "source": [
    "data_full = data_full.drop_duplicates()\n",
    "#print()"
   ]
  },
  {
   "cell_type": "markdown",
   "id": "dd2ad2c1",
   "metadata": {},
   "source": [
    "## 2.2 Создание нового признака "
   ]
  },
  {
   "cell_type": "markdown",
   "id": "3fc1479c",
   "metadata": {},
   "source": [
    "Чем больше инфомации будет переданно модели, тем потециально качественее будет результат, поэтому из имеющихся данных создам новый признак duration (как долго человек является или был клиентом банка)"
   ]
  },
  {
   "cell_type": "code",
   "execution_count": 11,
   "id": "a7c03114",
   "metadata": {},
   "outputs": [
    {
     "data": {
      "text/plain": [
       "datetime.datetime(2020, 2, 1, 0, 0)"
      ]
     },
     "execution_count": 11,
     "metadata": {},
     "output_type": "execute_result"
    }
   ],
   "source": [
    "#Переменная с датой выгрузки данных \n",
    "c_date = datetime.strptime('2020-02-01', '%Y-%m-%d')\n",
    "c_date"
   ]
  },
  {
   "cell_type": "code",
   "execution_count": 12,
   "id": "40130302",
   "metadata": {},
   "outputs": [],
   "source": [
    "def create_duration(data_full):\n",
    "    if data_full['EndDate'] == 'No':\n",
    "        return c_date - datetime.strptime(data_full['BeginDate'], '%Y-%m-%d')\n",
    "    else:\n",
    "        return datetime.strptime(data_full['EndDate'], '%Y-%m-%d') - datetime.strptime(data_full['BeginDate'], '%Y-%m-%d')"
   ]
  },
  {
   "cell_type": "code",
   "execution_count": 13,
   "id": "d06002fe",
   "metadata": {
    "scrolled": true
   },
   "outputs": [
    {
     "data": {
      "text/html": [
       "<div>\n",
       "<style scoped>\n",
       "    .dataframe tbody tr th:only-of-type {\n",
       "        vertical-align: middle;\n",
       "    }\n",
       "\n",
       "    .dataframe tbody tr th {\n",
       "        vertical-align: top;\n",
       "    }\n",
       "\n",
       "    .dataframe thead th {\n",
       "        text-align: right;\n",
       "    }\n",
       "</style>\n",
       "<table border=\"1\" class=\"dataframe\">\n",
       "  <thead>\n",
       "    <tr style=\"text-align: right;\">\n",
       "      <th></th>\n",
       "      <th>BeginDate</th>\n",
       "      <th>EndDate</th>\n",
       "      <th>Type</th>\n",
       "      <th>PaperlessBilling</th>\n",
       "      <th>PaymentMethod</th>\n",
       "      <th>MonthlyCharges</th>\n",
       "      <th>TotalCharges</th>\n",
       "      <th>gender</th>\n",
       "      <th>SeniorCitizen</th>\n",
       "      <th>Partner</th>\n",
       "      <th>Dependents</th>\n",
       "      <th>InternetService</th>\n",
       "      <th>OnlineSecurity</th>\n",
       "      <th>OnlineBackup</th>\n",
       "      <th>DeviceProtection</th>\n",
       "      <th>TechSupport</th>\n",
       "      <th>StreamingTV</th>\n",
       "      <th>StreamingMovies</th>\n",
       "      <th>MultipleLines</th>\n",
       "      <th>duration</th>\n",
       "    </tr>\n",
       "    <tr>\n",
       "      <th>customerID</th>\n",
       "      <th></th>\n",
       "      <th></th>\n",
       "      <th></th>\n",
       "      <th></th>\n",
       "      <th></th>\n",
       "      <th></th>\n",
       "      <th></th>\n",
       "      <th></th>\n",
       "      <th></th>\n",
       "      <th></th>\n",
       "      <th></th>\n",
       "      <th></th>\n",
       "      <th></th>\n",
       "      <th></th>\n",
       "      <th></th>\n",
       "      <th></th>\n",
       "      <th></th>\n",
       "      <th></th>\n",
       "      <th></th>\n",
       "      <th></th>\n",
       "    </tr>\n",
       "  </thead>\n",
       "  <tbody>\n",
       "    <tr>\n",
       "      <th>7590-VHVEG</th>\n",
       "      <td>2020-01-01</td>\n",
       "      <td>No</td>\n",
       "      <td>Month-to-month</td>\n",
       "      <td>Yes</td>\n",
       "      <td>Electronic check</td>\n",
       "      <td>29.85</td>\n",
       "      <td>31.04</td>\n",
       "      <td>Female</td>\n",
       "      <td>0</td>\n",
       "      <td>Yes</td>\n",
       "      <td>No</td>\n",
       "      <td>DSL</td>\n",
       "      <td>No</td>\n",
       "      <td>Yes</td>\n",
       "      <td>No</td>\n",
       "      <td>No</td>\n",
       "      <td>No</td>\n",
       "      <td>No</td>\n",
       "      <td>No</td>\n",
       "      <td>31 days</td>\n",
       "    </tr>\n",
       "    <tr>\n",
       "      <th>5575-GNVDE</th>\n",
       "      <td>2017-04-01</td>\n",
       "      <td>No</td>\n",
       "      <td>One year</td>\n",
       "      <td>No</td>\n",
       "      <td>Mailed check</td>\n",
       "      <td>56.95</td>\n",
       "      <td>2071.84</td>\n",
       "      <td>Male</td>\n",
       "      <td>0</td>\n",
       "      <td>No</td>\n",
       "      <td>No</td>\n",
       "      <td>DSL</td>\n",
       "      <td>Yes</td>\n",
       "      <td>No</td>\n",
       "      <td>Yes</td>\n",
       "      <td>No</td>\n",
       "      <td>No</td>\n",
       "      <td>No</td>\n",
       "      <td>No</td>\n",
       "      <td>1036 days</td>\n",
       "    </tr>\n",
       "    <tr>\n",
       "      <th>3668-QPYBK</th>\n",
       "      <td>2019-10-01</td>\n",
       "      <td>No</td>\n",
       "      <td>Month-to-month</td>\n",
       "      <td>Yes</td>\n",
       "      <td>Mailed check</td>\n",
       "      <td>53.85</td>\n",
       "      <td>226.17</td>\n",
       "      <td>Male</td>\n",
       "      <td>0</td>\n",
       "      <td>No</td>\n",
       "      <td>No</td>\n",
       "      <td>DSL</td>\n",
       "      <td>Yes</td>\n",
       "      <td>Yes</td>\n",
       "      <td>No</td>\n",
       "      <td>No</td>\n",
       "      <td>No</td>\n",
       "      <td>No</td>\n",
       "      <td>No</td>\n",
       "      <td>123 days</td>\n",
       "    </tr>\n",
       "  </tbody>\n",
       "</table>\n",
       "</div>"
      ],
      "text/plain": [
       "             BeginDate EndDate            Type PaperlessBilling  \\\n",
       "customerID                                                        \n",
       "7590-VHVEG  2020-01-01      No  Month-to-month              Yes   \n",
       "5575-GNVDE  2017-04-01      No        One year               No   \n",
       "3668-QPYBK  2019-10-01      No  Month-to-month              Yes   \n",
       "\n",
       "               PaymentMethod  MonthlyCharges TotalCharges  gender  \\\n",
       "customerID                                                          \n",
       "7590-VHVEG  Electronic check           29.85        31.04  Female   \n",
       "5575-GNVDE      Mailed check           56.95      2071.84    Male   \n",
       "3668-QPYBK      Mailed check           53.85       226.17    Male   \n",
       "\n",
       "            SeniorCitizen Partner Dependents InternetService OnlineSecurity  \\\n",
       "customerID                                                                    \n",
       "7590-VHVEG              0     Yes         No             DSL             No   \n",
       "5575-GNVDE              0      No         No             DSL            Yes   \n",
       "3668-QPYBK              0      No         No             DSL            Yes   \n",
       "\n",
       "           OnlineBackup DeviceProtection TechSupport StreamingTV  \\\n",
       "customerID                                                         \n",
       "7590-VHVEG          Yes               No          No          No   \n",
       "5575-GNVDE           No              Yes          No          No   \n",
       "3668-QPYBK          Yes               No          No          No   \n",
       "\n",
       "           StreamingMovies MultipleLines  duration  \n",
       "customerID                                          \n",
       "7590-VHVEG              No            No   31 days  \n",
       "5575-GNVDE              No            No 1036 days  \n",
       "3668-QPYBK              No            No  123 days  "
      ]
     },
     "execution_count": 13,
     "metadata": {},
     "output_type": "execute_result"
    }
   ],
   "source": [
    "data_full['duration'] = data_full.apply(create_duration, axis=1)\n",
    "\n",
    "data_full.head(3)"
   ]
  },
  {
   "cell_type": "markdown",
   "id": "be0ba415",
   "metadata": {},
   "source": [
    "## 2.3 Изменения типа данных\n",
    "\n",
    "Так же нужно изменить тип данных численных столбца, чтобы далее они корректно обработались."
   ]
  },
  {
   "cell_type": "code",
   "execution_count": 14,
   "id": "dccc4a04",
   "metadata": {
    "scrolled": true
   },
   "outputs": [
    {
     "name": "stdout",
     "output_type": "stream",
     "text": [
      "<class 'pandas.core.frame.DataFrame'>\n",
      "Index: 7039 entries, 7590-VHVEG to 3186-AJIEK\n",
      "Data columns (total 20 columns):\n",
      " #   Column            Non-Null Count  Dtype          \n",
      "---  ------            --------------  -----          \n",
      " 0   BeginDate         7039 non-null   object         \n",
      " 1   EndDate           7039 non-null   object         \n",
      " 2   Type              7039 non-null   object         \n",
      " 3   PaperlessBilling  7039 non-null   object         \n",
      " 4   PaymentMethod     7039 non-null   object         \n",
      " 5   MonthlyCharges    7039 non-null   float64        \n",
      " 6   TotalCharges      7039 non-null   object         \n",
      " 7   gender            7039 non-null   object         \n",
      " 8   SeniorCitizen     7039 non-null   int64          \n",
      " 9   Partner           7039 non-null   object         \n",
      " 10  Dependents        7039 non-null   object         \n",
      " 11  InternetService   7039 non-null   object         \n",
      " 12  OnlineSecurity    7039 non-null   object         \n",
      " 13  OnlineBackup      7039 non-null   object         \n",
      " 14  DeviceProtection  7039 non-null   object         \n",
      " 15  TechSupport       7039 non-null   object         \n",
      " 16  StreamingTV       7039 non-null   object         \n",
      " 17  StreamingMovies   7039 non-null   object         \n",
      " 18  MultipleLines     7039 non-null   object         \n",
      " 19  duration          7039 non-null   timedelta64[ns]\n",
      "dtypes: float64(1), int64(1), object(17), timedelta64[ns](1)\n",
      "memory usage: 1.1+ MB\n"
     ]
    }
   ],
   "source": [
    "data_full.info()"
   ]
  },
  {
   "cell_type": "markdown",
   "id": "0e07be1c",
   "metadata": {},
   "source": [
    "Необходимо преобразовать duration в int и TotalCharges в float. В TotalCharges обнаружена аномалия ввиде пустого значения их 11 и заменю на ноль "
   ]
  },
  {
   "cell_type": "code",
   "execution_count": 15,
   "id": "7aa22365",
   "metadata": {
    "scrolled": true
   },
   "outputs": [
    {
     "data": {
      "text/plain": [
       "BeginDate           11\n",
       "EndDate             11\n",
       "Type                11\n",
       "PaperlessBilling    11\n",
       "PaymentMethod       11\n",
       "MonthlyCharges      11\n",
       "TotalCharges        11\n",
       "gender              11\n",
       "SeniorCitizen       11\n",
       "Partner             11\n",
       "Dependents          11\n",
       "InternetService     11\n",
       "OnlineSecurity      11\n",
       "OnlineBackup        11\n",
       "DeviceProtection    11\n",
       "TechSupport         11\n",
       "StreamingTV         11\n",
       "StreamingMovies     11\n",
       "MultipleLines       11\n",
       "duration            11\n",
       "dtype: int64"
      ]
     },
     "execution_count": 15,
     "metadata": {},
     "output_type": "execute_result"
    }
   ],
   "source": [
    "data_full[data_full['TotalCharges']==' '].count()"
   ]
  },
  {
   "cell_type": "code",
   "execution_count": 16,
   "id": "7e82d3af",
   "metadata": {},
   "outputs": [],
   "source": [
    "data_full['TotalCharges'].loc[data_full['TotalCharges'] == ' '] = '0'"
   ]
  },
  {
   "cell_type": "code",
   "execution_count": 17,
   "id": "704e4899",
   "metadata": {},
   "outputs": [],
   "source": [
    "data_full['duration'] = data_full['duration'].dt.days #дата в int\n",
    "data_full['TotalCharges'] = data_full['TotalCharges'].astype('float64')"
   ]
  },
  {
   "cell_type": "code",
   "execution_count": 18,
   "id": "1814fd29",
   "metadata": {},
   "outputs": [
    {
     "name": "stdout",
     "output_type": "stream",
     "text": [
      "<class 'pandas.core.frame.DataFrame'>\n",
      "Index: 7039 entries, 7590-VHVEG to 3186-AJIEK\n",
      "Data columns (total 20 columns):\n",
      " #   Column            Non-Null Count  Dtype  \n",
      "---  ------            --------------  -----  \n",
      " 0   BeginDate         7039 non-null   object \n",
      " 1   EndDate           7039 non-null   object \n",
      " 2   Type              7039 non-null   object \n",
      " 3   PaperlessBilling  7039 non-null   object \n",
      " 4   PaymentMethod     7039 non-null   object \n",
      " 5   MonthlyCharges    7039 non-null   float64\n",
      " 6   TotalCharges      7039 non-null   float64\n",
      " 7   gender            7039 non-null   object \n",
      " 8   SeniorCitizen     7039 non-null   int64  \n",
      " 9   Partner           7039 non-null   object \n",
      " 10  Dependents        7039 non-null   object \n",
      " 11  InternetService   7039 non-null   object \n",
      " 12  OnlineSecurity    7039 non-null   object \n",
      " 13  OnlineBackup      7039 non-null   object \n",
      " 14  DeviceProtection  7039 non-null   object \n",
      " 15  TechSupport       7039 non-null   object \n",
      " 16  StreamingTV       7039 non-null   object \n",
      " 17  StreamingMovies   7039 non-null   object \n",
      " 18  MultipleLines     7039 non-null   object \n",
      " 19  duration          7039 non-null   int64  \n",
      "dtypes: float64(2), int64(2), object(16)\n",
      "memory usage: 1.1+ MB\n"
     ]
    }
   ],
   "source": [
    "data_full.info()"
   ]
  },
  {
   "cell_type": "markdown",
   "id": "c6fa2fd8",
   "metadata": {},
   "source": [
    "## 2.4 Создание таргета"
   ]
  },
  {
   "cell_type": "markdown",
   "id": "81367b40",
   "metadata": {},
   "source": [
    "Теперь необходимо создать сам таргет. Необходимо обнаружить клиентов которые ушли из компании, поэтому в столбце таргет 1 будет у клиетов у которых в EndDate не No."
   ]
  },
  {
   "cell_type": "code",
   "execution_count": 19,
   "id": "3f0d5d92",
   "metadata": {
    "scrolled": false
   },
   "outputs": [
    {
     "data": {
      "text/html": [
       "<div>\n",
       "<style scoped>\n",
       "    .dataframe tbody tr th:only-of-type {\n",
       "        vertical-align: middle;\n",
       "    }\n",
       "\n",
       "    .dataframe tbody tr th {\n",
       "        vertical-align: top;\n",
       "    }\n",
       "\n",
       "    .dataframe thead th {\n",
       "        text-align: right;\n",
       "    }\n",
       "</style>\n",
       "<table border=\"1\" class=\"dataframe\">\n",
       "  <thead>\n",
       "    <tr style=\"text-align: right;\">\n",
       "      <th></th>\n",
       "      <th>BeginDate</th>\n",
       "      <th>EndDate</th>\n",
       "      <th>Type</th>\n",
       "      <th>PaperlessBilling</th>\n",
       "      <th>PaymentMethod</th>\n",
       "      <th>MonthlyCharges</th>\n",
       "      <th>TotalCharges</th>\n",
       "      <th>gender</th>\n",
       "      <th>SeniorCitizen</th>\n",
       "      <th>Partner</th>\n",
       "      <th>...</th>\n",
       "      <th>InternetService</th>\n",
       "      <th>OnlineSecurity</th>\n",
       "      <th>OnlineBackup</th>\n",
       "      <th>DeviceProtection</th>\n",
       "      <th>TechSupport</th>\n",
       "      <th>StreamingTV</th>\n",
       "      <th>StreamingMovies</th>\n",
       "      <th>MultipleLines</th>\n",
       "      <th>duration</th>\n",
       "      <th>target</th>\n",
       "    </tr>\n",
       "    <tr>\n",
       "      <th>customerID</th>\n",
       "      <th></th>\n",
       "      <th></th>\n",
       "      <th></th>\n",
       "      <th></th>\n",
       "      <th></th>\n",
       "      <th></th>\n",
       "      <th></th>\n",
       "      <th></th>\n",
       "      <th></th>\n",
       "      <th></th>\n",
       "      <th></th>\n",
       "      <th></th>\n",
       "      <th></th>\n",
       "      <th></th>\n",
       "      <th></th>\n",
       "      <th></th>\n",
       "      <th></th>\n",
       "      <th></th>\n",
       "      <th></th>\n",
       "      <th></th>\n",
       "      <th></th>\n",
       "    </tr>\n",
       "  </thead>\n",
       "  <tbody>\n",
       "    <tr>\n",
       "      <th>7590-VHVEG</th>\n",
       "      <td>2020-01-01</td>\n",
       "      <td>No</td>\n",
       "      <td>Month-to-month</td>\n",
       "      <td>Yes</td>\n",
       "      <td>Electronic check</td>\n",
       "      <td>29.85</td>\n",
       "      <td>31.04</td>\n",
       "      <td>Female</td>\n",
       "      <td>0</td>\n",
       "      <td>Yes</td>\n",
       "      <td>...</td>\n",
       "      <td>DSL</td>\n",
       "      <td>No</td>\n",
       "      <td>Yes</td>\n",
       "      <td>No</td>\n",
       "      <td>No</td>\n",
       "      <td>No</td>\n",
       "      <td>No</td>\n",
       "      <td>No</td>\n",
       "      <td>31</td>\n",
       "      <td>0</td>\n",
       "    </tr>\n",
       "    <tr>\n",
       "      <th>5575-GNVDE</th>\n",
       "      <td>2017-04-01</td>\n",
       "      <td>No</td>\n",
       "      <td>One year</td>\n",
       "      <td>No</td>\n",
       "      <td>Mailed check</td>\n",
       "      <td>56.95</td>\n",
       "      <td>2071.84</td>\n",
       "      <td>Male</td>\n",
       "      <td>0</td>\n",
       "      <td>No</td>\n",
       "      <td>...</td>\n",
       "      <td>DSL</td>\n",
       "      <td>Yes</td>\n",
       "      <td>No</td>\n",
       "      <td>Yes</td>\n",
       "      <td>No</td>\n",
       "      <td>No</td>\n",
       "      <td>No</td>\n",
       "      <td>No</td>\n",
       "      <td>1036</td>\n",
       "      <td>0</td>\n",
       "    </tr>\n",
       "    <tr>\n",
       "      <th>3668-QPYBK</th>\n",
       "      <td>2019-10-01</td>\n",
       "      <td>No</td>\n",
       "      <td>Month-to-month</td>\n",
       "      <td>Yes</td>\n",
       "      <td>Mailed check</td>\n",
       "      <td>53.85</td>\n",
       "      <td>226.17</td>\n",
       "      <td>Male</td>\n",
       "      <td>0</td>\n",
       "      <td>No</td>\n",
       "      <td>...</td>\n",
       "      <td>DSL</td>\n",
       "      <td>Yes</td>\n",
       "      <td>Yes</td>\n",
       "      <td>No</td>\n",
       "      <td>No</td>\n",
       "      <td>No</td>\n",
       "      <td>No</td>\n",
       "      <td>No</td>\n",
       "      <td>123</td>\n",
       "      <td>0</td>\n",
       "    </tr>\n",
       "  </tbody>\n",
       "</table>\n",
       "<p>3 rows × 21 columns</p>\n",
       "</div>"
      ],
      "text/plain": [
       "             BeginDate EndDate            Type PaperlessBilling  \\\n",
       "customerID                                                        \n",
       "7590-VHVEG  2020-01-01      No  Month-to-month              Yes   \n",
       "5575-GNVDE  2017-04-01      No        One year               No   \n",
       "3668-QPYBK  2019-10-01      No  Month-to-month              Yes   \n",
       "\n",
       "               PaymentMethod  MonthlyCharges  TotalCharges  gender  \\\n",
       "customerID                                                           \n",
       "7590-VHVEG  Electronic check           29.85         31.04  Female   \n",
       "5575-GNVDE      Mailed check           56.95       2071.84    Male   \n",
       "3668-QPYBK      Mailed check           53.85        226.17    Male   \n",
       "\n",
       "            SeniorCitizen Partner  ... InternetService OnlineSecurity  \\\n",
       "customerID                         ...                                  \n",
       "7590-VHVEG              0     Yes  ...             DSL             No   \n",
       "5575-GNVDE              0      No  ...             DSL            Yes   \n",
       "3668-QPYBK              0      No  ...             DSL            Yes   \n",
       "\n",
       "           OnlineBackup DeviceProtection TechSupport StreamingTV  \\\n",
       "customerID                                                         \n",
       "7590-VHVEG          Yes               No          No          No   \n",
       "5575-GNVDE           No              Yes          No          No   \n",
       "3668-QPYBK          Yes               No          No          No   \n",
       "\n",
       "           StreamingMovies MultipleLines duration  target  \n",
       "customerID                                                 \n",
       "7590-VHVEG              No            No       31       0  \n",
       "5575-GNVDE              No            No     1036       0  \n",
       "3668-QPYBK              No            No      123       0  \n",
       "\n",
       "[3 rows x 21 columns]"
      ]
     },
     "metadata": {},
     "output_type": "display_data"
    },
    {
     "data": {
      "text/html": [
       "<div>\n",
       "<style scoped>\n",
       "    .dataframe tbody tr th:only-of-type {\n",
       "        vertical-align: middle;\n",
       "    }\n",
       "\n",
       "    .dataframe tbody tr th {\n",
       "        vertical-align: top;\n",
       "    }\n",
       "\n",
       "    .dataframe thead th {\n",
       "        text-align: right;\n",
       "    }\n",
       "</style>\n",
       "<table border=\"1\" class=\"dataframe\">\n",
       "  <thead>\n",
       "    <tr style=\"text-align: right;\">\n",
       "      <th></th>\n",
       "      <th>BeginDate</th>\n",
       "      <th>EndDate</th>\n",
       "      <th>Type</th>\n",
       "      <th>PaperlessBilling</th>\n",
       "      <th>PaymentMethod</th>\n",
       "      <th>MonthlyCharges</th>\n",
       "      <th>TotalCharges</th>\n",
       "      <th>gender</th>\n",
       "      <th>SeniorCitizen</th>\n",
       "      <th>Partner</th>\n",
       "      <th>...</th>\n",
       "      <th>InternetService</th>\n",
       "      <th>OnlineSecurity</th>\n",
       "      <th>OnlineBackup</th>\n",
       "      <th>DeviceProtection</th>\n",
       "      <th>TechSupport</th>\n",
       "      <th>StreamingTV</th>\n",
       "      <th>StreamingMovies</th>\n",
       "      <th>MultipleLines</th>\n",
       "      <th>duration</th>\n",
       "      <th>target</th>\n",
       "    </tr>\n",
       "    <tr>\n",
       "      <th>customerID</th>\n",
       "      <th></th>\n",
       "      <th></th>\n",
       "      <th></th>\n",
       "      <th></th>\n",
       "      <th></th>\n",
       "      <th></th>\n",
       "      <th></th>\n",
       "      <th></th>\n",
       "      <th></th>\n",
       "      <th></th>\n",
       "      <th></th>\n",
       "      <th></th>\n",
       "      <th></th>\n",
       "      <th></th>\n",
       "      <th></th>\n",
       "      <th></th>\n",
       "      <th></th>\n",
       "      <th></th>\n",
       "      <th></th>\n",
       "      <th></th>\n",
       "      <th></th>\n",
       "    </tr>\n",
       "  </thead>\n",
       "  <tbody>\n",
       "    <tr>\n",
       "      <th>6388-TABGU</th>\n",
       "      <td>2014-12-01</td>\n",
       "      <td>2017-05-01</td>\n",
       "      <td>One year</td>\n",
       "      <td>No</td>\n",
       "      <td>Bank transfer (automatic)</td>\n",
       "      <td>56.15</td>\n",
       "      <td>1628.35</td>\n",
       "      <td>Male</td>\n",
       "      <td>0</td>\n",
       "      <td>No</td>\n",
       "      <td>...</td>\n",
       "      <td>DSL</td>\n",
       "      <td>Yes</td>\n",
       "      <td>Yes</td>\n",
       "      <td>No</td>\n",
       "      <td>No</td>\n",
       "      <td>No</td>\n",
       "      <td>No</td>\n",
       "      <td>No</td>\n",
       "      <td>882</td>\n",
       "      <td>1</td>\n",
       "    </tr>\n",
       "    <tr>\n",
       "      <th>3655-SNQYZ</th>\n",
       "      <td>2014-05-01</td>\n",
       "      <td>2016-03-01</td>\n",
       "      <td>Two year</td>\n",
       "      <td>No</td>\n",
       "      <td>Credit card (automatic)</td>\n",
       "      <td>113.25</td>\n",
       "      <td>2491.50</td>\n",
       "      <td>Female</td>\n",
       "      <td>0</td>\n",
       "      <td>Yes</td>\n",
       "      <td>...</td>\n",
       "      <td>Fiber optic</td>\n",
       "      <td>Yes</td>\n",
       "      <td>Yes</td>\n",
       "      <td>Yes</td>\n",
       "      <td>Yes</td>\n",
       "      <td>Yes</td>\n",
       "      <td>Yes</td>\n",
       "      <td>Yes</td>\n",
       "      <td>670</td>\n",
       "      <td>1</td>\n",
       "    </tr>\n",
       "    <tr>\n",
       "      <th>6865-JZNKO</th>\n",
       "      <td>2017-08-01</td>\n",
       "      <td>2018-09-01</td>\n",
       "      <td>Month-to-month</td>\n",
       "      <td>Yes</td>\n",
       "      <td>Bank transfer (automatic)</td>\n",
       "      <td>55.30</td>\n",
       "      <td>726.09</td>\n",
       "      <td>Female</td>\n",
       "      <td>0</td>\n",
       "      <td>No</td>\n",
       "      <td>...</td>\n",
       "      <td>DSL</td>\n",
       "      <td>Yes</td>\n",
       "      <td>Yes</td>\n",
       "      <td>No</td>\n",
       "      <td>No</td>\n",
       "      <td>No</td>\n",
       "      <td>No</td>\n",
       "      <td>No</td>\n",
       "      <td>396</td>\n",
       "      <td>1</td>\n",
       "    </tr>\n",
       "  </tbody>\n",
       "</table>\n",
       "<p>3 rows × 21 columns</p>\n",
       "</div>"
      ],
      "text/plain": [
       "             BeginDate     EndDate            Type PaperlessBilling  \\\n",
       "customerID                                                            \n",
       "6388-TABGU  2014-12-01  2017-05-01        One year               No   \n",
       "3655-SNQYZ  2014-05-01  2016-03-01        Two year               No   \n",
       "6865-JZNKO  2017-08-01  2018-09-01  Month-to-month              Yes   \n",
       "\n",
       "                        PaymentMethod  MonthlyCharges  TotalCharges  gender  \\\n",
       "customerID                                                                    \n",
       "6388-TABGU  Bank transfer (automatic)           56.15       1628.35    Male   \n",
       "3655-SNQYZ    Credit card (automatic)          113.25       2491.50  Female   \n",
       "6865-JZNKO  Bank transfer (automatic)           55.30        726.09  Female   \n",
       "\n",
       "            SeniorCitizen Partner  ... InternetService OnlineSecurity  \\\n",
       "customerID                         ...                                  \n",
       "6388-TABGU              0      No  ...             DSL            Yes   \n",
       "3655-SNQYZ              0     Yes  ...     Fiber optic            Yes   \n",
       "6865-JZNKO              0      No  ...             DSL            Yes   \n",
       "\n",
       "           OnlineBackup DeviceProtection TechSupport StreamingTV  \\\n",
       "customerID                                                         \n",
       "6388-TABGU          Yes               No          No          No   \n",
       "3655-SNQYZ          Yes              Yes         Yes         Yes   \n",
       "6865-JZNKO          Yes               No          No          No   \n",
       "\n",
       "           StreamingMovies MultipleLines duration  target  \n",
       "customerID                                                 \n",
       "6388-TABGU              No            No      882       1  \n",
       "3655-SNQYZ             Yes           Yes      670       1  \n",
       "6865-JZNKO              No            No      396       1  \n",
       "\n",
       "[3 rows x 21 columns]"
      ]
     },
     "metadata": {},
     "output_type": "display_data"
    }
   ],
   "source": [
    "data_full['target'] = np.where(data_full['EndDate'] !='No', 1, 0)\n",
    "display (data_full.head(3))\n",
    "display (data_full.loc[data_full['target'] == 1].head(3))"
   ]
  },
  {
   "cell_type": "markdown",
   "id": "988a7956",
   "metadata": {},
   "source": [
    "## 2.5 Анализ корреляций"
   ]
  },
  {
   "cell_type": "code",
   "execution_count": 20,
   "id": "41ff2a99",
   "metadata": {
    "scrolled": false
   },
   "outputs": [
    {
     "name": "stdout",
     "output_type": "stream",
     "text": [
      "interval columns not set, guessing: ['MonthlyCharges', 'TotalCharges', 'SeniorCitizen', 'duration', 'target']\n"
     ]
    },
    {
     "data": {
      "text/plain": [
       "<AxesSubplot:>"
      ]
     },
     "execution_count": 20,
     "metadata": {},
     "output_type": "execute_result"
    },
    {
     "data": {
      "image/png": "[encoded data removed]",
      "text/plain": [
       "<Figure size 1200x800 with 1 Axes>"
      ]
     },
     "metadata": {},
     "output_type": "display_data"
    }
   ],
   "source": [
    "cor = data_full.phik_matrix()\n",
    "\n",
    "fig, ax = plt.subplots(figsize=(12, 8))\n",
    "sns.heatmap(cor, \n",
    "            linewidths=.5,\n",
    "            annot=True, \n",
    "            cmap='YlGnBu',\n",
    "            cbar=False,\n",
    "            fmt=\".1f\")\n",
    "            #height= 12)\n",
    "            #aspect= .6)"
   ]
  },
  {
   "cell_type": "markdown",
   "id": "e35875e4",
   "metadata": {},
   "source": [
    "Большинство значимых корреляций очевидны имеют очень понятную структуру\n",
    "- Интерент одна из самих дорогих услуг поэтому и ежемесячный платеж больше\n",
    "- Признык и дата EndDate, по пянтной причине полностью совпадают\n",
    "- Большинство интернет услуг связаны, скорее всего их берут в комплексе\n",
    "\n",
    "Интересные инсайды из анализа корреляций признаков:\n",
    "- От пола ничего не зависит \n",
    "- Наличие парнетра связано с длительностью пользования услугами компании\n",
    "- Так же длительность связана с таргетом, так что можно сказать, что новый признак был найден удачно"
   ]
  },
  {
   "cell_type": "markdown",
   "id": "b21870ce",
   "metadata": {},
   "source": [
    "## 2.6 Потрет пользователя "
   ]
  },
  {
   "cell_type": "markdown",
   "id": "703f8b8d",
   "metadata": {},
   "source": [
    "Перед началом использования модели необходимо понять, на чем будут основаваться её выводы. Для составление этого понимания необходимо определить пользователя который до сих пор являтся клиентом и который уже ушел от компании."
   ]
  },
  {
   "cell_type": "code",
   "execution_count": 21,
   "id": "8bf5e43e",
   "metadata": {},
   "outputs": [
    {
     "name": "stdout",
     "output_type": "stream",
     "text": [
      "(5938, 21) (1101, 21)\n"
     ]
    }
   ],
   "source": [
    "data_pos = data_full.loc[data_full['target'] == 0]\n",
    "data_neg = data_full.loc[data_full['target'] == 1]\n",
    "print (data_pos.shape, data_neg.shape)"
   ]
  },
  {
   "cell_type": "code",
   "execution_count": 22,
   "id": "9376235b",
   "metadata": {
    "scrolled": false
   },
   "outputs": [
    {
     "data": {
      "image/png": "[encoded data removed]",
      "text/plain": [
       "<Figure size 640x480 with 1 Axes>"
      ]
     },
     "metadata": {},
     "output_type": "display_data"
    }
   ],
   "source": [
    "plt.hist(data_pos['duration'], bins=50)\n",
    "plt.hist(data_neg['duration'], bins=20)\n",
    "\n",
    "plt.title('Гистограмам длительности пользования услугами компании', fontdict={'size':12})\n",
    "\n",
    "plt.show()"
   ]
  },
  {
   "cell_type": "markdown",
   "id": "5ce76c2b",
   "metadata": {},
   "source": [
    "Из-за разности объема выборок (ушедших клиентов в 5 раз меньше) точного наложения не вышло, но в качестве предварительного вывода можно сказать, что активнее клиенты уходят после 1.5-5 лет пользования нашим телекомом."
   ]
  },
  {
   "cell_type": "code",
   "execution_count": 23,
   "id": "e5835ee1",
   "metadata": {
    "scrolled": true
   },
   "outputs": [
    {
     "data": {
      "text/html": [
       "<div>\n",
       "<style scoped>\n",
       "    .dataframe tbody tr th:only-of-type {\n",
       "        vertical-align: middle;\n",
       "    }\n",
       "\n",
       "    .dataframe tbody tr th {\n",
       "        vertical-align: top;\n",
       "    }\n",
       "\n",
       "    .dataframe thead th {\n",
       "        text-align: right;\n",
       "    }\n",
       "</style>\n",
       "<table border=\"1\" class=\"dataframe\">\n",
       "  <thead>\n",
       "    <tr style=\"text-align: right;\">\n",
       "      <th></th>\n",
       "      <th>BeginDate</th>\n",
       "      <th>EndDate</th>\n",
       "      <th>Type</th>\n",
       "      <th>PaperlessBilling</th>\n",
       "      <th>PaymentMethod</th>\n",
       "      <th>MonthlyCharges</th>\n",
       "      <th>TotalCharges</th>\n",
       "      <th>gender</th>\n",
       "      <th>SeniorCitizen</th>\n",
       "      <th>Partner</th>\n",
       "      <th>...</th>\n",
       "      <th>InternetService</th>\n",
       "      <th>OnlineSecurity</th>\n",
       "      <th>OnlineBackup</th>\n",
       "      <th>DeviceProtection</th>\n",
       "      <th>TechSupport</th>\n",
       "      <th>StreamingTV</th>\n",
       "      <th>StreamingMovies</th>\n",
       "      <th>MultipleLines</th>\n",
       "      <th>duration</th>\n",
       "      <th>target</th>\n",
       "    </tr>\n",
       "    <tr>\n",
       "      <th>customerID</th>\n",
       "      <th></th>\n",
       "      <th></th>\n",
       "      <th></th>\n",
       "      <th></th>\n",
       "      <th></th>\n",
       "      <th></th>\n",
       "      <th></th>\n",
       "      <th></th>\n",
       "      <th></th>\n",
       "      <th></th>\n",
       "      <th></th>\n",
       "      <th></th>\n",
       "      <th></th>\n",
       "      <th></th>\n",
       "      <th></th>\n",
       "      <th></th>\n",
       "      <th></th>\n",
       "      <th></th>\n",
       "      <th></th>\n",
       "      <th></th>\n",
       "      <th></th>\n",
       "    </tr>\n",
       "  </thead>\n",
       "  <tbody>\n",
       "    <tr>\n",
       "      <th>6388-TABGU</th>\n",
       "      <td>2014-12-01</td>\n",
       "      <td>2017-05-01</td>\n",
       "      <td>One year</td>\n",
       "      <td>No</td>\n",
       "      <td>Bank transfer (automatic)</td>\n",
       "      <td>56.15</td>\n",
       "      <td>1628.35</td>\n",
       "      <td>Male</td>\n",
       "      <td>0</td>\n",
       "      <td>No</td>\n",
       "      <td>...</td>\n",
       "      <td>DSL</td>\n",
       "      <td>Yes</td>\n",
       "      <td>Yes</td>\n",
       "      <td>No</td>\n",
       "      <td>No</td>\n",
       "      <td>No</td>\n",
       "      <td>No</td>\n",
       "      <td>No</td>\n",
       "      <td>882</td>\n",
       "      <td>1</td>\n",
       "    </tr>\n",
       "    <tr>\n",
       "      <th>3655-SNQYZ</th>\n",
       "      <td>2014-05-01</td>\n",
       "      <td>2016-03-01</td>\n",
       "      <td>Two year</td>\n",
       "      <td>No</td>\n",
       "      <td>Credit card (automatic)</td>\n",
       "      <td>113.25</td>\n",
       "      <td>2491.50</td>\n",
       "      <td>Female</td>\n",
       "      <td>0</td>\n",
       "      <td>Yes</td>\n",
       "      <td>...</td>\n",
       "      <td>Fiber optic</td>\n",
       "      <td>Yes</td>\n",
       "      <td>Yes</td>\n",
       "      <td>Yes</td>\n",
       "      <td>Yes</td>\n",
       "      <td>Yes</td>\n",
       "      <td>Yes</td>\n",
       "      <td>Yes</td>\n",
       "      <td>670</td>\n",
       "      <td>1</td>\n",
       "    </tr>\n",
       "  </tbody>\n",
       "</table>\n",
       "<p>2 rows × 21 columns</p>\n",
       "</div>"
      ],
      "text/plain": [
       "             BeginDate     EndDate      Type PaperlessBilling  \\\n",
       "customerID                                                      \n",
       "6388-TABGU  2014-12-01  2017-05-01  One year               No   \n",
       "3655-SNQYZ  2014-05-01  2016-03-01  Two year               No   \n",
       "\n",
       "                        PaymentMethod  MonthlyCharges  TotalCharges  gender  \\\n",
       "customerID                                                                    \n",
       "6388-TABGU  Bank transfer (automatic)           56.15       1628.35    Male   \n",
       "3655-SNQYZ    Credit card (automatic)          113.25       2491.50  Female   \n",
       "\n",
       "            SeniorCitizen Partner  ... InternetService OnlineSecurity  \\\n",
       "customerID                         ...                                  \n",
       "6388-TABGU              0      No  ...             DSL            Yes   \n",
       "3655-SNQYZ              0     Yes  ...     Fiber optic            Yes   \n",
       "\n",
       "           OnlineBackup DeviceProtection TechSupport StreamingTV  \\\n",
       "customerID                                                         \n",
       "6388-TABGU          Yes               No          No          No   \n",
       "3655-SNQYZ          Yes              Yes         Yes         Yes   \n",
       "\n",
       "           StreamingMovies MultipleLines duration  target  \n",
       "customerID                                                 \n",
       "6388-TABGU              No            No      882       1  \n",
       "3655-SNQYZ             Yes           Yes      670       1  \n",
       "\n",
       "[2 rows x 21 columns]"
      ]
     },
     "metadata": {},
     "output_type": "display_data"
    },
    {
     "name": "stdout",
     "output_type": "stream",
     "text": [
      "Index(['BeginDate', 'EndDate', 'Type', 'PaperlessBilling', 'PaymentMethod',\n",
      "       'MonthlyCharges', 'TotalCharges', 'gender', 'SeniorCitizen', 'Partner',\n",
      "       'Dependents', 'InternetService', 'OnlineSecurity', 'OnlineBackup',\n",
      "       'DeviceProtection', 'TechSupport', 'StreamingTV', 'StreamingMovies',\n",
      "       'MultipleLines', 'duration', 'target'],\n",
      "      dtype='object')\n"
     ]
    }
   ],
   "source": [
    "display (data_neg.head(2))\n",
    "print (data_neg.columns)"
   ]
  },
  {
   "cell_type": "code",
   "execution_count": 24,
   "id": "3dd35a96",
   "metadata": {},
   "outputs": [],
   "source": [
    "uslugi = ['gender',\n",
    "          'PaperlessBilling', 'SeniorCitizen', 'Partner', \n",
    "          'Dependents', 'OnlineSecurity', 'OnlineBackup', \n",
    "          'DeviceProtection', 'TechSupport', 'StreamingTV', \n",
    "          'StreamingMovies', 'MultipleLines']\n",
    "#'gender', 'InternetService',"
   ]
  },
  {
   "cell_type": "code",
   "execution_count": 25,
   "id": "7779adea",
   "metadata": {},
   "outputs": [],
   "source": [
    "df_neg = data_neg[uslugi]\n",
    "df_neg = df_neg.replace(['No', 'Yes'],[0, 1])\n",
    "df_neg = df_neg.replace(['Male', 'Female'], [0,1])\n",
    "\n",
    "df_pos = data_neg[uslugi]\n",
    "df_pos = df_pos.replace(['No', 'Yes'],[0, 1])\n",
    "df_pos = df_pos.replace(['Male', 'Female'], [0,1])\n",
    "\n",
    "df_neg = df_neg.mean()\n",
    "df_pos = df_pos.mean()"
   ]
  },
  {
   "cell_type": "code",
   "execution_count": 26,
   "id": "665ef0ad",
   "metadata": {
    "scrolled": false
   },
   "outputs": [
    {
     "data": {
      "image/png": "[encoded data removed]",
      "text/plain": [
       "<Figure size 2000x900 with 1 Axes>"
      ]
     },
     "metadata": {},
     "output_type": "display_data"
    }
   ],
   "source": [
    "fig, ax = plt.subplots(figsize=(20,9))\n",
    "plt.bar(uslugi, df_neg.values, width = .8)\n",
    "plt.bar(uslugi, df_pos.values-1, width = .8)\n",
    "\n",
    "plt.show()"
   ]
  },
  {
   "cell_type": "markdown",
   "id": "b7d9d9fa",
   "metadata": {},
   "source": [
    "Из полученых графика можно составить примерный портер уходяжего пользователя:\n",
    "- Это НЕ пенсионер\n",
    "- Человек уже более года пользуется услугами телекома\n",
    "- Скорее всего у но есть партнер \n",
    "- Он менее активно пользуется дополнительными услугами телекома\n",
    "\n",
    "Выводы:\n",
    "\n",
    "- Можно предположить, что если пользователь будет определен моделью как уходящий, то стоит  предложить промокды или льготные условия на дополнительные сервисы. Так как уходя от нас он будет не просто менять опреатора связи или провайдера, но и терять широту услуг.\n",
    "\n",
    "- Одной из самых весемых, важных услуг, можно назвать техническую поддержку.\n",
    "\n",
    "- Так же стоит сделать факт выставления счёта на электронную почту для всех клиентов.\n",
    "\n",
    "- Так же интерсно, что у уходящий пользователей чаще есть партнер. Веортяно уход связан с желанием обслуживаться в той же кампании, что и партнер. Можно добавить выгодные семейные тарифы."
   ]
  },
  {
   "cell_type": "markdown",
   "id": "06c02807",
   "metadata": {},
   "source": [
    "# 3 Подготовка данных для модели "
   ]
  },
  {
   "cell_type": "markdown",
   "id": "532297ba",
   "metadata": {},
   "source": [
    "## 3.1 Разделение на выборки "
   ]
  },
  {
   "cell_type": "markdown",
   "id": "fcd6953a",
   "metadata": {},
   "source": [
    "Новый признак готов, таргет есть, пропусков нет. Теперь можно удалить лишнее, разделить на выборки и подготовить данные для обрабоки моделью."
   ]
  },
  {
   "cell_type": "code",
   "execution_count": 27,
   "id": "2a156e2a",
   "metadata": {},
   "outputs": [],
   "source": [
    "data_full = data_full.drop(['BeginDate', 'EndDate'], axis=1)"
   ]
  },
  {
   "cell_type": "code",
   "execution_count": 28,
   "id": "6f5caad9",
   "metadata": {},
   "outputs": [],
   "source": [
    "features = data_full.drop(['target'], axis=1)\n",
    "target = data_full['target']\n",
    "\n",
    "x_train, x_test, y_train, y_test = train_test_split(features, target, \n",
    "                                                    test_size=0.25,\n",
    "                                                    random_state=RANDOM_STATE,\n",
    "                                                    stratify=target)"
   ]
  },
  {
   "cell_type": "code",
   "execution_count": 29,
   "id": "349f51a5",
   "metadata": {},
   "outputs": [
    {
     "name": "stdout",
     "output_type": "stream",
     "text": [
      "(5279, 18) (1760, 18)\n",
      "(5279,) (1760,)\n"
     ]
    },
    {
     "data": {
      "text/html": [
       "<div>\n",
       "<style scoped>\n",
       "    .dataframe tbody tr th:only-of-type {\n",
       "        vertical-align: middle;\n",
       "    }\n",
       "\n",
       "    .dataframe tbody tr th {\n",
       "        vertical-align: top;\n",
       "    }\n",
       "\n",
       "    .dataframe thead th {\n",
       "        text-align: right;\n",
       "    }\n",
       "</style>\n",
       "<table border=\"1\" class=\"dataframe\">\n",
       "  <thead>\n",
       "    <tr style=\"text-align: right;\">\n",
       "      <th></th>\n",
       "      <th>Type</th>\n",
       "      <th>PaperlessBilling</th>\n",
       "      <th>PaymentMethod</th>\n",
       "      <th>MonthlyCharges</th>\n",
       "      <th>TotalCharges</th>\n",
       "      <th>gender</th>\n",
       "      <th>SeniorCitizen</th>\n",
       "      <th>Partner</th>\n",
       "      <th>Dependents</th>\n",
       "      <th>InternetService</th>\n",
       "      <th>OnlineSecurity</th>\n",
       "      <th>OnlineBackup</th>\n",
       "      <th>DeviceProtection</th>\n",
       "      <th>TechSupport</th>\n",
       "      <th>StreamingTV</th>\n",
       "      <th>StreamingMovies</th>\n",
       "      <th>MultipleLines</th>\n",
       "      <th>duration</th>\n",
       "    </tr>\n",
       "    <tr>\n",
       "      <th>customerID</th>\n",
       "      <th></th>\n",
       "      <th></th>\n",
       "      <th></th>\n",
       "      <th></th>\n",
       "      <th></th>\n",
       "      <th></th>\n",
       "      <th></th>\n",
       "      <th></th>\n",
       "      <th></th>\n",
       "      <th></th>\n",
       "      <th></th>\n",
       "      <th></th>\n",
       "      <th></th>\n",
       "      <th></th>\n",
       "      <th></th>\n",
       "      <th></th>\n",
       "      <th></th>\n",
       "      <th></th>\n",
       "    </tr>\n",
       "  </thead>\n",
       "  <tbody>\n",
       "    <tr>\n",
       "      <th>4959-JOSRX</th>\n",
       "      <td>Month-to-month</td>\n",
       "      <td>Yes</td>\n",
       "      <td>Credit card (automatic)</td>\n",
       "      <td>44.60</td>\n",
       "      <td>267.60</td>\n",
       "      <td>Female</td>\n",
       "      <td>0</td>\n",
       "      <td>Yes</td>\n",
       "      <td>No</td>\n",
       "      <td>DSL</td>\n",
       "      <td>No</td>\n",
       "      <td>No</td>\n",
       "      <td>No</td>\n",
       "      <td>No</td>\n",
       "      <td>No</td>\n",
       "      <td>No</td>\n",
       "      <td>No</td>\n",
       "      <td>184</td>\n",
       "    </tr>\n",
       "    <tr>\n",
       "      <th>4686-GEFRM</th>\n",
       "      <td>Two year</td>\n",
       "      <td>Yes</td>\n",
       "      <td>Bank transfer (automatic)</td>\n",
       "      <td>98.70</td>\n",
       "      <td>5808.49</td>\n",
       "      <td>Male</td>\n",
       "      <td>0</td>\n",
       "      <td>Yes</td>\n",
       "      <td>No</td>\n",
       "      <td>Fiber optic</td>\n",
       "      <td>No</td>\n",
       "      <td>Yes</td>\n",
       "      <td>Yes</td>\n",
       "      <td>Yes</td>\n",
       "      <td>No</td>\n",
       "      <td>Yes</td>\n",
       "      <td>Yes</td>\n",
       "      <td>1675</td>\n",
       "    </tr>\n",
       "    <tr>\n",
       "      <th>3154-CFSZG</th>\n",
       "      <td>Month-to-month</td>\n",
       "      <td>No</td>\n",
       "      <td>Electronic check</td>\n",
       "      <td>90.05</td>\n",
       "      <td>4232.35</td>\n",
       "      <td>Male</td>\n",
       "      <td>0</td>\n",
       "      <td>Yes</td>\n",
       "      <td>Yes</td>\n",
       "      <td>Fiber optic</td>\n",
       "      <td>Yes</td>\n",
       "      <td>No</td>\n",
       "      <td>Yes</td>\n",
       "      <td>No</td>\n",
       "      <td>No</td>\n",
       "      <td>Yes</td>\n",
       "      <td>No</td>\n",
       "      <td>1432</td>\n",
       "    </tr>\n",
       "    <tr>\n",
       "      <th>1867-TJHTS</th>\n",
       "      <td>Month-to-month</td>\n",
       "      <td>Yes</td>\n",
       "      <td>Bank transfer (automatic)</td>\n",
       "      <td>79.80</td>\n",
       "      <td>2876.79</td>\n",
       "      <td>Female</td>\n",
       "      <td>0</td>\n",
       "      <td>No</td>\n",
       "      <td>No</td>\n",
       "      <td>Fiber optic</td>\n",
       "      <td>Yes</td>\n",
       "      <td>No</td>\n",
       "      <td>No</td>\n",
       "      <td>No</td>\n",
       "      <td>No</td>\n",
       "      <td>No</td>\n",
       "      <td>Yes</td>\n",
       "      <td>1065</td>\n",
       "    </tr>\n",
       "    <tr>\n",
       "      <th>7811-JIVPF</th>\n",
       "      <td>Month-to-month</td>\n",
       "      <td>No</td>\n",
       "      <td>Credit card (automatic)</td>\n",
       "      <td>49.70</td>\n",
       "      <td>1165.96</td>\n",
       "      <td>Female</td>\n",
       "      <td>0</td>\n",
       "      <td>No</td>\n",
       "      <td>No</td>\n",
       "      <td>DSL</td>\n",
       "      <td>No</td>\n",
       "      <td>No</td>\n",
       "      <td>Yes</td>\n",
       "      <td>No</td>\n",
       "      <td>No</td>\n",
       "      <td>No</td>\n",
       "      <td>No</td>\n",
       "      <td>702</td>\n",
       "    </tr>\n",
       "  </tbody>\n",
       "</table>\n",
       "</div>"
      ],
      "text/plain": [
       "                      Type PaperlessBilling              PaymentMethod  \\\n",
       "customerID                                                               \n",
       "4959-JOSRX  Month-to-month              Yes    Credit card (automatic)   \n",
       "4686-GEFRM        Two year              Yes  Bank transfer (automatic)   \n",
       "3154-CFSZG  Month-to-month               No           Electronic check   \n",
       "1867-TJHTS  Month-to-month              Yes  Bank transfer (automatic)   \n",
       "7811-JIVPF  Month-to-month               No    Credit card (automatic)   \n",
       "\n",
       "            MonthlyCharges  TotalCharges  gender  SeniorCitizen Partner  \\\n",
       "customerID                                                                \n",
       "4959-JOSRX           44.60        267.60  Female              0     Yes   \n",
       "4686-GEFRM           98.70       5808.49    Male              0     Yes   \n",
       "3154-CFSZG           90.05       4232.35    Male              0     Yes   \n",
       "1867-TJHTS           79.80       2876.79  Female              0      No   \n",
       "7811-JIVPF           49.70       1165.96  Female              0      No   \n",
       "\n",
       "           Dependents InternetService OnlineSecurity OnlineBackup  \\\n",
       "customerID                                                          \n",
       "4959-JOSRX         No             DSL             No           No   \n",
       "4686-GEFRM         No     Fiber optic             No          Yes   \n",
       "3154-CFSZG        Yes     Fiber optic            Yes           No   \n",
       "1867-TJHTS         No     Fiber optic            Yes           No   \n",
       "7811-JIVPF         No             DSL             No           No   \n",
       "\n",
       "           DeviceProtection TechSupport StreamingTV StreamingMovies  \\\n",
       "customerID                                                            \n",
       "4959-JOSRX               No          No          No              No   \n",
       "4686-GEFRM              Yes         Yes          No             Yes   \n",
       "3154-CFSZG              Yes          No          No             Yes   \n",
       "1867-TJHTS               No          No          No              No   \n",
       "7811-JIVPF              Yes          No          No              No   \n",
       "\n",
       "           MultipleLines  duration  \n",
       "customerID                          \n",
       "4959-JOSRX            No       184  \n",
       "4686-GEFRM           Yes      1675  \n",
       "3154-CFSZG            No      1432  \n",
       "1867-TJHTS           Yes      1065  \n",
       "7811-JIVPF            No       702  "
      ]
     },
     "metadata": {},
     "output_type": "display_data"
    },
    {
     "name": "stdout",
     "output_type": "stream",
     "text": [
      "<class 'pandas.core.frame.DataFrame'>\n",
      "Index: 5279 entries, 4959-JOSRX to 6419-ZTTLE\n",
      "Data columns (total 18 columns):\n",
      " #   Column            Non-Null Count  Dtype  \n",
      "---  ------            --------------  -----  \n",
      " 0   Type              5279 non-null   object \n",
      " 1   PaperlessBilling  5279 non-null   object \n",
      " 2   PaymentMethod     5279 non-null   object \n",
      " 3   MonthlyCharges    5279 non-null   float64\n",
      " 4   TotalCharges      5279 non-null   float64\n",
      " 5   gender            5279 non-null   object \n",
      " 6   SeniorCitizen     5279 non-null   int64  \n",
      " 7   Partner           5279 non-null   object \n",
      " 8   Dependents        5279 non-null   object \n",
      " 9   InternetService   5279 non-null   object \n",
      " 10  OnlineSecurity    5279 non-null   object \n",
      " 11  OnlineBackup      5279 non-null   object \n",
      " 12  DeviceProtection  5279 non-null   object \n",
      " 13  TechSupport       5279 non-null   object \n",
      " 14  StreamingTV       5279 non-null   object \n",
      " 15  StreamingMovies   5279 non-null   object \n",
      " 16  MultipleLines     5279 non-null   object \n",
      " 17  duration          5279 non-null   int64  \n",
      "dtypes: float64(2), int64(2), object(14)\n",
      "memory usage: 783.6+ KB\n",
      "None\n"
     ]
    }
   ],
   "source": [
    "#Проверка коректности разделения на выборки \n",
    "print (x_train.shape, x_test.shape)\n",
    "print (y_train.shape, y_test.shape)\n",
    "display (x_train.head(5))\n",
    "print (x_train.info())"
   ]
  },
  {
   "cell_type": "markdown",
   "id": "30f76872",
   "metadata": {},
   "source": [
    "с выборками все впроядке теперь можно кодировать признаки "
   ]
  },
  {
   "cell_type": "markdown",
   "id": "db82d10d",
   "metadata": {},
   "source": [
    "## 3.2 Кодировка OHE"
   ]
  },
  {
   "cell_type": "markdown",
   "id": "0e82f79f",
   "metadata": {},
   "source": [
    "Кодировка требуется только для категироальных признаков, то есть не численых, поэтому сначала достану названия столбцов котоые буду кодиовать."
   ]
  },
  {
   "cell_type": "code",
   "execution_count": 30,
   "id": "e4ce06df",
   "metadata": {},
   "outputs": [
    {
     "name": "stdout",
     "output_type": "stream",
     "text": [
      "['Type', 'PaperlessBilling', 'PaymentMethod', 'gender', 'Partner', 'Dependents', 'InternetService', 'OnlineSecurity', 'OnlineBackup', 'DeviceProtection', 'TechSupport', 'StreamingTV', 'StreamingMovies', 'MultipleLines']\n"
     ]
    }
   ],
   "source": [
    "ohe_columns = x_train.select_dtypes(include='object').columns.to_list()\n",
    "\n",
    "print (ohe_columns)"
   ]
  },
  {
   "cell_type": "code",
   "execution_count": 31,
   "id": "32ea0c5f",
   "metadata": {},
   "outputs": [
    {
     "data": {
      "text/html": [
       "<div>\n",
       "<style scoped>\n",
       "    .dataframe tbody tr th:only-of-type {\n",
       "        vertical-align: middle;\n",
       "    }\n",
       "\n",
       "    .dataframe tbody tr th {\n",
       "        vertical-align: top;\n",
       "    }\n",
       "\n",
       "    .dataframe thead th {\n",
       "        text-align: right;\n",
       "    }\n",
       "</style>\n",
       "<table border=\"1\" class=\"dataframe\">\n",
       "  <thead>\n",
       "    <tr style=\"text-align: right;\">\n",
       "      <th></th>\n",
       "      <th>MonthlyCharges</th>\n",
       "      <th>TotalCharges</th>\n",
       "      <th>SeniorCitizen</th>\n",
       "      <th>duration</th>\n",
       "      <th>Type_One year</th>\n",
       "      <th>Type_Two year</th>\n",
       "      <th>PaperlessBilling_Yes</th>\n",
       "      <th>PaymentMethod_Credit card (automatic)</th>\n",
       "      <th>PaymentMethod_Electronic check</th>\n",
       "      <th>PaymentMethod_Mailed check</th>\n",
       "      <th>...</th>\n",
       "      <th>Dependents_Yes</th>\n",
       "      <th>InternetService_Fiber optic</th>\n",
       "      <th>InternetService_No</th>\n",
       "      <th>OnlineSecurity_Yes</th>\n",
       "      <th>OnlineBackup_Yes</th>\n",
       "      <th>DeviceProtection_Yes</th>\n",
       "      <th>TechSupport_Yes</th>\n",
       "      <th>StreamingTV_Yes</th>\n",
       "      <th>StreamingMovies_Yes</th>\n",
       "      <th>MultipleLines_Yes</th>\n",
       "    </tr>\n",
       "    <tr>\n",
       "      <th>customerID</th>\n",
       "      <th></th>\n",
       "      <th></th>\n",
       "      <th></th>\n",
       "      <th></th>\n",
       "      <th></th>\n",
       "      <th></th>\n",
       "      <th></th>\n",
       "      <th></th>\n",
       "      <th></th>\n",
       "      <th></th>\n",
       "      <th></th>\n",
       "      <th></th>\n",
       "      <th></th>\n",
       "      <th></th>\n",
       "      <th></th>\n",
       "      <th></th>\n",
       "      <th></th>\n",
       "      <th></th>\n",
       "      <th></th>\n",
       "      <th></th>\n",
       "      <th></th>\n",
       "    </tr>\n",
       "  </thead>\n",
       "  <tbody>\n",
       "    <tr>\n",
       "      <th>4959-JOSRX</th>\n",
       "      <td>44.60</td>\n",
       "      <td>267.60</td>\n",
       "      <td>0</td>\n",
       "      <td>184</td>\n",
       "      <td>0.0</td>\n",
       "      <td>0.0</td>\n",
       "      <td>1.0</td>\n",
       "      <td>1.0</td>\n",
       "      <td>0.0</td>\n",
       "      <td>0.0</td>\n",
       "      <td>...</td>\n",
       "      <td>0.0</td>\n",
       "      <td>0.0</td>\n",
       "      <td>0.0</td>\n",
       "      <td>0.0</td>\n",
       "      <td>0.0</td>\n",
       "      <td>0.0</td>\n",
       "      <td>0.0</td>\n",
       "      <td>0.0</td>\n",
       "      <td>0.0</td>\n",
       "      <td>0.0</td>\n",
       "    </tr>\n",
       "    <tr>\n",
       "      <th>4686-GEFRM</th>\n",
       "      <td>98.70</td>\n",
       "      <td>5808.49</td>\n",
       "      <td>0</td>\n",
       "      <td>1675</td>\n",
       "      <td>0.0</td>\n",
       "      <td>1.0</td>\n",
       "      <td>1.0</td>\n",
       "      <td>0.0</td>\n",
       "      <td>0.0</td>\n",
       "      <td>0.0</td>\n",
       "      <td>...</td>\n",
       "      <td>0.0</td>\n",
       "      <td>1.0</td>\n",
       "      <td>0.0</td>\n",
       "      <td>0.0</td>\n",
       "      <td>1.0</td>\n",
       "      <td>1.0</td>\n",
       "      <td>1.0</td>\n",
       "      <td>0.0</td>\n",
       "      <td>1.0</td>\n",
       "      <td>1.0</td>\n",
       "    </tr>\n",
       "    <tr>\n",
       "      <th>3154-CFSZG</th>\n",
       "      <td>90.05</td>\n",
       "      <td>4232.35</td>\n",
       "      <td>0</td>\n",
       "      <td>1432</td>\n",
       "      <td>0.0</td>\n",
       "      <td>0.0</td>\n",
       "      <td>0.0</td>\n",
       "      <td>0.0</td>\n",
       "      <td>1.0</td>\n",
       "      <td>0.0</td>\n",
       "      <td>...</td>\n",
       "      <td>1.0</td>\n",
       "      <td>1.0</td>\n",
       "      <td>0.0</td>\n",
       "      <td>1.0</td>\n",
       "      <td>0.0</td>\n",
       "      <td>1.0</td>\n",
       "      <td>0.0</td>\n",
       "      <td>0.0</td>\n",
       "      <td>1.0</td>\n",
       "      <td>0.0</td>\n",
       "    </tr>\n",
       "    <tr>\n",
       "      <th>1867-TJHTS</th>\n",
       "      <td>79.80</td>\n",
       "      <td>2876.79</td>\n",
       "      <td>0</td>\n",
       "      <td>1065</td>\n",
       "      <td>0.0</td>\n",
       "      <td>0.0</td>\n",
       "      <td>1.0</td>\n",
       "      <td>0.0</td>\n",
       "      <td>0.0</td>\n",
       "      <td>0.0</td>\n",
       "      <td>...</td>\n",
       "      <td>0.0</td>\n",
       "      <td>1.0</td>\n",
       "      <td>0.0</td>\n",
       "      <td>1.0</td>\n",
       "      <td>0.0</td>\n",
       "      <td>0.0</td>\n",
       "      <td>0.0</td>\n",
       "      <td>0.0</td>\n",
       "      <td>0.0</td>\n",
       "      <td>1.0</td>\n",
       "    </tr>\n",
       "    <tr>\n",
       "      <th>7811-JIVPF</th>\n",
       "      <td>49.70</td>\n",
       "      <td>1165.96</td>\n",
       "      <td>0</td>\n",
       "      <td>702</td>\n",
       "      <td>0.0</td>\n",
       "      <td>0.0</td>\n",
       "      <td>0.0</td>\n",
       "      <td>1.0</td>\n",
       "      <td>0.0</td>\n",
       "      <td>0.0</td>\n",
       "      <td>...</td>\n",
       "      <td>0.0</td>\n",
       "      <td>0.0</td>\n",
       "      <td>0.0</td>\n",
       "      <td>0.0</td>\n",
       "      <td>0.0</td>\n",
       "      <td>1.0</td>\n",
       "      <td>0.0</td>\n",
       "      <td>0.0</td>\n",
       "      <td>0.0</td>\n",
       "      <td>0.0</td>\n",
       "    </tr>\n",
       "  </tbody>\n",
       "</table>\n",
       "<p>5 rows × 22 columns</p>\n",
       "</div>"
      ],
      "text/plain": [
       "            MonthlyCharges  TotalCharges  SeniorCitizen  duration  \\\n",
       "customerID                                                          \n",
       "4959-JOSRX           44.60        267.60              0       184   \n",
       "4686-GEFRM           98.70       5808.49              0      1675   \n",
       "3154-CFSZG           90.05       4232.35              0      1432   \n",
       "1867-TJHTS           79.80       2876.79              0      1065   \n",
       "7811-JIVPF           49.70       1165.96              0       702   \n",
       "\n",
       "            Type_One year  Type_Two year  PaperlessBilling_Yes  \\\n",
       "customerID                                                       \n",
       "4959-JOSRX            0.0            0.0                   1.0   \n",
       "4686-GEFRM            0.0            1.0                   1.0   \n",
       "3154-CFSZG            0.0            0.0                   0.0   \n",
       "1867-TJHTS            0.0            0.0                   1.0   \n",
       "7811-JIVPF            0.0            0.0                   0.0   \n",
       "\n",
       "            PaymentMethod_Credit card (automatic)  \\\n",
       "customerID                                          \n",
       "4959-JOSRX                                    1.0   \n",
       "4686-GEFRM                                    0.0   \n",
       "3154-CFSZG                                    0.0   \n",
       "1867-TJHTS                                    0.0   \n",
       "7811-JIVPF                                    1.0   \n",
       "\n",
       "            PaymentMethod_Electronic check  PaymentMethod_Mailed check  ...  \\\n",
       "customerID                                                              ...   \n",
       "4959-JOSRX                             0.0                         0.0  ...   \n",
       "4686-GEFRM                             0.0                         0.0  ...   \n",
       "3154-CFSZG                             1.0                         0.0  ...   \n",
       "1867-TJHTS                             0.0                         0.0  ...   \n",
       "7811-JIVPF                             0.0                         0.0  ...   \n",
       "\n",
       "            Dependents_Yes  InternetService_Fiber optic  InternetService_No  \\\n",
       "customerID                                                                    \n",
       "4959-JOSRX             0.0                          0.0                 0.0   \n",
       "4686-GEFRM             0.0                          1.0                 0.0   \n",
       "3154-CFSZG             1.0                          1.0                 0.0   \n",
       "1867-TJHTS             0.0                          1.0                 0.0   \n",
       "7811-JIVPF             0.0                          0.0                 0.0   \n",
       "\n",
       "            OnlineSecurity_Yes  OnlineBackup_Yes  DeviceProtection_Yes  \\\n",
       "customerID                                                               \n",
       "4959-JOSRX                 0.0               0.0                   0.0   \n",
       "4686-GEFRM                 0.0               1.0                   1.0   \n",
       "3154-CFSZG                 1.0               0.0                   1.0   \n",
       "1867-TJHTS                 1.0               0.0                   0.0   \n",
       "7811-JIVPF                 0.0               0.0                   1.0   \n",
       "\n",
       "            TechSupport_Yes  StreamingTV_Yes  StreamingMovies_Yes  \\\n",
       "customerID                                                          \n",
       "4959-JOSRX              0.0              0.0                  0.0   \n",
       "4686-GEFRM              1.0              0.0                  1.0   \n",
       "3154-CFSZG              0.0              0.0                  1.0   \n",
       "1867-TJHTS              0.0              0.0                  0.0   \n",
       "7811-JIVPF              0.0              0.0                  0.0   \n",
       "\n",
       "            MultipleLines_Yes  \n",
       "customerID                     \n",
       "4959-JOSRX                0.0  \n",
       "4686-GEFRM                1.0  \n",
       "3154-CFSZG                0.0  \n",
       "1867-TJHTS                1.0  \n",
       "7811-JIVPF                0.0  \n",
       "\n",
       "[5 rows x 22 columns]"
      ]
     },
     "metadata": {},
     "output_type": "display_data"
    },
    {
     "data": {
      "text/plain": [
       "(5279, 22)"
      ]
     },
     "metadata": {},
     "output_type": "display_data"
    }
   ],
   "source": [
    "x_train_coded = x_train.copy()\n",
    "x_test_coded = x_test.copy()\n",
    "\n",
    "encoder_ohe = OneHotEncoder(drop='first', handle_unknown='ignore', sparse=False)\n",
    "encoder_ohe.fit(x_train_coded[ohe_columns])\n",
    "\n",
    "x_train_coded[\n",
    "    encoder_ohe.get_feature_names_out()\n",
    "] = encoder_ohe.transform(x_train_coded[ohe_columns])\n",
    "\n",
    "x_test_coded[\n",
    "    encoder_ohe.get_feature_names_out()\n",
    "] = encoder_ohe.transform(x_test_coded[ohe_columns])\n",
    "\n",
    "x_train_coded = x_train_coded.drop(ohe_columns, axis=1)\n",
    "x_test_coded = x_test_coded.drop(ohe_columns, axis=1)\n",
    "\n",
    "display (x_train_coded.head(), x_train_coded.shape)"
   ]
  },
  {
   "cell_type": "markdown",
   "id": "a9dc8ce0",
   "metadata": {},
   "source": [
    "Данные обработаны, что бы модель смогла их прочесть, теперь можно обучить сами модели"
   ]
  },
  {
   "cell_type": "markdown",
   "id": "7a0924e9",
   "metadata": {},
   "source": [
    "# 4 Выбор модели"
   ]
  },
  {
   "cell_type": "markdown",
   "id": "5c0a1739",
   "metadata": {},
   "source": [
    "В данном разделе будет протестированно три модели и гиперпараметры к ним \n",
    "- CatBoost\n",
    "- RandomForest\n",
    "- LightGBM\n",
    "\n",
    "Лучшая модель будет проверяна на тестовой выборке "
   ]
  },
  {
   "cell_type": "markdown",
   "id": "740f117d",
   "metadata": {},
   "source": [
    "## 4.1CatBoost"
   ]
  },
  {
   "cell_type": "code",
   "execution_count": 32,
   "id": "30372693",
   "metadata": {},
   "outputs": [],
   "source": [
    "model_ct = CatBoostClassifier(random_state=RANDOM_STATE)\n",
    "params_ct = {'learning_rate': [0.03, 0.1],\n",
    "              'depth': [4, 6, 10],\n",
    "              'l2_leaf_reg': [1, 5, 9],\n",
    "             }"
   ]
  },
  {
   "cell_type": "code",
   "execution_count": 33,
   "id": "7adae424",
   "metadata": {},
   "outputs": [],
   "source": [
    "ct_RandomGrid = RandomizedSearchCV(estimator = model_ct, \n",
    "                                   param_distributions = params_ct, \n",
    "                                   cv = 10, \n",
    "                                   verbose=2, \n",
    "                                   n_jobs = 4,\n",
    "                                   scoring='roc_auc')"
   ]
  },
  {
   "cell_type": "code",
   "execution_count": 34,
   "id": "4c071131",
   "metadata": {},
   "outputs": [
    {
     "name": "stdout",
     "output_type": "stream",
     "text": [
      "Fitting 10 folds for each of 10 candidates, totalling 100 fits\n",
      "0:\tlearn: 0.6276858\ttotal: 148ms\tremaining: 2m 27s\n",
      "1:\tlearn: 0.5624619\ttotal: 150ms\tremaining: 1m 14s\n",
      "2:\tlearn: 0.5152760\ttotal: 152ms\tremaining: 50.7s\n",
      "3:\tlearn: 0.4857958\ttotal: 155ms\tremaining: 38.5s\n",
      "4:\tlearn: 0.4548092\ttotal: 157ms\tremaining: 31.2s\n",
      "5:\tlearn: 0.4336410\ttotal: 159ms\tremaining: 26.3s\n",
      "6:\tlearn: 0.4186904\ttotal: 161ms\tremaining: 22.8s\n",
      "7:\tlearn: 0.4052645\ttotal: 163ms\tremaining: 20.2s\n",
      "8:\tlearn: 0.3942017\ttotal: 165ms\tremaining: 18.2s\n",
      "9:\tlearn: 0.3839267\ttotal: 167ms\tremaining: 16.6s\n",
      "10:\tlearn: 0.3758499\ttotal: 170ms\tremaining: 15.3s\n",
      "11:\tlearn: 0.3677803\ttotal: 172ms\tremaining: 14.2s\n",
      "12:\tlearn: 0.3633450\ttotal: 174ms\tremaining: 13.2s\n",
      "13:\tlearn: 0.3585240\ttotal: 176ms\tremaining: 12.4s\n",
      "14:\tlearn: 0.3547908\ttotal: 178ms\tremaining: 11.7s\n",
      "15:\tlearn: 0.3498658\ttotal: 181ms\tremaining: 11.1s\n",
      "16:\tlearn: 0.3476555\ttotal: 183ms\tremaining: 10.6s\n",
      "17:\tlearn: 0.3444890\ttotal: 185ms\tremaining: 10.1s\n",
      "18:\tlearn: 0.3423417\ttotal: 187ms\tremaining: 9.67s\n",
      "19:\tlearn: 0.3396140\ttotal: 190ms\tremaining: 9.32s\n",
      "20:\tlearn: 0.3376407\ttotal: 193ms\tremaining: 8.98s\n",
      "21:\tlearn: 0.3362683\ttotal: 195ms\tremaining: 8.67s\n",
      "22:\tlearn: 0.3349753\ttotal: 197ms\tremaining: 8.37s\n",
      "23:\tlearn: 0.3328471\ttotal: 199ms\tremaining: 8.11s\n",
      "24:\tlearn: 0.3309658\ttotal: 202ms\tremaining: 7.87s\n",
      "25:\tlearn: 0.3301192\ttotal: 204ms\tremaining: 7.64s\n",
      "26:\tlearn: 0.3293373\ttotal: 206ms\tremaining: 7.43s\n",
      "27:\tlearn: 0.3283108\ttotal: 209ms\tremaining: 7.25s\n",
      "28:\tlearn: 0.3271309\ttotal: 211ms\tremaining: 7.07s\n",
      "29:\tlearn: 0.3257737\ttotal: 214ms\tremaining: 6.92s\n",
      "30:\tlearn: 0.3248525\ttotal: 217ms\tremaining: 6.77s\n",
      "31:\tlearn: 0.3242442\ttotal: 219ms\tremaining: 6.63s\n",
      "32:\tlearn: 0.3235667\ttotal: 221ms\tremaining: 6.48s\n",
      "33:\tlearn: 0.3229214\ttotal: 224ms\tremaining: 6.36s\n",
      "34:\tlearn: 0.3221349\ttotal: 226ms\tremaining: 6.24s\n",
      "35:\tlearn: 0.3214328\ttotal: 229ms\tremaining: 6.12s\n",
      "36:\tlearn: 0.3209180\ttotal: 231ms\tremaining: 6.02s\n",
      "37:\tlearn: 0.3197777\ttotal: 234ms\tremaining: 5.92s\n",
      "38:\tlearn: 0.3190773\ttotal: 236ms\tremaining: 5.82s\n",
      "39:\tlearn: 0.3181394\ttotal: 239ms\tremaining: 5.73s\n",
      "40:\tlearn: 0.3170835\ttotal: 241ms\tremaining: 5.65s\n",
      "41:\tlearn: 0.3167280\ttotal: 244ms\tremaining: 5.56s\n",
      "42:\tlearn: 0.3161801\ttotal: 246ms\tremaining: 5.48s\n",
      "43:\tlearn: 0.3151598\ttotal: 249ms\tremaining: 5.41s\n",
      "44:\tlearn: 0.3142993\ttotal: 252ms\tremaining: 5.34s\n",
      "45:\tlearn: 0.3138782\ttotal: 254ms\tremaining: 5.27s\n",
      "46:\tlearn: 0.3134238\ttotal: 256ms\tremaining: 5.2s\n",
      "47:\tlearn: 0.3126330\ttotal: 259ms\tremaining: 5.13s\n",
      "48:\tlearn: 0.3122024\ttotal: 261ms\tremaining: 5.06s\n",
      "49:\tlearn: 0.3117962\ttotal: 263ms\tremaining: 5s\n",
      "50:\tlearn: 0.3115682\ttotal: 265ms\tremaining: 4.93s\n",
      "51:\tlearn: 0.3107687\ttotal: 268ms\tremaining: 4.88s\n",
      "52:\tlearn: 0.3101639\ttotal: 270ms\tremaining: 4.82s\n",
      "53:\tlearn: 0.3098561\ttotal: 272ms\tremaining: 4.77s\n",
      "54:\tlearn: 0.3094182\ttotal: 275ms\tremaining: 4.72s\n",
      "55:\tlearn: 0.3080863\ttotal: 277ms\tremaining: 4.67s\n",
      "56:\tlearn: 0.3077111\ttotal: 279ms\tremaining: 4.62s\n",
      "57:\tlearn: 0.3072924\ttotal: 282ms\tremaining: 4.58s\n",
      "58:\tlearn: 0.3066138\ttotal: 284ms\tremaining: 4.53s\n",
      "59:\tlearn: 0.3061448\ttotal: 287ms\tremaining: 4.5s\n",
      "60:\tlearn: 0.3055744\ttotal: 289ms\tremaining: 4.45s\n",
      "61:\tlearn: 0.3051476\ttotal: 292ms\tremaining: 4.42s\n",
      "62:\tlearn: 0.3046518\ttotal: 294ms\tremaining: 4.38s\n",
      "63:\tlearn: 0.3043603\ttotal: 297ms\tremaining: 4.34s\n",
      "64:\tlearn: 0.3031048\ttotal: 300ms\tremaining: 4.32s\n",
      "65:\tlearn: 0.3019844\ttotal: 303ms\tremaining: 4.28s\n",
      "66:\tlearn: 0.3016778\ttotal: 306ms\tremaining: 4.25s\n",
      "67:\tlearn: 0.3014306\ttotal: 308ms\tremaining: 4.22s\n",
      "68:\tlearn: 0.3005042\ttotal: 311ms\tremaining: 4.2s\n",
      "69:\tlearn: 0.3000987\ttotal: 314ms\tremaining: 4.17s\n",
      "70:\tlearn: 0.2998145\ttotal: 316ms\tremaining: 4.14s\n",
      "71:\tlearn: 0.2986001\ttotal: 319ms\tremaining: 4.12s\n",
      "72:\tlearn: 0.2981976\ttotal: 322ms\tremaining: 4.09s\n",
      "73:\tlearn: 0.2978161\ttotal: 325ms\tremaining: 4.06s\n",
      "74:\tlearn: 0.2974171\ttotal: 333ms\tremaining: 4.11s\n",
      "75:\tlearn: 0.2967672\ttotal: 336ms\tremaining: 4.08s\n",
      "76:\tlearn: 0.2960142\ttotal: 339ms\tremaining: 4.06s\n",
      "77:\tlearn: 0.2958932\ttotal: 342ms\tremaining: 4.04s\n",
      "78:\tlearn: 0.2953647\ttotal: 344ms\tremaining: 4.01s\n",
      "79:\tlearn: 0.2949965\ttotal: 348ms\tremaining: 4s\n",
      "80:\tlearn: 0.2945034\ttotal: 351ms\tremaining: 3.98s\n",
      "81:\tlearn: 0.2937336\ttotal: 353ms\tremaining: 3.96s\n",
      "82:\tlearn: 0.2931667\ttotal: 357ms\tremaining: 3.94s\n",
      "83:\tlearn: 0.2927457\ttotal: 359ms\tremaining: 3.92s\n",
      "84:\tlearn: 0.2918472\ttotal: 363ms\tremaining: 3.9s\n",
      "85:\tlearn: 0.2912574\ttotal: 366ms\tremaining: 3.89s\n",
      "86:\tlearn: 0.2908886\ttotal: 369ms\tremaining: 3.87s\n",
      "87:\tlearn: 0.2903719\ttotal: 372ms\tremaining: 3.85s\n",
      "88:\tlearn: 0.2893968\ttotal: 375ms\tremaining: 3.84s\n",
      "89:\tlearn: 0.2892443\ttotal: 378ms\tremaining: 3.82s\n",
      "90:\tlearn: 0.2884077\ttotal: 381ms\tremaining: 3.8s\n",
      "91:\tlearn: 0.2880380\ttotal: 384ms\tremaining: 3.79s\n",
      "92:\tlearn: 0.2867052\ttotal: 386ms\tremaining: 3.77s\n",
      "93:\tlearn: 0.2861306\ttotal: 389ms\tremaining: 3.75s\n",
      "94:\tlearn: 0.2852945\ttotal: 392ms\tremaining: 3.73s\n",
      "95:\tlearn: 0.2847882\ttotal: 394ms\tremaining: 3.71s\n",
      "96:\tlearn: 0.2844348\ttotal: 397ms\tremaining: 3.69s\n",
      "97:\tlearn: 0.2831477\ttotal: 399ms\tremaining: 3.68s\n",
      "98:\tlearn: 0.2827774\ttotal: 402ms\tremaining: 3.65s\n",
      "99:\tlearn: 0.2824351\ttotal: 404ms\tremaining: 3.64s\n",
      "100:\tlearn: 0.2814571\ttotal: 407ms\tremaining: 3.62s\n",
      "101:\tlearn: 0.2812485\ttotal: 409ms\tremaining: 3.6s\n",
      "102:\tlearn: 0.2808084\ttotal: 415ms\tremaining: 3.61s\n",
      "103:\tlearn: 0.2794776\ttotal: 418ms\tremaining: 3.6s\n",
      "104:\tlearn: 0.2791859\ttotal: 420ms\tremaining: 3.58s\n",
      "105:\tlearn: 0.2788927\ttotal: 423ms\tremaining: 3.57s\n",
      "106:\tlearn: 0.2785665\ttotal: 426ms\tremaining: 3.56s\n",
      "107:\tlearn: 0.2782758\ttotal: 429ms\tremaining: 3.54s\n",
      "108:\tlearn: 0.2778428\ttotal: 432ms\tremaining: 3.53s\n",
      "109:\tlearn: 0.2765310\ttotal: 435ms\tremaining: 3.52s\n",
      "110:\tlearn: 0.2761992\ttotal: 438ms\tremaining: 3.5s\n",
      "111:\tlearn: 0.2751436\ttotal: 441ms\tremaining: 3.49s\n",
      "112:\tlearn: 0.2747093\ttotal: 443ms\tremaining: 3.48s\n",
      "113:\tlearn: 0.2741283\ttotal: 448ms\tremaining: 3.48s\n",
      "114:\tlearn: 0.2731440\ttotal: 451ms\tremaining: 3.47s\n",
      "115:\tlearn: 0.2722976\ttotal: 454ms\tremaining: 3.46s\n",
      "116:\tlearn: 0.2719036\ttotal: 457ms\tremaining: 3.45s\n",
      "117:\tlearn: 0.2716509\ttotal: 460ms\tremaining: 3.44s\n",
      "118:\tlearn: 0.2709870\ttotal: 462ms\tremaining: 3.42s\n",
      "119:\tlearn: 0.2703912\ttotal: 465ms\tremaining: 3.41s\n",
      "120:\tlearn: 0.2700439\ttotal: 467ms\tremaining: 3.4s\n",
      "121:\tlearn: 0.2696511\ttotal: 470ms\tremaining: 3.38s\n",
      "122:\tlearn: 0.2686416\ttotal: 473ms\tremaining: 3.37s\n",
      "123:\tlearn: 0.2682550\ttotal: 476ms\tremaining: 3.36s\n",
      "124:\tlearn: 0.2678630\ttotal: 478ms\tremaining: 3.35s\n",
      "125:\tlearn: 0.2675306\ttotal: 481ms\tremaining: 3.33s\n",
      "126:\tlearn: 0.2671630\ttotal: 483ms\tremaining: 3.32s\n",
      "127:\tlearn: 0.2668952\ttotal: 486ms\tremaining: 3.31s\n",
      "128:\tlearn: 0.2665294\ttotal: 489ms\tremaining: 3.3s\n",
      "129:\tlearn: 0.2662491\ttotal: 492ms\tremaining: 3.29s\n",
      "130:\tlearn: 0.2658995\ttotal: 495ms\tremaining: 3.29s\n",
      "131:\tlearn: 0.2654757\ttotal: 498ms\tremaining: 3.28s\n",
      "132:\tlearn: 0.2645583\ttotal: 501ms\tremaining: 3.27s\n",
      "133:\tlearn: 0.2642501\ttotal: 504ms\tremaining: 3.26s\n",
      "134:\tlearn: 0.2624137\ttotal: 507ms\tremaining: 3.25s\n",
      "135:\tlearn: 0.2618088\ttotal: 510ms\tremaining: 3.24s\n",
      "136:\tlearn: 0.2605216\ttotal: 513ms\tremaining: 3.23s\n",
      "137:\tlearn: 0.2594862\ttotal: 516ms\tremaining: 3.22s\n",
      "138:\tlearn: 0.2575285\ttotal: 518ms\tremaining: 3.21s\n",
      "139:\tlearn: 0.2561010\ttotal: 521ms\tremaining: 3.2s\n",
      "140:\tlearn: 0.2557984\ttotal: 524ms\tremaining: 3.19s\n",
      "141:\tlearn: 0.2550231\ttotal: 526ms\tremaining: 3.18s\n",
      "142:\tlearn: 0.2547850\ttotal: 529ms\tremaining: 3.17s\n",
      "143:\tlearn: 0.2545638\ttotal: 532ms\tremaining: 3.16s\n",
      "144:\tlearn: 0.2541570\ttotal: 535ms\tremaining: 3.15s\n",
      "145:\tlearn: 0.2537219\ttotal: 538ms\tremaining: 3.14s\n",
      "146:\tlearn: 0.2534574\ttotal: 540ms\tremaining: 3.13s\n",
      "147:\tlearn: 0.2530846\ttotal: 543ms\tremaining: 3.13s\n",
      "148:\tlearn: 0.2528185\ttotal: 546ms\tremaining: 3.12s\n",
      "149:\tlearn: 0.2526536\ttotal: 549ms\tremaining: 3.11s\n",
      "150:\tlearn: 0.2520204\ttotal: 552ms\tremaining: 3.1s\n",
      "151:\tlearn: 0.2511781\ttotal: 555ms\tremaining: 3.1s\n",
      "152:\tlearn: 0.2509875\ttotal: 557ms\tremaining: 3.08s\n",
      "153:\tlearn: 0.2508263\ttotal: 560ms\tremaining: 3.08s\n",
      "154:\tlearn: 0.2502965\ttotal: 564ms\tremaining: 3.07s\n",
      "155:\tlearn: 0.2498602\ttotal: 567ms\tremaining: 3.07s\n",
      "156:\tlearn: 0.2496680\ttotal: 570ms\tremaining: 3.06s\n",
      "157:\tlearn: 0.2494095\ttotal: 573ms\tremaining: 3.05s\n",
      "158:\tlearn: 0.2491044\ttotal: 576ms\tremaining: 3.04s\n",
      "159:\tlearn: 0.2487851\ttotal: 579ms\tremaining: 3.04s\n",
      "160:\tlearn: 0.2480595\ttotal: 582ms\tremaining: 3.03s\n",
      "161:\tlearn: 0.2478131\ttotal: 584ms\tremaining: 3.02s\n",
      "162:\tlearn: 0.2473620\ttotal: 587ms\tremaining: 3.01s\n",
      "163:\tlearn: 0.2461864\ttotal: 590ms\tremaining: 3.01s\n",
      "164:\tlearn: 0.2459847\ttotal: 592ms\tremaining: 3s\n",
      "165:\tlearn: 0.2457517\ttotal: 595ms\tremaining: 2.99s\n",
      "166:\tlearn: 0.2448157\ttotal: 598ms\tremaining: 2.98s\n",
      "167:\tlearn: 0.2445491\ttotal: 601ms\tremaining: 2.98s\n",
      "168:\tlearn: 0.2441581\ttotal: 603ms\tremaining: 2.97s\n",
      "169:\tlearn: 0.2428316\ttotal: 606ms\tremaining: 2.96s\n",
      "170:\tlearn: 0.2419637\ttotal: 608ms\tremaining: 2.95s\n",
      "171:\tlearn: 0.2410852\ttotal: 611ms\tremaining: 2.94s\n",
      "172:\tlearn: 0.2403864\ttotal: 613ms\tremaining: 2.93s\n",
      "173:\tlearn: 0.2396800\ttotal: 616ms\tremaining: 2.92s\n",
      "174:\tlearn: 0.2393039\ttotal: 618ms\tremaining: 2.91s\n",
      "175:\tlearn: 0.2380519\ttotal: 621ms\tremaining: 2.9s\n",
      "176:\tlearn: 0.2369382\ttotal: 623ms\tremaining: 2.9s\n",
      "177:\tlearn: 0.2366263\ttotal: 626ms\tremaining: 2.89s\n",
      "178:\tlearn: 0.2353419\ttotal: 628ms\tremaining: 2.88s\n",
      "179:\tlearn: 0.2349849\ttotal: 631ms\tremaining: 2.87s\n",
      "180:\tlearn: 0.2343479\ttotal: 633ms\tremaining: 2.87s\n",
      "181:\tlearn: 0.2337662\ttotal: 636ms\tremaining: 2.86s\n",
      "182:\tlearn: 0.2328430\ttotal: 639ms\tremaining: 2.85s\n",
      "183:\tlearn: 0.2325937\ttotal: 642ms\tremaining: 2.85s\n",
      "184:\tlearn: 0.2324384\ttotal: 644ms\tremaining: 2.84s\n",
      "185:\tlearn: 0.2322636\ttotal: 647ms\tremaining: 2.83s\n",
      "186:\tlearn: 0.2319917\ttotal: 649ms\tremaining: 2.82s\n",
      "187:\tlearn: 0.2314389\ttotal: 651ms\tremaining: 2.81s\n",
      "188:\tlearn: 0.2312879\ttotal: 654ms\tremaining: 2.8s\n",
      "189:\tlearn: 0.2308476\ttotal: 656ms\tremaining: 2.8s\n",
      "190:\tlearn: 0.2302777\ttotal: 658ms\tremaining: 2.79s\n",
      "191:\tlearn: 0.2299154\ttotal: 661ms\tremaining: 2.78s\n",
      "192:\tlearn: 0.2296340\ttotal: 663ms\tremaining: 2.77s\n",
      "193:\tlearn: 0.2292853\ttotal: 665ms\tremaining: 2.76s\n",
      "194:\tlearn: 0.2288359\ttotal: 668ms\tremaining: 2.76s\n",
      "195:\tlearn: 0.2285648\ttotal: 670ms\tremaining: 2.75s\n",
      "196:\tlearn: 0.2281581\ttotal: 673ms\tremaining: 2.74s\n",
      "197:\tlearn: 0.2276278\ttotal: 675ms\tremaining: 2.73s\n",
      "198:\tlearn: 0.2273345\ttotal: 677ms\tremaining: 2.73s\n",
      "199:\tlearn: 0.2270734\ttotal: 680ms\tremaining: 2.72s\n",
      "200:\tlearn: 0.2261271\ttotal: 682ms\tremaining: 2.71s\n",
      "201:\tlearn: 0.2258577\ttotal: 684ms\tremaining: 2.7s\n",
      "202:\tlearn: 0.2256873\ttotal: 687ms\tremaining: 2.69s\n",
      "203:\tlearn: 0.2238943\ttotal: 689ms\tremaining: 2.69s\n",
      "204:\tlearn: 0.2229767\ttotal: 692ms\tremaining: 2.68s\n",
      "205:\tlearn: 0.2218876\ttotal: 694ms\tremaining: 2.67s\n",
      "206:\tlearn: 0.2216363\ttotal: 696ms\tremaining: 2.67s\n",
      "207:\tlearn: 0.2211374\ttotal: 699ms\tremaining: 2.66s\n",
      "208:\tlearn: 0.2203585\ttotal: 701ms\tremaining: 2.65s\n",
      "209:\tlearn: 0.2199769\ttotal: 704ms\tremaining: 2.65s\n",
      "210:\tlearn: 0.2198359\ttotal: 706ms\tremaining: 2.64s\n",
      "211:\tlearn: 0.2194560\ttotal: 709ms\tremaining: 2.63s\n",
      "212:\tlearn: 0.2188456\ttotal: 711ms\tremaining: 2.63s\n",
      "213:\tlearn: 0.2185711\ttotal: 714ms\tremaining: 2.62s\n",
      "214:\tlearn: 0.2179743\ttotal: 716ms\tremaining: 2.61s\n",
      "215:\tlearn: 0.2177376\ttotal: 718ms\tremaining: 2.61s\n",
      "216:\tlearn: 0.2171061\ttotal: 721ms\tremaining: 2.6s\n",
      "217:\tlearn: 0.2167921\ttotal: 723ms\tremaining: 2.59s\n",
      "218:\tlearn: 0.2166049\ttotal: 725ms\tremaining: 2.59s\n",
      "219:\tlearn: 0.2162931\ttotal: 728ms\tremaining: 2.58s\n",
      "220:\tlearn: 0.2160770\ttotal: 730ms\tremaining: 2.57s\n",
      "221:\tlearn: 0.2158628\ttotal: 732ms\tremaining: 2.57s\n",
      "222:\tlearn: 0.2153948\ttotal: 735ms\tremaining: 2.56s\n",
      "223:\tlearn: 0.2145220\ttotal: 737ms\tremaining: 2.55s\n",
      "224:\tlearn: 0.2140926\ttotal: 739ms\tremaining: 2.55s\n",
      "225:\tlearn: 0.2138808\ttotal: 742ms\tremaining: 2.54s\n",
      "226:\tlearn: 0.2136556\ttotal: 744ms\tremaining: 2.53s\n",
      "227:\tlearn: 0.2133593\ttotal: 747ms\tremaining: 2.53s\n",
      "228:\tlearn: 0.2123225\ttotal: 750ms\tremaining: 2.52s\n",
      "229:\tlearn: 0.2118991\ttotal: 753ms\tremaining: 2.52s\n",
      "230:\tlearn: 0.2117200\ttotal: 756ms\tremaining: 2.52s\n",
      "231:\tlearn: 0.2114938\ttotal: 759ms\tremaining: 2.51s\n",
      "232:\tlearn: 0.2112044\ttotal: 762ms\tremaining: 2.51s\n",
      "233:\tlearn: 0.2110268\ttotal: 765ms\tremaining: 2.5s\n",
      "234:\tlearn: 0.2107281\ttotal: 767ms\tremaining: 2.5s\n",
      "235:\tlearn: 0.2099007\ttotal: 770ms\tremaining: 2.49s\n",
      "236:\tlearn: 0.2092606\ttotal: 772ms\tremaining: 2.49s\n",
      "237:\tlearn: 0.2086596\ttotal: 775ms\tremaining: 2.48s\n",
      "238:\tlearn: 0.2080229\ttotal: 777ms\tremaining: 2.47s\n",
      "239:\tlearn: 0.2078652\ttotal: 780ms\tremaining: 2.47s\n",
      "240:\tlearn: 0.2076111\ttotal: 782ms\tremaining: 2.46s\n",
      "241:\tlearn: 0.2064968\ttotal: 784ms\tremaining: 2.46s\n",
      "242:\tlearn: 0.2063605\ttotal: 787ms\tremaining: 2.45s\n",
      "243:\tlearn: 0.2061196\ttotal: 789ms\tremaining: 2.44s\n",
      "244:\tlearn: 0.2053300\ttotal: 792ms\tremaining: 2.44s\n",
      "245:\tlearn: 0.2051658\ttotal: 794ms\tremaining: 2.43s\n",
      "246:\tlearn: 0.2049321\ttotal: 797ms\tremaining: 2.43s\n",
      "247:\tlearn: 0.2044936\ttotal: 799ms\tremaining: 2.42s\n",
      "248:\tlearn: 0.2041392\ttotal: 801ms\tremaining: 2.42s\n",
      "249:\tlearn: 0.2037990\ttotal: 804ms\tremaining: 2.41s\n",
      "250:\tlearn: 0.2034496\ttotal: 806ms\tremaining: 2.4s\n",
      "251:\tlearn: 0.2029709\ttotal: 809ms\tremaining: 2.4s\n",
      "252:\tlearn: 0.2020706\ttotal: 811ms\tremaining: 2.39s\n",
      "253:\tlearn: 0.2019100\ttotal: 813ms\tremaining: 2.39s\n",
      "254:\tlearn: 0.2016025\ttotal: 816ms\tremaining: 2.38s\n",
      "255:\tlearn: 0.2012972\ttotal: 818ms\tremaining: 2.38s\n",
      "256:\tlearn: 0.2011125\ttotal: 820ms\tremaining: 2.37s\n",
      "257:\tlearn: 0.2004569\ttotal: 823ms\tremaining: 2.37s\n",
      "258:\tlearn: 0.2000406\ttotal: 825ms\tremaining: 2.36s\n",
      "259:\tlearn: 0.1998219\ttotal: 828ms\tremaining: 2.35s\n",
      "260:\tlearn: 0.1996929\ttotal: 830ms\tremaining: 2.35s\n",
      "261:\tlearn: 0.1995537\ttotal: 833ms\tremaining: 2.35s\n",
      "262:\tlearn: 0.1993409\ttotal: 835ms\tremaining: 2.34s\n",
      "263:\tlearn: 0.1989089\ttotal: 837ms\tremaining: 2.33s\n",
      "264:\tlearn: 0.1984290\ttotal: 840ms\tremaining: 2.33s\n",
      "265:\tlearn: 0.1978184\ttotal: 842ms\tremaining: 2.32s\n",
      "266:\tlearn: 0.1976310\ttotal: 845ms\tremaining: 2.32s\n",
      "267:\tlearn: 0.1966753\ttotal: 847ms\tremaining: 2.31s\n",
      "268:\tlearn: 0.1961807\ttotal: 850ms\tremaining: 2.31s\n",
      "269:\tlearn: 0.1955884\ttotal: 852ms\tremaining: 2.3s\n",
      "270:\tlearn: 0.1950834\ttotal: 855ms\tremaining: 2.3s\n",
      "271:\tlearn: 0.1945581\ttotal: 857ms\tremaining: 2.29s\n",
      "272:\tlearn: 0.1942586\ttotal: 859ms\tremaining: 2.29s\n",
      "273:\tlearn: 0.1939855\ttotal: 862ms\tremaining: 2.28s\n",
      "274:\tlearn: 0.1936670\ttotal: 864ms\tremaining: 2.28s\n",
      "275:\tlearn: 0.1935512\ttotal: 867ms\tremaining: 2.27s\n",
      "276:\tlearn: 0.1933104\ttotal: 869ms\tremaining: 2.27s\n",
      "277:\tlearn: 0.1931276\ttotal: 871ms\tremaining: 2.26s\n",
      "278:\tlearn: 0.1928181\ttotal: 874ms\tremaining: 2.26s\n",
      "279:\tlearn: 0.1925315\ttotal: 876ms\tremaining: 2.25s\n",
      "280:\tlearn: 0.1922165\ttotal: 878ms\tremaining: 2.25s\n",
      "281:\tlearn: 0.1919073\ttotal: 881ms\tremaining: 2.24s\n",
      "282:\tlearn: 0.1915664\ttotal: 883ms\tremaining: 2.24s\n",
      "283:\tlearn: 0.1913722\ttotal: 885ms\tremaining: 2.23s\n",
      "284:\tlearn: 0.1912239\ttotal: 888ms\tremaining: 2.23s\n",
      "285:\tlearn: 0.1910733\ttotal: 890ms\tremaining: 2.22s\n",
      "286:\tlearn: 0.1908363\ttotal: 893ms\tremaining: 2.22s\n",
      "287:\tlearn: 0.1906354\ttotal: 895ms\tremaining: 2.21s\n",
      "288:\tlearn: 0.1904031\ttotal: 898ms\tremaining: 2.21s\n",
      "289:\tlearn: 0.1903017\ttotal: 900ms\tremaining: 2.2s\n",
      "290:\tlearn: 0.1901581\ttotal: 903ms\tremaining: 2.2s\n",
      "291:\tlearn: 0.1898940\ttotal: 905ms\tremaining: 2.19s\n",
      "292:\tlearn: 0.1895436\ttotal: 908ms\tremaining: 2.19s\n",
      "293:\tlearn: 0.1894189\ttotal: 910ms\tremaining: 2.19s\n",
      "294:\tlearn: 0.1891453\ttotal: 913ms\tremaining: 2.18s\n",
      "295:\tlearn: 0.1889823\ttotal: 916ms\tremaining: 2.18s\n",
      "296:\tlearn: 0.1888324\ttotal: 918ms\tremaining: 2.17s\n",
      "297:\tlearn: 0.1886058\ttotal: 921ms\tremaining: 2.17s\n",
      "298:\tlearn: 0.1881588\ttotal: 924ms\tremaining: 2.17s\n",
      "299:\tlearn: 0.1878771\ttotal: 926ms\tremaining: 2.16s\n",
      "300:\tlearn: 0.1876560\ttotal: 929ms\tremaining: 2.16s\n",
      "301:\tlearn: 0.1875754\ttotal: 932ms\tremaining: 2.15s\n",
      "302:\tlearn: 0.1872796\ttotal: 934ms\tremaining: 2.15s\n",
      "303:\tlearn: 0.1871018\ttotal: 937ms\tremaining: 2.15s\n",
      "304:\tlearn: 0.1869172\ttotal: 939ms\tremaining: 2.14s\n",
      "305:\tlearn: 0.1866976\ttotal: 942ms\tremaining: 2.13s\n",
      "306:\tlearn: 0.1863787\ttotal: 944ms\tremaining: 2.13s\n",
      "307:\tlearn: 0.1862428\ttotal: 947ms\tremaining: 2.13s\n",
      "308:\tlearn: 0.1860523\ttotal: 950ms\tremaining: 2.12s\n",
      "309:\tlearn: 0.1859162\ttotal: 953ms\tremaining: 2.12s\n",
      "310:\tlearn: 0.1856624\ttotal: 956ms\tremaining: 2.12s\n",
      "311:\tlearn: 0.1853702\ttotal: 959ms\tremaining: 2.11s\n",
      "312:\tlearn: 0.1849798\ttotal: 961ms\tremaining: 2.11s\n",
      "313:\tlearn: 0.1843857\ttotal: 964ms\tremaining: 2.11s\n",
      "314:\tlearn: 0.1839418\ttotal: 967ms\tremaining: 2.1s\n",
      "315:\tlearn: 0.1837864\ttotal: 969ms\tremaining: 2.1s\n",
      "316:\tlearn: 0.1836592\ttotal: 972ms\tremaining: 2.09s\n",
      "317:\tlearn: 0.1833554\ttotal: 975ms\tremaining: 2.09s\n",
      "318:\tlearn: 0.1827528\ttotal: 977ms\tremaining: 2.09s\n",
      "319:\tlearn: 0.1826247\ttotal: 980ms\tremaining: 2.08s\n",
      "320:\tlearn: 0.1824617\ttotal: 982ms\tremaining: 2.08s\n",
      "321:\tlearn: 0.1820272\ttotal: 985ms\tremaining: 2.07s\n",
      "322:\tlearn: 0.1817640\ttotal: 987ms\tremaining: 2.07s\n",
      "323:\tlearn: 0.1815861\ttotal: 990ms\tremaining: 2.06s\n",
      "324:\tlearn: 0.1814331\ttotal: 992ms\tremaining: 2.06s\n",
      "325:\tlearn: 0.1812715\ttotal: 994ms\tremaining: 2.06s\n",
      "326:\tlearn: 0.1804084\ttotal: 997ms\tremaining: 2.05s\n",
      "327:\tlearn: 0.1802409\ttotal: 999ms\tremaining: 2.05s\n",
      "328:\tlearn: 0.1800798\ttotal: 1s\tremaining: 2.04s\n",
      "329:\tlearn: 0.1799856\ttotal: 1s\tremaining: 2.04s\n",
      "330:\tlearn: 0.1798984\ttotal: 1.01s\tremaining: 2.03s\n",
      "331:\tlearn: 0.1794178\ttotal: 1.01s\tremaining: 2.03s\n",
      "332:\tlearn: 0.1791993\ttotal: 1.01s\tremaining: 2.03s\n",
      "333:\tlearn: 0.1789565\ttotal: 1.01s\tremaining: 2.02s\n",
      "334:\tlearn: 0.1788371\ttotal: 1.02s\tremaining: 2.02s\n",
      "335:\tlearn: 0.1787012\ttotal: 1.02s\tremaining: 2.02s\n",
      "336:\tlearn: 0.1781342\ttotal: 1.02s\tremaining: 2.01s\n",
      "337:\tlearn: 0.1780810\ttotal: 1.02s\tremaining: 2.01s\n",
      "338:\tlearn: 0.1778885\ttotal: 1.03s\tremaining: 2s\n",
      "339:\tlearn: 0.1777266\ttotal: 1.03s\tremaining: 2s\n",
      "340:\tlearn: 0.1775675\ttotal: 1.03s\tremaining: 2s\n",
      "341:\tlearn: 0.1773268\ttotal: 1.03s\tremaining: 1.99s\n",
      "342:\tlearn: 0.1770773\ttotal: 1.04s\tremaining: 1.99s\n",
      "343:\tlearn: 0.1769298\ttotal: 1.04s\tremaining: 1.99s\n",
      "344:\tlearn: 0.1767380\ttotal: 1.04s\tremaining: 1.98s\n",
      "345:\tlearn: 0.1764791\ttotal: 1.05s\tremaining: 1.98s\n",
      "346:\tlearn: 0.1761344\ttotal: 1.05s\tremaining: 1.97s\n",
      "347:\tlearn: 0.1758892\ttotal: 1.05s\tremaining: 1.97s\n",
      "348:\tlearn: 0.1754527\ttotal: 1.05s\tremaining: 1.97s\n",
      "349:\tlearn: 0.1753444\ttotal: 1.06s\tremaining: 1.96s\n",
      "350:\tlearn: 0.1751950\ttotal: 1.06s\tremaining: 1.96s\n",
      "351:\tlearn: 0.1750776\ttotal: 1.06s\tremaining: 1.95s\n",
      "352:\tlearn: 0.1749638\ttotal: 1.06s\tremaining: 1.95s\n",
      "353:\tlearn: 0.1748360\ttotal: 1.07s\tremaining: 1.95s\n",
      "354:\tlearn: 0.1746370\ttotal: 1.07s\tremaining: 1.94s\n",
      "355:\tlearn: 0.1745223\ttotal: 1.07s\tremaining: 1.94s\n",
      "356:\tlearn: 0.1743478\ttotal: 1.07s\tremaining: 1.94s\n",
      "357:\tlearn: 0.1742465\ttotal: 1.08s\tremaining: 1.93s\n",
      "358:\tlearn: 0.1740173\ttotal: 1.08s\tremaining: 1.93s\n",
      "359:\tlearn: 0.1738020\ttotal: 1.08s\tremaining: 1.92s\n",
      "360:\tlearn: 0.1735818\ttotal: 1.08s\tremaining: 1.92s\n",
      "361:\tlearn: 0.1733918\ttotal: 1.09s\tremaining: 1.92s\n",
      "362:\tlearn: 0.1728304\ttotal: 1.09s\tremaining: 1.91s\n",
      "363:\tlearn: 0.1725094\ttotal: 1.09s\tremaining: 1.91s\n",
      "364:\tlearn: 0.1721850\ttotal: 1.09s\tremaining: 1.9s\n",
      "365:\tlearn: 0.1716678\ttotal: 1.1s\tremaining: 1.9s\n",
      "366:\tlearn: 0.1715102\ttotal: 1.1s\tremaining: 1.9s\n",
      "367:\tlearn: 0.1709336\ttotal: 1.1s\tremaining: 1.89s\n",
      "368:\tlearn: 0.1707083\ttotal: 1.1s\tremaining: 1.89s\n",
      "369:\tlearn: 0.1705625\ttotal: 1.11s\tremaining: 1.89s\n",
      "370:\tlearn: 0.1703266\ttotal: 1.11s\tremaining: 1.88s\n",
      "371:\tlearn: 0.1700137\ttotal: 1.11s\tremaining: 1.88s\n",
      "372:\tlearn: 0.1698279\ttotal: 1.11s\tremaining: 1.87s\n",
      "373:\tlearn: 0.1696175\ttotal: 1.12s\tremaining: 1.87s\n",
      "374:\tlearn: 0.1693939\ttotal: 1.12s\tremaining: 1.87s\n",
      "375:\tlearn: 0.1691393\ttotal: 1.12s\tremaining: 1.86s\n",
      "376:\tlearn: 0.1690076\ttotal: 1.12s\tremaining: 1.86s\n",
      "377:\tlearn: 0.1685776\ttotal: 1.13s\tremaining: 1.85s\n",
      "378:\tlearn: 0.1681456\ttotal: 1.13s\tremaining: 1.85s\n",
      "379:\tlearn: 0.1676742\ttotal: 1.13s\tremaining: 1.85s\n",
      "380:\tlearn: 0.1674867\ttotal: 1.13s\tremaining: 1.84s\n",
      "381:\tlearn: 0.1673010\ttotal: 1.14s\tremaining: 1.84s\n",
      "382:\tlearn: 0.1667191\ttotal: 1.14s\tremaining: 1.83s\n",
      "383:\tlearn: 0.1665333\ttotal: 1.14s\tremaining: 1.83s\n",
      "384:\tlearn: 0.1664036\ttotal: 1.14s\tremaining: 1.83s\n",
      "385:\tlearn: 0.1663175\ttotal: 1.15s\tremaining: 1.82s\n",
      "386:\tlearn: 0.1660321\ttotal: 1.15s\tremaining: 1.82s\n",
      "387:\tlearn: 0.1658055\ttotal: 1.15s\tremaining: 1.82s\n",
      "388:\tlearn: 0.1653556\ttotal: 1.15s\tremaining: 1.81s\n",
      "389:\tlearn: 0.1648472\ttotal: 1.16s\tremaining: 1.81s\n",
      "390:\tlearn: 0.1642284\ttotal: 1.16s\tremaining: 1.81s\n",
      "391:\tlearn: 0.1639053\ttotal: 1.16s\tremaining: 1.8s\n",
      "392:\tlearn: 0.1637187\ttotal: 1.17s\tremaining: 1.8s\n",
      "393:\tlearn: 0.1630882\ttotal: 1.17s\tremaining: 1.8s\n",
      "394:\tlearn: 0.1628064\ttotal: 1.17s\tremaining: 1.79s\n",
      "395:\tlearn: 0.1626505\ttotal: 1.17s\tremaining: 1.79s\n",
      "396:\tlearn: 0.1624720\ttotal: 1.18s\tremaining: 1.78s\n",
      "397:\tlearn: 0.1623452\ttotal: 1.18s\tremaining: 1.78s\n",
      "398:\tlearn: 0.1621845\ttotal: 1.18s\tremaining: 1.78s\n",
      "399:\tlearn: 0.1620081\ttotal: 1.18s\tremaining: 1.77s\n",
      "400:\tlearn: 0.1618482\ttotal: 1.19s\tremaining: 1.77s\n",
      "401:\tlearn: 0.1617149\ttotal: 1.19s\tremaining: 1.77s\n",
      "402:\tlearn: 0.1615560\ttotal: 1.19s\tremaining: 1.76s\n",
      "403:\tlearn: 0.1608854\ttotal: 1.19s\tremaining: 1.76s\n",
      "404:\tlearn: 0.1605111\ttotal: 1.19s\tremaining: 1.75s\n",
      "405:\tlearn: 0.1601620\ttotal: 1.2s\tremaining: 1.75s\n",
      "406:\tlearn: 0.1599885\ttotal: 1.2s\tremaining: 1.75s\n",
      "407:\tlearn: 0.1598809\ttotal: 1.2s\tremaining: 1.74s\n",
      "408:\tlearn: 0.1595550\ttotal: 1.2s\tremaining: 1.74s\n",
      "409:\tlearn: 0.1593352\ttotal: 1.21s\tremaining: 1.74s\n",
      "410:\tlearn: 0.1589559\ttotal: 1.21s\tremaining: 1.73s\n",
      "411:\tlearn: 0.1587509\ttotal: 1.21s\tremaining: 1.73s\n",
      "412:\tlearn: 0.1585361\ttotal: 1.21s\tremaining: 1.73s\n",
      "413:\tlearn: 0.1583438\ttotal: 1.22s\tremaining: 1.72s\n",
      "414:\tlearn: 0.1581610\ttotal: 1.22s\tremaining: 1.72s\n",
      "415:\tlearn: 0.1580319\ttotal: 1.22s\tremaining: 1.71s\n",
      "416:\tlearn: 0.1579439\ttotal: 1.22s\tremaining: 1.71s\n",
      "417:\tlearn: 0.1578174\ttotal: 1.23s\tremaining: 1.71s\n",
      "418:\tlearn: 0.1574301\ttotal: 1.23s\tremaining: 1.7s\n",
      "419:\tlearn: 0.1570795\ttotal: 1.23s\tremaining: 1.7s\n",
      "420:\tlearn: 0.1569232\ttotal: 1.23s\tremaining: 1.7s\n",
      "421:\tlearn: 0.1568181\ttotal: 1.24s\tremaining: 1.69s\n",
      "422:\tlearn: 0.1562848\ttotal: 1.24s\tremaining: 1.69s\n",
      "423:\tlearn: 0.1561513\ttotal: 1.24s\tremaining: 1.69s\n",
      "424:\tlearn: 0.1559468\ttotal: 1.24s\tremaining: 1.68s\n",
      "425:\tlearn: 0.1557814\ttotal: 1.25s\tremaining: 1.68s\n",
      "426:\tlearn: 0.1556643\ttotal: 1.25s\tremaining: 1.67s\n",
      "427:\tlearn: 0.1554597\ttotal: 1.25s\tremaining: 1.67s\n",
      "428:\tlearn: 0.1552006\ttotal: 1.25s\tremaining: 1.67s\n",
      "429:\tlearn: 0.1550791\ttotal: 1.25s\tremaining: 1.66s\n",
      "430:\tlearn: 0.1549949\ttotal: 1.26s\tremaining: 1.66s\n",
      "431:\tlearn: 0.1548697\ttotal: 1.26s\tremaining: 1.66s\n",
      "432:\tlearn: 0.1547850\ttotal: 1.26s\tremaining: 1.65s\n",
      "433:\tlearn: 0.1544392\ttotal: 1.26s\tremaining: 1.65s\n",
      "434:\tlearn: 0.1543251\ttotal: 1.27s\tremaining: 1.64s\n",
      "435:\tlearn: 0.1540085\ttotal: 1.27s\tremaining: 1.64s\n",
      "436:\tlearn: 0.1536194\ttotal: 1.27s\tremaining: 1.64s\n",
      "437:\tlearn: 0.1535343\ttotal: 1.27s\tremaining: 1.63s\n",
      "438:\tlearn: 0.1534018\ttotal: 1.27s\tremaining: 1.63s\n",
      "439:\tlearn: 0.1532973\ttotal: 1.28s\tremaining: 1.63s\n",
      "440:\tlearn: 0.1532068\ttotal: 1.28s\tremaining: 1.62s\n",
      "441:\tlearn: 0.1530159\ttotal: 1.28s\tremaining: 1.62s\n",
      "442:\tlearn: 0.1528831\ttotal: 1.28s\tremaining: 1.62s\n",
      "443:\tlearn: 0.1527557\ttotal: 1.29s\tremaining: 1.61s\n",
      "444:\tlearn: 0.1526059\ttotal: 1.29s\tremaining: 1.61s\n",
      "445:\tlearn: 0.1524403\ttotal: 1.29s\tremaining: 1.6s\n",
      "446:\tlearn: 0.1522527\ttotal: 1.29s\tremaining: 1.6s\n",
      "447:\tlearn: 0.1520290\ttotal: 1.3s\tremaining: 1.6s\n",
      "448:\tlearn: 0.1519331\ttotal: 1.3s\tremaining: 1.59s\n",
      "449:\tlearn: 0.1515998\ttotal: 1.3s\tremaining: 1.59s\n",
      "450:\tlearn: 0.1513801\ttotal: 1.3s\tremaining: 1.59s\n",
      "451:\tlearn: 0.1511884\ttotal: 1.31s\tremaining: 1.58s\n",
      "452:\tlearn: 0.1510214\ttotal: 1.31s\tremaining: 1.58s\n",
      "453:\tlearn: 0.1508954\ttotal: 1.31s\tremaining: 1.58s\n",
      "454:\tlearn: 0.1507998\ttotal: 1.31s\tremaining: 1.57s\n",
      "455:\tlearn: 0.1506198\ttotal: 1.31s\tremaining: 1.57s\n",
      "456:\tlearn: 0.1504629\ttotal: 1.32s\tremaining: 1.57s\n",
      "457:\tlearn: 0.1503155\ttotal: 1.32s\tremaining: 1.56s\n",
      "458:\tlearn: 0.1500861\ttotal: 1.32s\tremaining: 1.56s\n",
      "459:\tlearn: 0.1496421\ttotal: 1.32s\tremaining: 1.55s\n",
      "460:\tlearn: 0.1491917\ttotal: 1.33s\tremaining: 1.55s\n",
      "461:\tlearn: 0.1489729\ttotal: 1.33s\tremaining: 1.55s\n",
      "462:\tlearn: 0.1487058\ttotal: 1.33s\tremaining: 1.54s\n",
      "463:\tlearn: 0.1484481\ttotal: 1.33s\tremaining: 1.54s\n",
      "464:\tlearn: 0.1480972\ttotal: 1.34s\tremaining: 1.54s\n",
      "465:\tlearn: 0.1479547\ttotal: 1.34s\tremaining: 1.53s\n",
      "466:\tlearn: 0.1473880\ttotal: 1.34s\tremaining: 1.53s\n",
      "467:\tlearn: 0.1471101\ttotal: 1.34s\tremaining: 1.53s\n",
      "468:\tlearn: 0.1470172\ttotal: 1.35s\tremaining: 1.52s\n",
      "469:\tlearn: 0.1468565\ttotal: 1.35s\tremaining: 1.52s\n",
      "470:\tlearn: 0.1467474\ttotal: 1.35s\tremaining: 1.52s\n",
      "471:\tlearn: 0.1464986\ttotal: 1.35s\tremaining: 1.51s\n",
      "472:\tlearn: 0.1463542\ttotal: 1.36s\tremaining: 1.51s\n",
      "473:\tlearn: 0.1461885\ttotal: 1.36s\tremaining: 1.51s\n",
      "474:\tlearn: 0.1458784\ttotal: 1.36s\tremaining: 1.5s\n",
      "475:\tlearn: 0.1457082\ttotal: 1.36s\tremaining: 1.5s\n",
      "476:\tlearn: 0.1455251\ttotal: 1.37s\tremaining: 1.5s\n",
      "477:\tlearn: 0.1454244\ttotal: 1.37s\tremaining: 1.5s\n",
      "478:\tlearn: 0.1452879\ttotal: 1.37s\tremaining: 1.49s\n",
      "479:\tlearn: 0.1451783\ttotal: 1.37s\tremaining: 1.49s\n",
      "480:\tlearn: 0.1450337\ttotal: 1.38s\tremaining: 1.49s\n",
      "481:\tlearn: 0.1449433\ttotal: 1.38s\tremaining: 1.48s\n",
      "482:\tlearn: 0.1447829\ttotal: 1.38s\tremaining: 1.48s\n",
      "483:\tlearn: 0.1446977\ttotal: 1.38s\tremaining: 1.48s\n",
      "484:\tlearn: 0.1444478\ttotal: 1.39s\tremaining: 1.47s\n",
      "485:\tlearn: 0.1442742\ttotal: 1.39s\tremaining: 1.47s\n",
      "486:\tlearn: 0.1441640\ttotal: 1.39s\tremaining: 1.46s\n",
      "487:\tlearn: 0.1439588\ttotal: 1.39s\tremaining: 1.46s\n",
      "488:\tlearn: 0.1438861\ttotal: 1.4s\tremaining: 1.46s\n",
      "489:\tlearn: 0.1436388\ttotal: 1.4s\tremaining: 1.45s\n",
      "490:\tlearn: 0.1435450\ttotal: 1.4s\tremaining: 1.45s\n",
      "491:\tlearn: 0.1433756\ttotal: 1.4s\tremaining: 1.45s\n",
      "492:\tlearn: 0.1432334\ttotal: 1.4s\tremaining: 1.44s\n",
      "493:\tlearn: 0.1431523\ttotal: 1.41s\tremaining: 1.44s\n",
      "494:\tlearn: 0.1428745\ttotal: 1.41s\tremaining: 1.44s\n",
      "495:\tlearn: 0.1427371\ttotal: 1.41s\tremaining: 1.43s\n",
      "496:\tlearn: 0.1422709\ttotal: 1.41s\tremaining: 1.43s\n",
      "497:\tlearn: 0.1421144\ttotal: 1.42s\tremaining: 1.43s\n",
      "498:\tlearn: 0.1419762\ttotal: 1.42s\tremaining: 1.42s\n",
      "499:\tlearn: 0.1418821\ttotal: 1.42s\tremaining: 1.42s\n",
      "500:\tlearn: 0.1415342\ttotal: 1.42s\tremaining: 1.42s\n",
      "501:\tlearn: 0.1414460\ttotal: 1.43s\tremaining: 1.41s\n",
      "502:\tlearn: 0.1412670\ttotal: 1.43s\tremaining: 1.41s\n",
      "503:\tlearn: 0.1408629\ttotal: 1.43s\tremaining: 1.41s\n",
      "504:\tlearn: 0.1407055\ttotal: 1.43s\tremaining: 1.4s\n",
      "505:\tlearn: 0.1404916\ttotal: 1.44s\tremaining: 1.4s\n",
      "506:\tlearn: 0.1403720\ttotal: 1.44s\tremaining: 1.4s\n",
      "507:\tlearn: 0.1403050\ttotal: 1.44s\tremaining: 1.39s\n",
      "508:\tlearn: 0.1402378\ttotal: 1.44s\tremaining: 1.39s\n",
      "509:\tlearn: 0.1400691\ttotal: 1.44s\tremaining: 1.39s\n",
      "510:\tlearn: 0.1400062\ttotal: 1.45s\tremaining: 1.38s\n",
      "511:\tlearn: 0.1398038\ttotal: 1.45s\tremaining: 1.38s\n",
      "512:\tlearn: 0.1396420\ttotal: 1.45s\tremaining: 1.38s\n",
      "513:\tlearn: 0.1395023\ttotal: 1.45s\tremaining: 1.38s\n",
      "514:\tlearn: 0.1394201\ttotal: 1.46s\tremaining: 1.37s\n",
      "515:\tlearn: 0.1392860\ttotal: 1.46s\tremaining: 1.37s\n",
      "516:\tlearn: 0.1391196\ttotal: 1.46s\tremaining: 1.36s\n",
      "517:\tlearn: 0.1390511\ttotal: 1.46s\tremaining: 1.36s\n",
      "518:\tlearn: 0.1389670\ttotal: 1.47s\tremaining: 1.36s\n",
      "519:\tlearn: 0.1388670\ttotal: 1.47s\tremaining: 1.35s\n",
      "520:\tlearn: 0.1386587\ttotal: 1.47s\tremaining: 1.35s\n",
      "521:\tlearn: 0.1383345\ttotal: 1.47s\tremaining: 1.35s\n",
      "522:\tlearn: 0.1381816\ttotal: 1.48s\tremaining: 1.35s\n",
      "523:\tlearn: 0.1380330\ttotal: 1.48s\tremaining: 1.34s\n",
      "524:\tlearn: 0.1378545\ttotal: 1.48s\tremaining: 1.34s\n",
      "525:\tlearn: 0.1376807\ttotal: 1.48s\tremaining: 1.34s\n",
      "526:\tlearn: 0.1375570\ttotal: 1.49s\tremaining: 1.33s\n",
      "527:\tlearn: 0.1374520\ttotal: 1.49s\tremaining: 1.33s\n",
      "528:\tlearn: 0.1373746\ttotal: 1.49s\tremaining: 1.33s\n",
      "529:\tlearn: 0.1372377\ttotal: 1.49s\tremaining: 1.32s\n",
      "530:\tlearn: 0.1370633\ttotal: 1.5s\tremaining: 1.32s\n",
      "531:\tlearn: 0.1369368\ttotal: 1.5s\tremaining: 1.32s\n",
      "532:\tlearn: 0.1367393\ttotal: 1.5s\tremaining: 1.31s\n",
      "533:\tlearn: 0.1365056\ttotal: 1.5s\tremaining: 1.31s\n",
      "534:\tlearn: 0.1363242\ttotal: 1.5s\tremaining: 1.31s\n",
      "535:\tlearn: 0.1362042\ttotal: 1.51s\tremaining: 1.3s\n",
      "536:\tlearn: 0.1360688\ttotal: 1.51s\tremaining: 1.3s\n",
      "537:\tlearn: 0.1358682\ttotal: 1.51s\tremaining: 1.3s\n",
      "538:\tlearn: 0.1357160\ttotal: 1.51s\tremaining: 1.29s\n",
      "539:\tlearn: 0.1356033\ttotal: 1.52s\tremaining: 1.29s\n",
      "540:\tlearn: 0.1354584\ttotal: 1.52s\tremaining: 1.29s\n",
      "541:\tlearn: 0.1353918\ttotal: 1.52s\tremaining: 1.28s\n",
      "542:\tlearn: 0.1353049\ttotal: 1.52s\tremaining: 1.28s\n",
      "543:\tlearn: 0.1351958\ttotal: 1.52s\tremaining: 1.28s\n",
      "544:\tlearn: 0.1349566\ttotal: 1.53s\tremaining: 1.27s\n",
      "545:\tlearn: 0.1347657\ttotal: 1.53s\tremaining: 1.27s\n",
      "546:\tlearn: 0.1346827\ttotal: 1.53s\tremaining: 1.27s\n",
      "547:\tlearn: 0.1345293\ttotal: 1.53s\tremaining: 1.27s\n",
      "548:\tlearn: 0.1343830\ttotal: 1.54s\tremaining: 1.26s\n",
      "549:\tlearn: 0.1342863\ttotal: 1.54s\tremaining: 1.26s\n",
      "550:\tlearn: 0.1342161\ttotal: 1.54s\tremaining: 1.26s\n",
      "551:\tlearn: 0.1340038\ttotal: 1.54s\tremaining: 1.25s\n",
      "552:\tlearn: 0.1338896\ttotal: 1.55s\tremaining: 1.25s\n",
      "553:\tlearn: 0.1336043\ttotal: 1.55s\tremaining: 1.25s\n",
      "554:\tlearn: 0.1334732\ttotal: 1.55s\tremaining: 1.24s\n",
      "555:\tlearn: 0.1333809\ttotal: 1.55s\tremaining: 1.24s\n",
      "556:\tlearn: 0.1332742\ttotal: 1.56s\tremaining: 1.24s\n",
      "557:\tlearn: 0.1330440\ttotal: 1.56s\tremaining: 1.24s\n",
      "558:\tlearn: 0.1327708\ttotal: 1.56s\tremaining: 1.23s\n",
      "559:\tlearn: 0.1326003\ttotal: 1.56s\tremaining: 1.23s\n",
      "560:\tlearn: 0.1325351\ttotal: 1.57s\tremaining: 1.23s\n",
      "561:\tlearn: 0.1324824\ttotal: 1.57s\tremaining: 1.22s\n",
      "562:\tlearn: 0.1322028\ttotal: 1.57s\tremaining: 1.22s\n",
      "563:\tlearn: 0.1319164\ttotal: 1.57s\tremaining: 1.22s\n",
      "564:\tlearn: 0.1317343\ttotal: 1.58s\tremaining: 1.21s\n",
      "565:\tlearn: 0.1313689\ttotal: 1.58s\tremaining: 1.21s\n",
      "566:\tlearn: 0.1311397\ttotal: 1.58s\tremaining: 1.21s\n",
      "567:\tlearn: 0.1309879\ttotal: 1.58s\tremaining: 1.21s\n",
      "568:\tlearn: 0.1308518\ttotal: 1.59s\tremaining: 1.2s\n",
      "569:\tlearn: 0.1307122\ttotal: 1.59s\tremaining: 1.2s\n",
      "570:\tlearn: 0.1306577\ttotal: 1.59s\tremaining: 1.2s\n",
      "571:\tlearn: 0.1305862\ttotal: 1.59s\tremaining: 1.19s\n",
      "572:\tlearn: 0.1304091\ttotal: 1.6s\tremaining: 1.19s\n",
      "573:\tlearn: 0.1302977\ttotal: 1.6s\tremaining: 1.19s\n",
      "574:\tlearn: 0.1302070\ttotal: 1.6s\tremaining: 1.18s\n",
      "575:\tlearn: 0.1300671\ttotal: 1.6s\tremaining: 1.18s\n",
      "576:\tlearn: 0.1299036\ttotal: 1.61s\tremaining: 1.18s\n",
      "577:\tlearn: 0.1297334\ttotal: 1.61s\tremaining: 1.17s\n",
      "578:\tlearn: 0.1296467\ttotal: 1.61s\tremaining: 1.17s\n",
      "579:\tlearn: 0.1294057\ttotal: 1.61s\tremaining: 1.17s\n",
      "580:\tlearn: 0.1293080\ttotal: 1.62s\tremaining: 1.17s\n",
      "581:\tlearn: 0.1291291\ttotal: 1.62s\tremaining: 1.16s\n",
      "582:\tlearn: 0.1290392\ttotal: 1.62s\tremaining: 1.16s\n",
      "583:\tlearn: 0.1288339\ttotal: 1.62s\tremaining: 1.16s\n",
      "584:\tlearn: 0.1287034\ttotal: 1.63s\tremaining: 1.15s\n",
      "585:\tlearn: 0.1284923\ttotal: 1.63s\tremaining: 1.15s\n",
      "586:\tlearn: 0.1283867\ttotal: 1.63s\tremaining: 1.15s\n",
      "587:\tlearn: 0.1283320\ttotal: 1.63s\tremaining: 1.14s\n",
      "588:\tlearn: 0.1281920\ttotal: 1.64s\tremaining: 1.14s\n",
      "589:\tlearn: 0.1280101\ttotal: 1.64s\tremaining: 1.14s\n",
      "590:\tlearn: 0.1278167\ttotal: 1.64s\tremaining: 1.13s\n",
      "591:\tlearn: 0.1276597\ttotal: 1.64s\tremaining: 1.13s\n",
      "592:\tlearn: 0.1274491\ttotal: 1.64s\tremaining: 1.13s\n",
      "593:\tlearn: 0.1273166\ttotal: 1.65s\tremaining: 1.13s\n",
      "594:\tlearn: 0.1271946\ttotal: 1.65s\tremaining: 1.12s\n",
      "595:\tlearn: 0.1270737\ttotal: 1.65s\tremaining: 1.12s\n",
      "596:\tlearn: 0.1270133\ttotal: 1.65s\tremaining: 1.12s\n",
      "597:\tlearn: 0.1268524\ttotal: 1.66s\tremaining: 1.11s\n",
      "598:\tlearn: 0.1266767\ttotal: 1.66s\tremaining: 1.11s\n",
      "599:\tlearn: 0.1266007\ttotal: 1.66s\tremaining: 1.11s\n",
      "600:\tlearn: 0.1264387\ttotal: 1.66s\tremaining: 1.1s\n",
      "601:\tlearn: 0.1263480\ttotal: 1.67s\tremaining: 1.1s\n",
      "602:\tlearn: 0.1260564\ttotal: 1.67s\tremaining: 1.1s\n",
      "603:\tlearn: 0.1259474\ttotal: 1.67s\tremaining: 1.09s\n",
      "604:\tlearn: 0.1258120\ttotal: 1.67s\tremaining: 1.09s\n",
      "605:\tlearn: 0.1257155\ttotal: 1.68s\tremaining: 1.09s\n",
      "606:\tlearn: 0.1255252\ttotal: 1.68s\tremaining: 1.09s\n",
      "607:\tlearn: 0.1254387\ttotal: 1.68s\tremaining: 1.08s\n",
      "608:\tlearn: 0.1253166\ttotal: 1.68s\tremaining: 1.08s\n",
      "609:\tlearn: 0.1251859\ttotal: 1.69s\tremaining: 1.08s\n",
      "610:\tlearn: 0.1250236\ttotal: 1.69s\tremaining: 1.07s\n",
      "611:\tlearn: 0.1249488\ttotal: 1.69s\tremaining: 1.07s\n",
      "612:\tlearn: 0.1248293\ttotal: 1.69s\tremaining: 1.07s\n",
      "613:\tlearn: 0.1246605\ttotal: 1.69s\tremaining: 1.06s\n",
      "614:\tlearn: 0.1245704\ttotal: 1.7s\tremaining: 1.06s\n",
      "615:\tlearn: 0.1244479\ttotal: 1.7s\tremaining: 1.06s\n",
      "616:\tlearn: 0.1243534\ttotal: 1.7s\tremaining: 1.06s\n",
      "617:\tlearn: 0.1241073\ttotal: 1.7s\tremaining: 1.05s\n",
      "618:\tlearn: 0.1239995\ttotal: 1.71s\tremaining: 1.05s\n",
      "619:\tlearn: 0.1238901\ttotal: 1.71s\tremaining: 1.05s\n",
      "620:\tlearn: 0.1238302\ttotal: 1.71s\tremaining: 1.04s\n",
      "621:\tlearn: 0.1236782\ttotal: 1.71s\tremaining: 1.04s\n",
      "622:\tlearn: 0.1235093\ttotal: 1.72s\tremaining: 1.04s\n",
      "623:\tlearn: 0.1232968\ttotal: 1.72s\tremaining: 1.03s\n",
      "624:\tlearn: 0.1231632\ttotal: 1.72s\tremaining: 1.03s\n",
      "625:\tlearn: 0.1230415\ttotal: 1.72s\tremaining: 1.03s\n",
      "626:\tlearn: 0.1228631\ttotal: 1.73s\tremaining: 1.03s\n",
      "627:\tlearn: 0.1226785\ttotal: 1.73s\tremaining: 1.02s\n",
      "628:\tlearn: 0.1225626\ttotal: 1.73s\tremaining: 1.02s\n",
      "629:\tlearn: 0.1224705\ttotal: 1.73s\tremaining: 1.02s\n",
      "630:\tlearn: 0.1223940\ttotal: 1.74s\tremaining: 1.01s\n",
      "631:\tlearn: 0.1221183\ttotal: 1.74s\tremaining: 1.01s\n",
      "632:\tlearn: 0.1219769\ttotal: 1.74s\tremaining: 1.01s\n",
      "633:\tlearn: 0.1218375\ttotal: 1.74s\tremaining: 1.01s\n",
      "634:\tlearn: 0.1216357\ttotal: 1.75s\tremaining: 1s\n",
      "635:\tlearn: 0.1214675\ttotal: 1.75s\tremaining: 1s\n",
      "636:\tlearn: 0.1213067\ttotal: 1.75s\tremaining: 998ms\n",
      "637:\tlearn: 0.1212322\ttotal: 1.75s\tremaining: 995ms\n",
      "638:\tlearn: 0.1211140\ttotal: 1.76s\tremaining: 993ms\n",
      "639:\tlearn: 0.1210101\ttotal: 1.76s\tremaining: 990ms\n",
      "640:\tlearn: 0.1209369\ttotal: 1.76s\tremaining: 987ms\n",
      "641:\tlearn: 0.1207838\ttotal: 1.76s\tremaining: 984ms\n",
      "642:\tlearn: 0.1206803\ttotal: 1.77s\tremaining: 982ms\n",
      "643:\tlearn: 0.1206085\ttotal: 1.77s\tremaining: 979ms\n",
      "644:\tlearn: 0.1205256\ttotal: 1.77s\tremaining: 976ms\n",
      "645:\tlearn: 0.1203954\ttotal: 1.77s\tremaining: 973ms\n",
      "646:\tlearn: 0.1203012\ttotal: 1.78s\tremaining: 970ms\n",
      "647:\tlearn: 0.1202501\ttotal: 1.78s\tremaining: 967ms\n",
      "648:\tlearn: 0.1202030\ttotal: 1.78s\tremaining: 964ms\n",
      "649:\tlearn: 0.1200919\ttotal: 1.78s\tremaining: 961ms\n",
      "650:\tlearn: 0.1199485\ttotal: 1.79s\tremaining: 958ms\n",
      "651:\tlearn: 0.1198126\ttotal: 1.79s\tremaining: 955ms\n",
      "652:\tlearn: 0.1196877\ttotal: 1.79s\tremaining: 952ms\n",
      "653:\tlearn: 0.1195725\ttotal: 1.79s\tremaining: 950ms\n",
      "654:\tlearn: 0.1193808\ttotal: 1.8s\tremaining: 947ms\n",
      "655:\tlearn: 0.1192477\ttotal: 1.8s\tremaining: 944ms\n",
      "656:\tlearn: 0.1190770\ttotal: 1.8s\tremaining: 941ms\n",
      "657:\tlearn: 0.1189941\ttotal: 1.8s\tremaining: 938ms\n",
      "658:\tlearn: 0.1188947\ttotal: 1.81s\tremaining: 935ms\n",
      "659:\tlearn: 0.1187423\ttotal: 1.81s\tremaining: 932ms\n",
      "660:\tlearn: 0.1186279\ttotal: 1.81s\tremaining: 929ms\n",
      "661:\tlearn: 0.1185027\ttotal: 1.81s\tremaining: 926ms\n",
      "662:\tlearn: 0.1184012\ttotal: 1.82s\tremaining: 923ms\n",
      "663:\tlearn: 0.1182218\ttotal: 1.82s\tremaining: 920ms\n",
      "664:\tlearn: 0.1181488\ttotal: 1.82s\tremaining: 918ms\n",
      "665:\tlearn: 0.1179726\ttotal: 1.82s\tremaining: 915ms\n",
      "666:\tlearn: 0.1178610\ttotal: 1.83s\tremaining: 912ms\n",
      "667:\tlearn: 0.1177043\ttotal: 1.83s\tremaining: 909ms\n",
      "668:\tlearn: 0.1176071\ttotal: 1.83s\tremaining: 906ms\n",
      "669:\tlearn: 0.1175077\ttotal: 1.83s\tremaining: 903ms\n",
      "670:\tlearn: 0.1173983\ttotal: 1.83s\tremaining: 900ms\n",
      "671:\tlearn: 0.1172911\ttotal: 1.84s\tremaining: 897ms\n",
      "672:\tlearn: 0.1171563\ttotal: 1.84s\tremaining: 894ms\n",
      "673:\tlearn: 0.1169784\ttotal: 1.84s\tremaining: 891ms\n",
      "674:\tlearn: 0.1168397\ttotal: 1.84s\tremaining: 888ms\n",
      "675:\tlearn: 0.1167560\ttotal: 1.85s\tremaining: 885ms\n",
      "676:\tlearn: 0.1166729\ttotal: 1.85s\tremaining: 882ms\n",
      "677:\tlearn: 0.1165949\ttotal: 1.85s\tremaining: 879ms\n",
      "678:\tlearn: 0.1164568\ttotal: 1.85s\tremaining: 877ms\n",
      "679:\tlearn: 0.1163521\ttotal: 1.86s\tremaining: 874ms\n",
      "680:\tlearn: 0.1161961\ttotal: 1.86s\tremaining: 871ms\n",
      "681:\tlearn: 0.1160060\ttotal: 1.86s\tremaining: 868ms\n",
      "682:\tlearn: 0.1158781\ttotal: 1.86s\tremaining: 865ms\n",
      "683:\tlearn: 0.1158047\ttotal: 1.86s\tremaining: 862ms\n",
      "684:\tlearn: 0.1157314\ttotal: 1.87s\tremaining: 859ms\n",
      "685:\tlearn: 0.1154795\ttotal: 1.87s\tremaining: 856ms\n",
      "686:\tlearn: 0.1153135\ttotal: 1.87s\tremaining: 853ms\n",
      "687:\tlearn: 0.1151695\ttotal: 1.88s\tremaining: 851ms\n",
      "688:\tlearn: 0.1151238\ttotal: 1.88s\tremaining: 848ms\n",
      "689:\tlearn: 0.1150623\ttotal: 1.88s\tremaining: 845ms\n",
      "690:\tlearn: 0.1149718\ttotal: 1.88s\tremaining: 842ms\n",
      "691:\tlearn: 0.1149359\ttotal: 1.89s\tremaining: 839ms\n",
      "692:\tlearn: 0.1148328\ttotal: 1.89s\tremaining: 836ms\n",
      "693:\tlearn: 0.1146168\ttotal: 1.89s\tremaining: 833ms\n",
      "694:\tlearn: 0.1145299\ttotal: 1.89s\tremaining: 830ms\n",
      "695:\tlearn: 0.1144368\ttotal: 1.89s\tremaining: 827ms\n",
      "696:\tlearn: 0.1142690\ttotal: 1.9s\tremaining: 825ms\n",
      "697:\tlearn: 0.1141262\ttotal: 1.9s\tremaining: 822ms\n",
      "698:\tlearn: 0.1139542\ttotal: 1.9s\tremaining: 819ms\n",
      "699:\tlearn: 0.1138107\ttotal: 1.9s\tremaining: 816ms\n",
      "700:\tlearn: 0.1137180\ttotal: 1.91s\tremaining: 813ms\n",
      "701:\tlearn: 0.1136320\ttotal: 1.91s\tremaining: 810ms\n",
      "702:\tlearn: 0.1134442\ttotal: 1.91s\tremaining: 807ms\n",
      "703:\tlearn: 0.1133615\ttotal: 1.91s\tremaining: 804ms\n",
      "704:\tlearn: 0.1132991\ttotal: 1.92s\tremaining: 801ms\n",
      "705:\tlearn: 0.1131732\ttotal: 1.92s\tremaining: 799ms\n",
      "706:\tlearn: 0.1130120\ttotal: 1.92s\tremaining: 796ms\n",
      "707:\tlearn: 0.1128945\ttotal: 1.92s\tremaining: 793ms\n",
      "708:\tlearn: 0.1128540\ttotal: 1.92s\tremaining: 790ms\n",
      "709:\tlearn: 0.1127802\ttotal: 1.93s\tremaining: 787ms\n",
      "710:\tlearn: 0.1126345\ttotal: 1.93s\tremaining: 784ms\n",
      "711:\tlearn: 0.1123280\ttotal: 1.93s\tremaining: 782ms\n",
      "712:\tlearn: 0.1122463\ttotal: 1.93s\tremaining: 779ms\n",
      "713:\tlearn: 0.1121194\ttotal: 1.94s\tremaining: 776ms\n",
      "714:\tlearn: 0.1120507\ttotal: 1.94s\tremaining: 773ms\n",
      "715:\tlearn: 0.1119974\ttotal: 1.94s\tremaining: 770ms\n",
      "716:\tlearn: 0.1119256\ttotal: 1.94s\tremaining: 767ms\n",
      "717:\tlearn: 0.1118441\ttotal: 1.95s\tremaining: 764ms\n",
      "718:\tlearn: 0.1117226\ttotal: 1.95s\tremaining: 762ms\n",
      "719:\tlearn: 0.1116232\ttotal: 1.95s\tremaining: 759ms\n",
      "720:\tlearn: 0.1114994\ttotal: 1.95s\tremaining: 756ms\n",
      "721:\tlearn: 0.1114500\ttotal: 1.96s\tremaining: 753ms\n",
      "722:\tlearn: 0.1113868\ttotal: 1.96s\tremaining: 751ms\n",
      "723:\tlearn: 0.1112715\ttotal: 1.96s\tremaining: 748ms\n",
      "724:\tlearn: 0.1111473\ttotal: 1.96s\tremaining: 745ms\n",
      "725:\tlearn: 0.1110324\ttotal: 1.97s\tremaining: 742ms\n",
      "726:\tlearn: 0.1109431\ttotal: 1.97s\tremaining: 740ms\n",
      "727:\tlearn: 0.1108589\ttotal: 1.97s\tremaining: 737ms\n",
      "728:\tlearn: 0.1107793\ttotal: 1.97s\tremaining: 734ms\n",
      "729:\tlearn: 0.1107424\ttotal: 1.98s\tremaining: 731ms\n",
      "730:\tlearn: 0.1106895\ttotal: 1.98s\tremaining: 728ms\n",
      "731:\tlearn: 0.1105862\ttotal: 1.98s\tremaining: 726ms\n",
      "732:\tlearn: 0.1104903\ttotal: 1.98s\tremaining: 723ms\n",
      "733:\tlearn: 0.1104121\ttotal: 1.99s\tremaining: 720ms\n",
      "734:\tlearn: 0.1103177\ttotal: 1.99s\tremaining: 717ms\n",
      "735:\tlearn: 0.1102594\ttotal: 1.99s\tremaining: 714ms\n",
      "736:\tlearn: 0.1101738\ttotal: 1.99s\tremaining: 711ms\n",
      "737:\tlearn: 0.1099949\ttotal: 2s\tremaining: 709ms\n",
      "738:\tlearn: 0.1098648\ttotal: 2s\tremaining: 706ms\n",
      "739:\tlearn: 0.1097128\ttotal: 2s\tremaining: 703ms\n",
      "740:\tlearn: 0.1096166\ttotal: 2s\tremaining: 700ms\n",
      "741:\tlearn: 0.1095242\ttotal: 2s\tremaining: 697ms\n",
      "742:\tlearn: 0.1093942\ttotal: 2.01s\tremaining: 694ms\n",
      "743:\tlearn: 0.1093041\ttotal: 2.01s\tremaining: 692ms\n",
      "744:\tlearn: 0.1092002\ttotal: 2.01s\tremaining: 689ms\n",
      "745:\tlearn: 0.1091027\ttotal: 2.01s\tremaining: 686ms\n",
      "746:\tlearn: 0.1090613\ttotal: 2.02s\tremaining: 683ms\n",
      "747:\tlearn: 0.1089897\ttotal: 2.02s\tremaining: 680ms\n",
      "748:\tlearn: 0.1088578\ttotal: 2.02s\tremaining: 678ms\n",
      "749:\tlearn: 0.1087086\ttotal: 2.02s\tremaining: 675ms\n",
      "750:\tlearn: 0.1085965\ttotal: 2.03s\tremaining: 672ms\n",
      "751:\tlearn: 0.1084601\ttotal: 2.03s\tremaining: 669ms\n",
      "752:\tlearn: 0.1084166\ttotal: 2.03s\tremaining: 666ms\n",
      "753:\tlearn: 0.1083027\ttotal: 2.03s\tremaining: 664ms\n",
      "754:\tlearn: 0.1081889\ttotal: 2.04s\tremaining: 661ms\n",
      "755:\tlearn: 0.1080590\ttotal: 2.04s\tremaining: 658ms\n",
      "756:\tlearn: 0.1079919\ttotal: 2.04s\tremaining: 655ms\n",
      "757:\tlearn: 0.1079525\ttotal: 2.04s\tremaining: 652ms\n",
      "758:\tlearn: 0.1079042\ttotal: 2.04s\tremaining: 650ms\n",
      "759:\tlearn: 0.1078274\ttotal: 2.05s\tremaining: 647ms\n",
      "760:\tlearn: 0.1076962\ttotal: 2.05s\tremaining: 644ms\n",
      "761:\tlearn: 0.1076070\ttotal: 2.05s\tremaining: 641ms\n",
      "762:\tlearn: 0.1073766\ttotal: 2.05s\tremaining: 638ms\n",
      "763:\tlearn: 0.1072609\ttotal: 2.06s\tremaining: 635ms\n",
      "764:\tlearn: 0.1072018\ttotal: 2.06s\tremaining: 633ms\n",
      "765:\tlearn: 0.1070293\ttotal: 2.06s\tremaining: 630ms\n",
      "766:\tlearn: 0.1069971\ttotal: 2.06s\tremaining: 627ms\n",
      "767:\tlearn: 0.1069514\ttotal: 2.07s\tremaining: 624ms\n",
      "768:\tlearn: 0.1068627\ttotal: 2.07s\tremaining: 622ms\n",
      "769:\tlearn: 0.1067636\ttotal: 2.07s\tremaining: 619ms\n",
      "770:\tlearn: 0.1067122\ttotal: 2.07s\tremaining: 616ms\n",
      "771:\tlearn: 0.1065808\ttotal: 2.08s\tremaining: 613ms\n",
      "772:\tlearn: 0.1063392\ttotal: 2.08s\tremaining: 610ms\n",
      "773:\tlearn: 0.1062052\ttotal: 2.08s\tremaining: 608ms\n",
      "774:\tlearn: 0.1060794\ttotal: 2.08s\tremaining: 605ms\n",
      "775:\tlearn: 0.1057972\ttotal: 2.08s\tremaining: 602ms\n",
      "776:\tlearn: 0.1057362\ttotal: 2.09s\tremaining: 599ms\n",
      "777:\tlearn: 0.1056330\ttotal: 2.09s\tremaining: 596ms\n",
      "778:\tlearn: 0.1054884\ttotal: 2.09s\tremaining: 594ms\n",
      "779:\tlearn: 0.1053454\ttotal: 2.1s\tremaining: 591ms\n",
      "780:\tlearn: 0.1052432\ttotal: 2.1s\tremaining: 588ms\n",
      "781:\tlearn: 0.1050597\ttotal: 2.1s\tremaining: 585ms\n",
      "782:\tlearn: 0.1049997\ttotal: 2.1s\tremaining: 583ms\n",
      "783:\tlearn: 0.1049639\ttotal: 2.1s\tremaining: 580ms\n",
      "784:\tlearn: 0.1048987\ttotal: 2.11s\tremaining: 577ms\n",
      "785:\tlearn: 0.1047794\ttotal: 2.11s\tremaining: 574ms\n",
      "786:\tlearn: 0.1046666\ttotal: 2.11s\tremaining: 572ms\n",
      "787:\tlearn: 0.1045784\ttotal: 2.11s\tremaining: 569ms\n",
      "788:\tlearn: 0.1044677\ttotal: 2.12s\tremaining: 566ms\n",
      "789:\tlearn: 0.1043933\ttotal: 2.12s\tremaining: 563ms\n",
      "790:\tlearn: 0.1042931\ttotal: 2.12s\tremaining: 560ms\n",
      "791:\tlearn: 0.1042096\ttotal: 2.12s\tremaining: 558ms\n",
      "792:\tlearn: 0.1041071\ttotal: 2.13s\tremaining: 555ms\n",
      "793:\tlearn: 0.1039433\ttotal: 2.13s\tremaining: 552ms\n",
      "794:\tlearn: 0.1038033\ttotal: 2.13s\tremaining: 549ms\n",
      "795:\tlearn: 0.1037109\ttotal: 2.13s\tremaining: 547ms\n",
      "796:\tlearn: 0.1036243\ttotal: 2.13s\tremaining: 544ms\n",
      "797:\tlearn: 0.1035113\ttotal: 2.14s\tremaining: 541ms\n",
      "798:\tlearn: 0.1034422\ttotal: 2.14s\tremaining: 538ms\n",
      "799:\tlearn: 0.1033541\ttotal: 2.14s\tremaining: 536ms\n",
      "800:\tlearn: 0.1030851\ttotal: 2.15s\tremaining: 533ms\n",
      "801:\tlearn: 0.1029745\ttotal: 2.15s\tremaining: 530ms\n",
      "802:\tlearn: 0.1029421\ttotal: 2.15s\tremaining: 527ms\n",
      "803:\tlearn: 0.1028226\ttotal: 2.15s\tremaining: 525ms\n",
      "804:\tlearn: 0.1027522\ttotal: 2.15s\tremaining: 522ms\n",
      "805:\tlearn: 0.1026787\ttotal: 2.16s\tremaining: 519ms\n",
      "806:\tlearn: 0.1025118\ttotal: 2.16s\tremaining: 517ms\n",
      "807:\tlearn: 0.1024273\ttotal: 2.16s\tremaining: 514ms\n",
      "808:\tlearn: 0.1023931\ttotal: 2.17s\tremaining: 511ms\n",
      "809:\tlearn: 0.1022796\ttotal: 2.17s\tremaining: 509ms\n",
      "810:\tlearn: 0.1021555\ttotal: 2.17s\tremaining: 506ms\n",
      "811:\tlearn: 0.1020641\ttotal: 2.17s\tremaining: 503ms\n",
      "812:\tlearn: 0.1019689\ttotal: 2.18s\tremaining: 501ms\n",
      "813:\tlearn: 0.1018673\ttotal: 2.18s\tremaining: 498ms\n",
      "814:\tlearn: 0.1016239\ttotal: 2.18s\tremaining: 495ms\n",
      "815:\tlearn: 0.1015441\ttotal: 2.18s\tremaining: 492ms\n",
      "816:\tlearn: 0.1013663\ttotal: 2.19s\tremaining: 490ms\n",
      "817:\tlearn: 0.1012964\ttotal: 2.19s\tremaining: 487ms\n",
      "818:\tlearn: 0.1011986\ttotal: 2.19s\tremaining: 484ms\n",
      "819:\tlearn: 0.1011676\ttotal: 2.19s\tremaining: 481ms\n",
      "820:\tlearn: 0.1011056\ttotal: 2.19s\tremaining: 479ms\n",
      "821:\tlearn: 0.1010190\ttotal: 2.2s\tremaining: 476ms\n",
      "822:\tlearn: 0.1008228\ttotal: 2.2s\tremaining: 473ms\n",
      "823:\tlearn: 0.1006226\ttotal: 2.2s\tremaining: 470ms\n",
      "824:\tlearn: 0.1005255\ttotal: 2.2s\tremaining: 468ms\n",
      "825:\tlearn: 0.1004383\ttotal: 2.21s\tremaining: 465ms\n",
      "826:\tlearn: 0.1003069\ttotal: 2.21s\tremaining: 462ms\n",
      "827:\tlearn: 0.1002143\ttotal: 2.21s\tremaining: 460ms\n",
      "828:\tlearn: 0.1001289\ttotal: 2.21s\tremaining: 457ms\n",
      "829:\tlearn: 0.0999894\ttotal: 2.22s\tremaining: 454ms\n",
      "830:\tlearn: 0.0998376\ttotal: 2.22s\tremaining: 451ms\n",
      "831:\tlearn: 0.0997695\ttotal: 2.22s\tremaining: 449ms\n",
      "832:\tlearn: 0.0996653\ttotal: 2.22s\tremaining: 446ms\n",
      "833:\tlearn: 0.0995074\ttotal: 2.23s\tremaining: 443ms\n",
      "834:\tlearn: 0.0994005\ttotal: 2.23s\tremaining: 440ms\n",
      "835:\tlearn: 0.0992755\ttotal: 2.23s\tremaining: 438ms\n",
      "836:\tlearn: 0.0992271\ttotal: 2.23s\tremaining: 435ms\n",
      "837:\tlearn: 0.0991625\ttotal: 2.23s\tremaining: 432ms\n",
      "838:\tlearn: 0.0990477\ttotal: 2.24s\tremaining: 429ms\n",
      "839:\tlearn: 0.0989860\ttotal: 2.24s\tremaining: 427ms\n",
      "840:\tlearn: 0.0989307\ttotal: 2.24s\tremaining: 424ms\n",
      "841:\tlearn: 0.0987849\ttotal: 2.25s\tremaining: 421ms\n",
      "842:\tlearn: 0.0986893\ttotal: 2.25s\tremaining: 419ms\n",
      "843:\tlearn: 0.0985930\ttotal: 2.25s\tremaining: 416ms\n",
      "844:\tlearn: 0.0984632\ttotal: 2.25s\tremaining: 413ms\n",
      "845:\tlearn: 0.0984112\ttotal: 2.25s\tremaining: 410ms\n",
      "846:\tlearn: 0.0983229\ttotal: 2.26s\tremaining: 408ms\n",
      "847:\tlearn: 0.0982431\ttotal: 2.26s\tremaining: 405ms\n",
      "848:\tlearn: 0.0980625\ttotal: 2.26s\tremaining: 402ms\n",
      "849:\tlearn: 0.0979216\ttotal: 2.26s\tremaining: 400ms\n",
      "850:\tlearn: 0.0978121\ttotal: 2.27s\tremaining: 397ms\n",
      "851:\tlearn: 0.0977482\ttotal: 2.27s\tremaining: 394ms\n",
      "852:\tlearn: 0.0975746\ttotal: 2.27s\tremaining: 391ms\n",
      "853:\tlearn: 0.0974849\ttotal: 2.27s\tremaining: 389ms\n",
      "854:\tlearn: 0.0973969\ttotal: 2.28s\tremaining: 386ms\n",
      "855:\tlearn: 0.0973409\ttotal: 2.28s\tremaining: 383ms\n",
      "856:\tlearn: 0.0972329\ttotal: 2.28s\tremaining: 381ms\n",
      "857:\tlearn: 0.0972045\ttotal: 2.28s\tremaining: 378ms\n",
      "858:\tlearn: 0.0971305\ttotal: 2.29s\tremaining: 375ms\n",
      "859:\tlearn: 0.0970607\ttotal: 2.29s\tremaining: 372ms\n",
      "860:\tlearn: 0.0970162\ttotal: 2.29s\tremaining: 370ms\n",
      "861:\tlearn: 0.0969327\ttotal: 2.29s\tremaining: 367ms\n",
      "862:\tlearn: 0.0968352\ttotal: 2.29s\tremaining: 364ms\n",
      "863:\tlearn: 0.0967543\ttotal: 2.3s\tremaining: 362ms\n",
      "864:\tlearn: 0.0966402\ttotal: 2.3s\tremaining: 359ms\n",
      "865:\tlearn: 0.0966062\ttotal: 2.3s\tremaining: 356ms\n",
      "866:\tlearn: 0.0965005\ttotal: 2.3s\tremaining: 354ms\n",
      "867:\tlearn: 0.0964283\ttotal: 2.31s\tremaining: 351ms\n",
      "868:\tlearn: 0.0963386\ttotal: 2.31s\tremaining: 348ms\n",
      "869:\tlearn: 0.0962450\ttotal: 2.31s\tremaining: 345ms\n",
      "870:\tlearn: 0.0961329\ttotal: 2.31s\tremaining: 343ms\n",
      "871:\tlearn: 0.0960611\ttotal: 2.32s\tremaining: 340ms\n",
      "872:\tlearn: 0.0959735\ttotal: 2.32s\tremaining: 337ms\n",
      "873:\tlearn: 0.0959227\ttotal: 2.32s\tremaining: 335ms\n",
      "874:\tlearn: 0.0958551\ttotal: 2.32s\tremaining: 332ms\n",
      "875:\tlearn: 0.0957547\ttotal: 2.33s\tremaining: 329ms\n",
      "876:\tlearn: 0.0956824\ttotal: 2.33s\tremaining: 327ms\n",
      "877:\tlearn: 0.0956034\ttotal: 2.33s\tremaining: 324ms\n",
      "878:\tlearn: 0.0954565\ttotal: 2.33s\tremaining: 321ms\n",
      "879:\tlearn: 0.0953651\ttotal: 2.34s\tremaining: 319ms\n",
      "880:\tlearn: 0.0952462\ttotal: 2.34s\tremaining: 316ms\n",
      "881:\tlearn: 0.0951757\ttotal: 2.34s\tremaining: 313ms\n",
      "882:\tlearn: 0.0950910\ttotal: 2.34s\tremaining: 311ms\n",
      "883:\tlearn: 0.0950198\ttotal: 2.35s\tremaining: 308ms\n",
      "884:\tlearn: 0.0949249\ttotal: 2.35s\tremaining: 305ms\n",
      "885:\tlearn: 0.0948466\ttotal: 2.35s\tremaining: 302ms\n",
      "886:\tlearn: 0.0947814\ttotal: 2.35s\tremaining: 300ms\n",
      "887:\tlearn: 0.0947223\ttotal: 2.35s\tremaining: 297ms\n",
      "888:\tlearn: 0.0946535\ttotal: 2.36s\tremaining: 294ms\n",
      "889:\tlearn: 0.0945690\ttotal: 2.36s\tremaining: 292ms\n",
      "890:\tlearn: 0.0945168\ttotal: 2.36s\tremaining: 289ms\n",
      "891:\tlearn: 0.0944544\ttotal: 2.37s\tremaining: 287ms\n",
      "892:\tlearn: 0.0943026\ttotal: 2.37s\tremaining: 284ms\n",
      "893:\tlearn: 0.0942150\ttotal: 2.37s\tremaining: 281ms\n",
      "894:\tlearn: 0.0941286\ttotal: 2.37s\tremaining: 279ms\n",
      "895:\tlearn: 0.0940013\ttotal: 2.38s\tremaining: 276ms\n",
      "896:\tlearn: 0.0939522\ttotal: 2.38s\tremaining: 273ms\n",
      "897:\tlearn: 0.0939147\ttotal: 2.38s\tremaining: 270ms\n",
      "898:\tlearn: 0.0938585\ttotal: 2.38s\tremaining: 268ms\n",
      "899:\tlearn: 0.0937531\ttotal: 2.39s\tremaining: 265ms\n",
      "900:\tlearn: 0.0937024\ttotal: 2.39s\tremaining: 262ms\n",
      "901:\tlearn: 0.0936352\ttotal: 2.39s\tremaining: 260ms\n",
      "902:\tlearn: 0.0935488\ttotal: 2.39s\tremaining: 257ms\n",
      "903:\tlearn: 0.0934403\ttotal: 2.4s\tremaining: 254ms\n",
      "904:\tlearn: 0.0933833\ttotal: 2.4s\tremaining: 252ms\n",
      "905:\tlearn: 0.0933636\ttotal: 2.4s\tremaining: 249ms\n",
      "906:\tlearn: 0.0933284\ttotal: 2.4s\tremaining: 246ms\n",
      "907:\tlearn: 0.0932654\ttotal: 2.4s\tremaining: 244ms\n",
      "908:\tlearn: 0.0932229\ttotal: 2.41s\tremaining: 241ms\n",
      "909:\tlearn: 0.0931188\ttotal: 2.41s\tremaining: 238ms\n",
      "910:\tlearn: 0.0929952\ttotal: 2.41s\tremaining: 236ms\n",
      "911:\tlearn: 0.0929044\ttotal: 2.41s\tremaining: 233ms\n",
      "912:\tlearn: 0.0928512\ttotal: 2.42s\tremaining: 230ms\n",
      "913:\tlearn: 0.0927713\ttotal: 2.42s\tremaining: 228ms\n",
      "914:\tlearn: 0.0927268\ttotal: 2.42s\tremaining: 225ms\n",
      "915:\tlearn: 0.0926397\ttotal: 2.42s\tremaining: 222ms\n",
      "916:\tlearn: 0.0925480\ttotal: 2.43s\tremaining: 220ms\n",
      "917:\tlearn: 0.0923925\ttotal: 2.43s\tremaining: 217ms\n",
      "918:\tlearn: 0.0923268\ttotal: 2.43s\tremaining: 214ms\n",
      "919:\tlearn: 0.0922294\ttotal: 2.43s\tremaining: 212ms\n",
      "920:\tlearn: 0.0921217\ttotal: 2.44s\tremaining: 209ms\n",
      "921:\tlearn: 0.0920838\ttotal: 2.44s\tremaining: 206ms\n",
      "922:\tlearn: 0.0920209\ttotal: 2.44s\tremaining: 204ms\n",
      "923:\tlearn: 0.0918353\ttotal: 2.44s\tremaining: 201ms\n",
      "924:\tlearn: 0.0917420\ttotal: 2.44s\tremaining: 198ms\n",
      "925:\tlearn: 0.0916380\ttotal: 2.45s\tremaining: 196ms\n",
      "926:\tlearn: 0.0915258\ttotal: 2.45s\tremaining: 193ms\n",
      "927:\tlearn: 0.0914011\ttotal: 2.45s\tremaining: 190ms\n",
      "928:\tlearn: 0.0912095\ttotal: 2.45s\tremaining: 188ms\n",
      "929:\tlearn: 0.0911260\ttotal: 2.46s\tremaining: 185ms\n",
      "930:\tlearn: 0.0910800\ttotal: 2.46s\tremaining: 182ms\n",
      "931:\tlearn: 0.0909824\ttotal: 2.46s\tremaining: 180ms\n",
      "932:\tlearn: 0.0908938\ttotal: 2.46s\tremaining: 177ms\n",
      "933:\tlearn: 0.0907752\ttotal: 2.47s\tremaining: 174ms\n",
      "934:\tlearn: 0.0907002\ttotal: 2.47s\tremaining: 172ms\n",
      "935:\tlearn: 0.0906222\ttotal: 2.47s\tremaining: 169ms\n",
      "936:\tlearn: 0.0905268\ttotal: 2.47s\tremaining: 166ms\n",
      "937:\tlearn: 0.0904278\ttotal: 2.48s\tremaining: 164ms\n",
      "938:\tlearn: 0.0903559\ttotal: 2.48s\tremaining: 161ms\n",
      "939:\tlearn: 0.0902837\ttotal: 2.48s\tremaining: 158ms\n",
      "940:\tlearn: 0.0901731\ttotal: 2.48s\tremaining: 156ms\n",
      "941:\tlearn: 0.0900633\ttotal: 2.48s\tremaining: 153ms\n",
      "942:\tlearn: 0.0899858\ttotal: 2.49s\tremaining: 150ms\n",
      "943:\tlearn: 0.0899550\ttotal: 2.49s\tremaining: 148ms\n",
      "944:\tlearn: 0.0898747\ttotal: 2.49s\tremaining: 145ms\n",
      "945:\tlearn: 0.0898473\ttotal: 2.5s\tremaining: 142ms\n",
      "946:\tlearn: 0.0897898\ttotal: 2.5s\tremaining: 140ms\n",
      "947:\tlearn: 0.0897381\ttotal: 2.5s\tremaining: 137ms\n",
      "948:\tlearn: 0.0896819\ttotal: 2.5s\tremaining: 134ms\n",
      "949:\tlearn: 0.0896003\ttotal: 2.5s\tremaining: 132ms\n",
      "950:\tlearn: 0.0895702\ttotal: 2.51s\tremaining: 129ms\n",
      "951:\tlearn: 0.0895361\ttotal: 2.51s\tremaining: 127ms\n",
      "952:\tlearn: 0.0894547\ttotal: 2.51s\tremaining: 124ms\n",
      "953:\tlearn: 0.0893513\ttotal: 2.51s\tremaining: 121ms\n",
      "954:\tlearn: 0.0892417\ttotal: 2.52s\tremaining: 119ms\n",
      "955:\tlearn: 0.0891393\ttotal: 2.52s\tremaining: 116ms\n",
      "956:\tlearn: 0.0890045\ttotal: 2.52s\tremaining: 113ms\n",
      "957:\tlearn: 0.0889262\ttotal: 2.52s\tremaining: 111ms\n",
      "958:\tlearn: 0.0888778\ttotal: 2.53s\tremaining: 108ms\n",
      "959:\tlearn: 0.0888462\ttotal: 2.53s\tremaining: 105ms\n",
      "960:\tlearn: 0.0887918\ttotal: 2.53s\tremaining: 103ms\n",
      "961:\tlearn: 0.0887227\ttotal: 2.53s\tremaining: 100ms\n",
      "962:\tlearn: 0.0886725\ttotal: 2.54s\tremaining: 97.5ms\n",
      "963:\tlearn: 0.0885970\ttotal: 2.54s\tremaining: 94.8ms\n",
      "964:\tlearn: 0.0885134\ttotal: 2.54s\tremaining: 92.2ms\n",
      "965:\tlearn: 0.0884428\ttotal: 2.54s\tremaining: 89.5ms\n",
      "966:\tlearn: 0.0883657\ttotal: 2.55s\tremaining: 86.9ms\n",
      "967:\tlearn: 0.0882542\ttotal: 2.55s\tremaining: 84.2ms\n",
      "968:\tlearn: 0.0880328\ttotal: 2.55s\tremaining: 81.6ms\n",
      "969:\tlearn: 0.0878221\ttotal: 2.55s\tremaining: 79ms\n",
      "970:\tlearn: 0.0877270\ttotal: 2.56s\tremaining: 76.3ms\n",
      "971:\tlearn: 0.0875073\ttotal: 2.56s\tremaining: 73.7ms\n",
      "972:\tlearn: 0.0874707\ttotal: 2.56s\tremaining: 71.1ms\n",
      "973:\tlearn: 0.0874476\ttotal: 2.56s\tremaining: 68.4ms\n",
      "974:\tlearn: 0.0873788\ttotal: 2.57s\tremaining: 65.8ms\n",
      "975:\tlearn: 0.0872709\ttotal: 2.57s\tremaining: 63.2ms\n",
      "976:\tlearn: 0.0871951\ttotal: 2.57s\tremaining: 60.5ms\n",
      "977:\tlearn: 0.0871470\ttotal: 2.57s\tremaining: 57.9ms\n",
      "978:\tlearn: 0.0870818\ttotal: 2.58s\tremaining: 55.3ms\n",
      "979:\tlearn: 0.0870178\ttotal: 2.58s\tremaining: 52.6ms\n",
      "980:\tlearn: 0.0869931\ttotal: 2.58s\tremaining: 50ms\n",
      "981:\tlearn: 0.0868640\ttotal: 2.58s\tremaining: 47.4ms\n",
      "982:\tlearn: 0.0868262\ttotal: 2.58s\tremaining: 44.7ms\n",
      "983:\tlearn: 0.0867526\ttotal: 2.59s\tremaining: 42.1ms\n",
      "984:\tlearn: 0.0866827\ttotal: 2.59s\tremaining: 39.4ms\n",
      "985:\tlearn: 0.0866271\ttotal: 2.59s\tremaining: 36.8ms\n",
      "986:\tlearn: 0.0864690\ttotal: 2.6s\tremaining: 34.2ms\n",
      "987:\tlearn: 0.0863635\ttotal: 2.6s\tremaining: 31.5ms\n",
      "988:\tlearn: 0.0863315\ttotal: 2.6s\tremaining: 28.9ms\n",
      "989:\tlearn: 0.0862413\ttotal: 2.6s\tremaining: 26.3ms\n",
      "990:\tlearn: 0.0860766\ttotal: 2.6s\tremaining: 23.7ms\n",
      "991:\tlearn: 0.0859768\ttotal: 2.61s\tremaining: 21ms\n",
      "992:\tlearn: 0.0858672\ttotal: 2.61s\tremaining: 18.4ms\n",
      "993:\tlearn: 0.0857240\ttotal: 2.61s\tremaining: 15.8ms\n",
      "994:\tlearn: 0.0856768\ttotal: 2.61s\tremaining: 13.1ms\n",
      "995:\tlearn: 0.0856071\ttotal: 2.62s\tremaining: 10.5ms\n",
      "996:\tlearn: 0.0855433\ttotal: 2.62s\tremaining: 7.88ms\n",
      "997:\tlearn: 0.0854816\ttotal: 2.62s\tremaining: 5.25ms\n",
      "998:\tlearn: 0.0853492\ttotal: 2.62s\tremaining: 2.63ms\n",
      "999:\tlearn: 0.0853161\ttotal: 2.63s\tremaining: 0us\n"
     ]
    },
    {
     "data": {
      "text/html": [
       "<style>#sk-container-id-1 {color: black;background-color: white;}#sk-container-id-1 pre{padding: 0;}#sk-container-id-1 div.sk-toggleable {background-color: white;}#sk-container-id-1 label.sk-toggleable__label {cursor: pointer;display: block;width: 100%;margin-bottom: 0;padding: 0.3em;box-sizing: border-box;text-align: center;}#sk-container-id-1 label.sk-toggleable__label-arrow:before {content: \"▸\";float: left;margin-right: 0.25em;color: #696969;}#sk-container-id-1 label.sk-toggleable__label-arrow:hover:before {color: black;}#sk-container-id-1 div.sk-estimator:hover label.sk-toggleable__label-arrow:before {color: black;}#sk-container-id-1 div.sk-toggleable__content {max-height: 0;max-width: 0;overflow: hidden;text-align: left;background-color: #f0f8ff;}#sk-container-id-1 div.sk-toggleable__content pre {margin: 0.2em;color: black;border-radius: 0.25em;background-color: #f0f8ff;}#sk-container-id-1 input.sk-toggleable__control:checked~div.sk-toggleable__content {max-height: 200px;max-width: 100%;overflow: auto;}#sk-container-id-1 input.sk-toggleable__control:checked~label.sk-toggleable__label-arrow:before {content: \"▾\";}#sk-container-id-1 div.sk-estimator input.sk-toggleable__control:checked~label.sk-toggleable__label {background-color: #d4ebff;}#sk-container-id-1 div.sk-label input.sk-toggleable__control:checked~label.sk-toggleable__label {background-color: #d4ebff;}#sk-container-id-1 input.sk-hidden--visually {border: 0;clip: rect(1px 1px 1px 1px);clip: rect(1px, 1px, 1px, 1px);height: 1px;margin: -1px;overflow: hidden;padding: 0;position: absolute;width: 1px;}#sk-container-id-1 div.sk-estimator {font-family: monospace;background-color: #f0f8ff;border: 1px dotted black;border-radius: 0.25em;box-sizing: border-box;margin-bottom: 0.5em;}#sk-container-id-1 div.sk-estimator:hover {background-color: #d4ebff;}#sk-container-id-1 div.sk-parallel-item::after {content: \"\";width: 100%;border-bottom: 1px solid gray;flex-grow: 1;}#sk-container-id-1 div.sk-label:hover label.sk-toggleable__label {background-color: #d4ebff;}#sk-container-id-1 div.sk-serial::before {content: \"\";position: absolute;border-left: 1px solid gray;box-sizing: border-box;top: 0;bottom: 0;left: 50%;z-index: 0;}#sk-container-id-1 div.sk-serial {display: flex;flex-direction: column;align-items: center;background-color: white;padding-right: 0.2em;padding-left: 0.2em;position: relative;}#sk-container-id-1 div.sk-item {position: relative;z-index: 1;}#sk-container-id-1 div.sk-parallel {display: flex;align-items: stretch;justify-content: center;background-color: white;position: relative;}#sk-container-id-1 div.sk-item::before, #sk-container-id-1 div.sk-parallel-item::before {content: \"\";position: absolute;border-left: 1px solid gray;box-sizing: border-box;top: 0;bottom: 0;left: 50%;z-index: -1;}#sk-container-id-1 div.sk-parallel-item {display: flex;flex-direction: column;z-index: 1;position: relative;background-color: white;}#sk-container-id-1 div.sk-parallel-item:first-child::after {align-self: flex-end;width: 50%;}#sk-container-id-1 div.sk-parallel-item:last-child::after {align-self: flex-start;width: 50%;}#sk-container-id-1 div.sk-parallel-item:only-child::after {width: 0;}#sk-container-id-1 div.sk-dashed-wrapped {border: 1px dashed gray;margin: 0 0.4em 0.5em 0.4em;box-sizing: border-box;padding-bottom: 0.4em;background-color: white;}#sk-container-id-1 div.sk-label label {font-family: monospace;font-weight: bold;display: inline-block;line-height: 1.2em;}#sk-container-id-1 div.sk-label-container {text-align: center;}#sk-container-id-1 div.sk-container {/* jupyter's `normalize.less` sets `[hidden] { display: none; }` but bootstrap.min.css set `[hidden] { display: none !important; }` so we also need the `!important` here to be able to override the default hidden behavior on the sphinx rendered scikit-learn.org. See: https://github.com/scikit-learn/scikit-learn/issues/21755 */display: inline-block !important;position: relative;}#sk-container-id-1 div.sk-text-repr-fallback {display: none;}</style><div id=\"sk-container-id-1\" class=\"sk-top-container\"><div class=\"sk-text-repr-fallback\"><pre>RandomizedSearchCV(cv=10,\n",
       "                   estimator=&lt;catboost.core.CatBoostClassifier object at 0x000001AED0279F10&gt;,\n",
       "                   n_jobs=4,\n",
       "                   param_distributions={&#x27;depth&#x27;: [4, 6, 10],\n",
       "                                        &#x27;l2_leaf_reg&#x27;: [1, 5, 9],\n",
       "                                        &#x27;learning_rate&#x27;: [0.03, 0.1]},\n",
       "                   scoring=&#x27;roc_auc&#x27;, verbose=2)</pre><b>In a Jupyter environment, please rerun this cell to show the HTML representation or trust the notebook. <br />On GitHub, the HTML representation is unable to render, please try loading this page with nbviewer.org.</b></div><div class=\"sk-container\" hidden><div class=\"sk-item sk-dashed-wrapped\"><div class=\"sk-label-container\"><div class=\"sk-label sk-toggleable\"><input class=\"sk-toggleable__control sk-hidden--visually\" id=\"sk-estimator-id-1\" type=\"checkbox\" ><label for=\"sk-estimator-id-1\" class=\"sk-toggleable__label sk-toggleable__label-arrow\">RandomizedSearchCV</label><div class=\"sk-toggleable__content\"><pre>RandomizedSearchCV(cv=10,\n",
       "                   estimator=&lt;catboost.core.CatBoostClassifier object at 0x000001AED0279F10&gt;,\n",
       "                   n_jobs=4,\n",
       "                   param_distributions={&#x27;depth&#x27;: [4, 6, 10],\n",
       "                                        &#x27;l2_leaf_reg&#x27;: [1, 5, 9],\n",
       "                                        &#x27;learning_rate&#x27;: [0.03, 0.1]},\n",
       "                   scoring=&#x27;roc_auc&#x27;, verbose=2)</pre></div></div></div><div class=\"sk-parallel\"><div class=\"sk-parallel-item\"><div class=\"sk-item\"><div class=\"sk-label-container\"><div class=\"sk-label sk-toggleable\"><input class=\"sk-toggleable__control sk-hidden--visually\" id=\"sk-estimator-id-2\" type=\"checkbox\" ><label for=\"sk-estimator-id-2\" class=\"sk-toggleable__label sk-toggleable__label-arrow\">estimator: CatBoostClassifier</label><div class=\"sk-toggleable__content\"><pre>&lt;catboost.core.CatBoostClassifier object at 0x000001AED0279F10&gt;</pre></div></div></div><div class=\"sk-serial\"><div class=\"sk-item\"><div class=\"sk-estimator sk-toggleable\"><input class=\"sk-toggleable__control sk-hidden--visually\" id=\"sk-estimator-id-3\" type=\"checkbox\" ><label for=\"sk-estimator-id-3\" class=\"sk-toggleable__label sk-toggleable__label-arrow\">CatBoostClassifier</label><div class=\"sk-toggleable__content\"><pre>&lt;catboost.core.CatBoostClassifier object at 0x000001AED0279F10&gt;</pre></div></div></div></div></div></div></div></div></div></div>"
      ],
      "text/plain": [
       "RandomizedSearchCV(cv=10,\n",
       "                   estimator=<catboost.core.CatBoostClassifier object at 0x000001AED0279F10>,\n",
       "                   n_jobs=4,\n",
       "                   param_distributions={'depth': [4, 6, 10],\n",
       "                                        'l2_leaf_reg': [1, 5, 9],\n",
       "                                        'learning_rate': [0.03, 0.1]},\n",
       "                   scoring='roc_auc', verbose=2)"
      ]
     },
     "execution_count": 34,
     "metadata": {},
     "output_type": "execute_result"
    }
   ],
   "source": [
    "ct_RandomGrid.fit(x_train_coded, y_train)"
   ]
  },
  {
   "cell_type": "code",
   "execution_count": 35,
   "id": "9cea5944",
   "metadata": {},
   "outputs": [
    {
     "name": "stdout",
     "output_type": "stream",
     "text": [
      "{'learning_rate': 0.1, 'l2_leaf_reg': 1, 'depth': 4}\n",
      "Roc-Auc : 0.921\n"
     ]
    }
   ],
   "source": [
    "print (ct_RandomGrid.best_params_)\n",
    "print (f'Roc-Auc : {ct_RandomGrid.best_score_:.3f}') #score(x_train_coded,y_train):.3f}'"
   ]
  },
  {
   "cell_type": "markdown",
   "id": "80754397",
   "metadata": {},
   "source": [
    "## 4.2 RandomForest"
   ]
  },
  {
   "cell_type": "code",
   "execution_count": 36,
   "id": "9fde9143",
   "metadata": {},
   "outputs": [],
   "source": [
    "model_rf = RandomForestClassifier(random_state=RANDOM_STATE)\n",
    "params_rf = {'n_estimators': range(1, 101, 10),\n",
    "               'max_depth': range(1,20, 2),\n",
    "               'bootstrap': [True, False]}"
   ]
  },
  {
   "cell_type": "code",
   "execution_count": 37,
   "id": "dde6dfaf",
   "metadata": {},
   "outputs": [],
   "source": [
    "rf_RandomGrid = RandomizedSearchCV(estimator = model_rf, \n",
    "                                   param_distributions = params_rf, \n",
    "                                   cv = 10, \n",
    "                                   verbose=2, \n",
    "                                   n_jobs = 4,\n",
    "                                   scoring='roc_auc')"
   ]
  },
  {
   "cell_type": "code",
   "execution_count": 38,
   "id": "378bf54f",
   "metadata": {},
   "outputs": [
    {
     "name": "stdout",
     "output_type": "stream",
     "text": [
      "Fitting 10 folds for each of 10 candidates, totalling 100 fits\n"
     ]
    },
    {
     "data": {
      "text/html": [
       "<style>#sk-container-id-2 {color: black;background-color: white;}#sk-container-id-2 pre{padding: 0;}#sk-container-id-2 div.sk-toggleable {background-color: white;}#sk-container-id-2 label.sk-toggleable__label {cursor: pointer;display: block;width: 100%;margin-bottom: 0;padding: 0.3em;box-sizing: border-box;text-align: center;}#sk-container-id-2 label.sk-toggleable__label-arrow:before {content: \"▸\";float: left;margin-right: 0.25em;color: #696969;}#sk-container-id-2 label.sk-toggleable__label-arrow:hover:before {color: black;}#sk-container-id-2 div.sk-estimator:hover label.sk-toggleable__label-arrow:before {color: black;}#sk-container-id-2 div.sk-toggleable__content {max-height: 0;max-width: 0;overflow: hidden;text-align: left;background-color: #f0f8ff;}#sk-container-id-2 div.sk-toggleable__content pre {margin: 0.2em;color: black;border-radius: 0.25em;background-color: #f0f8ff;}#sk-container-id-2 input.sk-toggleable__control:checked~div.sk-toggleable__content {max-height: 200px;max-width: 100%;overflow: auto;}#sk-container-id-2 input.sk-toggleable__control:checked~label.sk-toggleable__label-arrow:before {content: \"▾\";}#sk-container-id-2 div.sk-estimator input.sk-toggleable__control:checked~label.sk-toggleable__label {background-color: #d4ebff;}#sk-container-id-2 div.sk-label input.sk-toggleable__control:checked~label.sk-toggleable__label {background-color: #d4ebff;}#sk-container-id-2 input.sk-hidden--visually {border: 0;clip: rect(1px 1px 1px 1px);clip: rect(1px, 1px, 1px, 1px);height: 1px;margin: -1px;overflow: hidden;padding: 0;position: absolute;width: 1px;}#sk-container-id-2 div.sk-estimator {font-family: monospace;background-color: #f0f8ff;border: 1px dotted black;border-radius: 0.25em;box-sizing: border-box;margin-bottom: 0.5em;}#sk-container-id-2 div.sk-estimator:hover {background-color: #d4ebff;}#sk-container-id-2 div.sk-parallel-item::after {content: \"\";width: 100%;border-bottom: 1px solid gray;flex-grow: 1;}#sk-container-id-2 div.sk-label:hover label.sk-toggleable__label {background-color: #d4ebff;}#sk-container-id-2 div.sk-serial::before {content: \"\";position: absolute;border-left: 1px solid gray;box-sizing: border-box;top: 0;bottom: 0;left: 50%;z-index: 0;}#sk-container-id-2 div.sk-serial {display: flex;flex-direction: column;align-items: center;background-color: white;padding-right: 0.2em;padding-left: 0.2em;position: relative;}#sk-container-id-2 div.sk-item {position: relative;z-index: 1;}#sk-container-id-2 div.sk-parallel {display: flex;align-items: stretch;justify-content: center;background-color: white;position: relative;}#sk-container-id-2 div.sk-item::before, #sk-container-id-2 div.sk-parallel-item::before {content: \"\";position: absolute;border-left: 1px solid gray;box-sizing: border-box;top: 0;bottom: 0;left: 50%;z-index: -1;}#sk-container-id-2 div.sk-parallel-item {display: flex;flex-direction: column;z-index: 1;position: relative;background-color: white;}#sk-container-id-2 div.sk-parallel-item:first-child::after {align-self: flex-end;width: 50%;}#sk-container-id-2 div.sk-parallel-item:last-child::after {align-self: flex-start;width: 50%;}#sk-container-id-2 div.sk-parallel-item:only-child::after {width: 0;}#sk-container-id-2 div.sk-dashed-wrapped {border: 1px dashed gray;margin: 0 0.4em 0.5em 0.4em;box-sizing: border-box;padding-bottom: 0.4em;background-color: white;}#sk-container-id-2 div.sk-label label {font-family: monospace;font-weight: bold;display: inline-block;line-height: 1.2em;}#sk-container-id-2 div.sk-label-container {text-align: center;}#sk-container-id-2 div.sk-container {/* jupyter's `normalize.less` sets `[hidden] { display: none; }` but bootstrap.min.css set `[hidden] { display: none !important; }` so we also need the `!important` here to be able to override the default hidden behavior on the sphinx rendered scikit-learn.org. See: https://github.com/scikit-learn/scikit-learn/issues/21755 */display: inline-block !important;position: relative;}#sk-container-id-2 div.sk-text-repr-fallback {display: none;}</style><div id=\"sk-container-id-2\" class=\"sk-top-container\"><div class=\"sk-text-repr-fallback\"><pre>RandomizedSearchCV(cv=10, estimator=RandomForestClassifier(random_state=100423),\n",
       "                   n_jobs=4,\n",
       "                   param_distributions={&#x27;bootstrap&#x27;: [True, False],\n",
       "                                        &#x27;max_depth&#x27;: range(1, 20, 2),\n",
       "                                        &#x27;n_estimators&#x27;: range(1, 101, 10)},\n",
       "                   scoring=&#x27;roc_auc&#x27;, verbose=2)</pre><b>In a Jupyter environment, please rerun this cell to show the HTML representation or trust the notebook. <br />On GitHub, the HTML representation is unable to render, please try loading this page with nbviewer.org.</b></div><div class=\"sk-container\" hidden><div class=\"sk-item sk-dashed-wrapped\"><div class=\"sk-label-container\"><div class=\"sk-label sk-toggleable\"><input class=\"sk-toggleable__control sk-hidden--visually\" id=\"sk-estimator-id-4\" type=\"checkbox\" ><label for=\"sk-estimator-id-4\" class=\"sk-toggleable__label sk-toggleable__label-arrow\">RandomizedSearchCV</label><div class=\"sk-toggleable__content\"><pre>RandomizedSearchCV(cv=10, estimator=RandomForestClassifier(random_state=100423),\n",
       "                   n_jobs=4,\n",
       "                   param_distributions={&#x27;bootstrap&#x27;: [True, False],\n",
       "                                        &#x27;max_depth&#x27;: range(1, 20, 2),\n",
       "                                        &#x27;n_estimators&#x27;: range(1, 101, 10)},\n",
       "                   scoring=&#x27;roc_auc&#x27;, verbose=2)</pre></div></div></div><div class=\"sk-parallel\"><div class=\"sk-parallel-item\"><div class=\"sk-item\"><div class=\"sk-label-container\"><div class=\"sk-label sk-toggleable\"><input class=\"sk-toggleable__control sk-hidden--visually\" id=\"sk-estimator-id-5\" type=\"checkbox\" ><label for=\"sk-estimator-id-5\" class=\"sk-toggleable__label sk-toggleable__label-arrow\">estimator: RandomForestClassifier</label><div class=\"sk-toggleable__content\"><pre>RandomForestClassifier(random_state=100423)</pre></div></div></div><div class=\"sk-serial\"><div class=\"sk-item\"><div class=\"sk-estimator sk-toggleable\"><input class=\"sk-toggleable__control sk-hidden--visually\" id=\"sk-estimator-id-6\" type=\"checkbox\" ><label for=\"sk-estimator-id-6\" class=\"sk-toggleable__label sk-toggleable__label-arrow\">RandomForestClassifier</label><div class=\"sk-toggleable__content\"><pre>RandomForestClassifier(random_state=100423)</pre></div></div></div></div></div></div></div></div></div></div>"
      ],
      "text/plain": [
       "RandomizedSearchCV(cv=10, estimator=RandomForestClassifier(random_state=100423),\n",
       "                   n_jobs=4,\n",
       "                   param_distributions={'bootstrap': [True, False],\n",
       "                                        'max_depth': range(1, 20, 2),\n",
       "                                        'n_estimators': range(1, 101, 10)},\n",
       "                   scoring='roc_auc', verbose=2)"
      ]
     },
     "execution_count": 38,
     "metadata": {},
     "output_type": "execute_result"
    }
   ],
   "source": [
    "rf_RandomGrid.fit(x_train_coded, y_train)"
   ]
  },
  {
   "cell_type": "code",
   "execution_count": 39,
   "id": "1b59fcea",
   "metadata": {},
   "outputs": [
    {
     "name": "stdout",
     "output_type": "stream",
     "text": [
      "{'n_estimators': 61, 'max_depth': 9, 'bootstrap': False}\n",
      " Roc-Auc: 0.825\n"
     ]
    }
   ],
   "source": [
    "print (rf_RandomGrid.best_params_)\n",
    "print (f' Roc-Auc: {rf_RandomGrid.best_score_:.3f}')"
   ]
  },
  {
   "cell_type": "markdown",
   "id": "69ae2d23",
   "metadata": {},
   "source": [
    "## 4.3 LightGBM"
   ]
  },
  {
   "cell_type": "code",
   "execution_count": 40,
   "id": "3456ea86",
   "metadata": {},
   "outputs": [],
   "source": [
    "model_lg = LGBMClassifier(random_state=RANDOM_STATE)\n",
    "param_lg = {\n",
    "              'max_depth': [5, 20],\n",
    "              'learning_rate': [0.01, 0.05, 0.1],\n",
    "              'n_estimators': [100, 300],\n",
    "              'reg_alpha': [0.1, 1],\n",
    "              'reg_lambda': [0.5, 1]\n",
    "}"
   ]
  },
  {
   "cell_type": "code",
   "execution_count": 41,
   "id": "d7c8cf53",
   "metadata": {},
   "outputs": [],
   "source": [
    "lg_RandomGrid = RandomizedSearchCV(estimator = model_lg, \n",
    "                                   param_distributions = param_lg, \n",
    "                                   cv = 10, \n",
    "                                   verbose=2, \n",
    "                                   n_jobs = 4,\n",
    "                                   scoring='roc_auc')"
   ]
  },
  {
   "cell_type": "code",
   "execution_count": 42,
   "id": "98306d97",
   "metadata": {},
   "outputs": [
    {
     "name": "stdout",
     "output_type": "stream",
     "text": [
      "Fitting 10 folds for each of 10 candidates, totalling 100 fits\n"
     ]
    },
    {
     "data": {
      "text/html": [
       "<style>#sk-container-id-3 {color: black;background-color: white;}#sk-container-id-3 pre{padding: 0;}#sk-container-id-3 div.sk-toggleable {background-color: white;}#sk-container-id-3 label.sk-toggleable__label {cursor: pointer;display: block;width: 100%;margin-bottom: 0;padding: 0.3em;box-sizing: border-box;text-align: center;}#sk-container-id-3 label.sk-toggleable__label-arrow:before {content: \"▸\";float: left;margin-right: 0.25em;color: #696969;}#sk-container-id-3 label.sk-toggleable__label-arrow:hover:before {color: black;}#sk-container-id-3 div.sk-estimator:hover label.sk-toggleable__label-arrow:before {color: black;}#sk-container-id-3 div.sk-toggleable__content {max-height: 0;max-width: 0;overflow: hidden;text-align: left;background-color: #f0f8ff;}#sk-container-id-3 div.sk-toggleable__content pre {margin: 0.2em;color: black;border-radius: 0.25em;background-color: #f0f8ff;}#sk-container-id-3 input.sk-toggleable__control:checked~div.sk-toggleable__content {max-height: 200px;max-width: 100%;overflow: auto;}#sk-container-id-3 input.sk-toggleable__control:checked~label.sk-toggleable__label-arrow:before {content: \"▾\";}#sk-container-id-3 div.sk-estimator input.sk-toggleable__control:checked~label.sk-toggleable__label {background-color: #d4ebff;}#sk-container-id-3 div.sk-label input.sk-toggleable__control:checked~label.sk-toggleable__label {background-color: #d4ebff;}#sk-container-id-3 input.sk-hidden--visually {border: 0;clip: rect(1px 1px 1px 1px);clip: rect(1px, 1px, 1px, 1px);height: 1px;margin: -1px;overflow: hidden;padding: 0;position: absolute;width: 1px;}#sk-container-id-3 div.sk-estimator {font-family: monospace;background-color: #f0f8ff;border: 1px dotted black;border-radius: 0.25em;box-sizing: border-box;margin-bottom: 0.5em;}#sk-container-id-3 div.sk-estimator:hover {background-color: #d4ebff;}#sk-container-id-3 div.sk-parallel-item::after {content: \"\";width: 100%;border-bottom: 1px solid gray;flex-grow: 1;}#sk-container-id-3 div.sk-label:hover label.sk-toggleable__label {background-color: #d4ebff;}#sk-container-id-3 div.sk-serial::before {content: \"\";position: absolute;border-left: 1px solid gray;box-sizing: border-box;top: 0;bottom: 0;left: 50%;z-index: 0;}#sk-container-id-3 div.sk-serial {display: flex;flex-direction: column;align-items: center;background-color: white;padding-right: 0.2em;padding-left: 0.2em;position: relative;}#sk-container-id-3 div.sk-item {position: relative;z-index: 1;}#sk-container-id-3 div.sk-parallel {display: flex;align-items: stretch;justify-content: center;background-color: white;position: relative;}#sk-container-id-3 div.sk-item::before, #sk-container-id-3 div.sk-parallel-item::before {content: \"\";position: absolute;border-left: 1px solid gray;box-sizing: border-box;top: 0;bottom: 0;left: 50%;z-index: -1;}#sk-container-id-3 div.sk-parallel-item {display: flex;flex-direction: column;z-index: 1;position: relative;background-color: white;}#sk-container-id-3 div.sk-parallel-item:first-child::after {align-self: flex-end;width: 50%;}#sk-container-id-3 div.sk-parallel-item:last-child::after {align-self: flex-start;width: 50%;}#sk-container-id-3 div.sk-parallel-item:only-child::after {width: 0;}#sk-container-id-3 div.sk-dashed-wrapped {border: 1px dashed gray;margin: 0 0.4em 0.5em 0.4em;box-sizing: border-box;padding-bottom: 0.4em;background-color: white;}#sk-container-id-3 div.sk-label label {font-family: monospace;font-weight: bold;display: inline-block;line-height: 1.2em;}#sk-container-id-3 div.sk-label-container {text-align: center;}#sk-container-id-3 div.sk-container {/* jupyter's `normalize.less` sets `[hidden] { display: none; }` but bootstrap.min.css set `[hidden] { display: none !important; }` so we also need the `!important` here to be able to override the default hidden behavior on the sphinx rendered scikit-learn.org. See: https://github.com/scikit-learn/scikit-learn/issues/21755 */display: inline-block !important;position: relative;}#sk-container-id-3 div.sk-text-repr-fallback {display: none;}</style><div id=\"sk-container-id-3\" class=\"sk-top-container\"><div class=\"sk-text-repr-fallback\"><pre>RandomizedSearchCV(cv=10, estimator=LGBMClassifier(random_state=100423),\n",
       "                   n_jobs=4,\n",
       "                   param_distributions={&#x27;learning_rate&#x27;: [0.01, 0.05, 0.1],\n",
       "                                        &#x27;max_depth&#x27;: [5, 20],\n",
       "                                        &#x27;n_estimators&#x27;: [100, 300],\n",
       "                                        &#x27;reg_alpha&#x27;: [0.1, 1],\n",
       "                                        &#x27;reg_lambda&#x27;: [0.5, 1]},\n",
       "                   scoring=&#x27;roc_auc&#x27;, verbose=2)</pre><b>In a Jupyter environment, please rerun this cell to show the HTML representation or trust the notebook. <br />On GitHub, the HTML representation is unable to render, please try loading this page with nbviewer.org.</b></div><div class=\"sk-container\" hidden><div class=\"sk-item sk-dashed-wrapped\"><div class=\"sk-label-container\"><div class=\"sk-label sk-toggleable\"><input class=\"sk-toggleable__control sk-hidden--visually\" id=\"sk-estimator-id-7\" type=\"checkbox\" ><label for=\"sk-estimator-id-7\" class=\"sk-toggleable__label sk-toggleable__label-arrow\">RandomizedSearchCV</label><div class=\"sk-toggleable__content\"><pre>RandomizedSearchCV(cv=10, estimator=LGBMClassifier(random_state=100423),\n",
       "                   n_jobs=4,\n",
       "                   param_distributions={&#x27;learning_rate&#x27;: [0.01, 0.05, 0.1],\n",
       "                                        &#x27;max_depth&#x27;: [5, 20],\n",
       "                                        &#x27;n_estimators&#x27;: [100, 300],\n",
       "                                        &#x27;reg_alpha&#x27;: [0.1, 1],\n",
       "                                        &#x27;reg_lambda&#x27;: [0.5, 1]},\n",
       "                   scoring=&#x27;roc_auc&#x27;, verbose=2)</pre></div></div></div><div class=\"sk-parallel\"><div class=\"sk-parallel-item\"><div class=\"sk-item\"><div class=\"sk-label-container\"><div class=\"sk-label sk-toggleable\"><input class=\"sk-toggleable__control sk-hidden--visually\" id=\"sk-estimator-id-8\" type=\"checkbox\" ><label for=\"sk-estimator-id-8\" class=\"sk-toggleable__label sk-toggleable__label-arrow\">estimator: LGBMClassifier</label><div class=\"sk-toggleable__content\"><pre>LGBMClassifier(random_state=100423)</pre></div></div></div><div class=\"sk-serial\"><div class=\"sk-item\"><div class=\"sk-estimator sk-toggleable\"><input class=\"sk-toggleable__control sk-hidden--visually\" id=\"sk-estimator-id-9\" type=\"checkbox\" ><label for=\"sk-estimator-id-9\" class=\"sk-toggleable__label sk-toggleable__label-arrow\">LGBMClassifier</label><div class=\"sk-toggleable__content\"><pre>LGBMClassifier(random_state=100423)</pre></div></div></div></div></div></div></div></div></div></div>"
      ],
      "text/plain": [
       "RandomizedSearchCV(cv=10, estimator=LGBMClassifier(random_state=100423),\n",
       "                   n_jobs=4,\n",
       "                   param_distributions={'learning_rate': [0.01, 0.05, 0.1],\n",
       "                                        'max_depth': [5, 20],\n",
       "                                        'n_estimators': [100, 300],\n",
       "                                        'reg_alpha': [0.1, 1],\n",
       "                                        'reg_lambda': [0.5, 1]},\n",
       "                   scoring='roc_auc', verbose=2)"
      ]
     },
     "execution_count": 42,
     "metadata": {},
     "output_type": "execute_result"
    }
   ],
   "source": [
    "lg_RandomGrid.fit(x_train_coded, y_train)"
   ]
  },
  {
   "cell_type": "code",
   "execution_count": 43,
   "id": "41f560a8",
   "metadata": {},
   "outputs": [
    {
     "name": "stdout",
     "output_type": "stream",
     "text": [
      "{'reg_lambda': 1, 'reg_alpha': 0.1, 'n_estimators': 300, 'max_depth': 20, 'learning_rate': 0.1}\n",
      "Roc-Auc : 0.889\n"
     ]
    }
   ],
   "source": [
    "print (lg_RandomGrid.best_params_)\n",
    "print (f'Roc-Auc : {lg_RandomGrid.best_score_:.3f}')"
   ]
  },
  {
   "cell_type": "markdown",
   "id": "9808f14c",
   "metadata": {},
   "source": [
    "Метрика Roc-Auc показала лучший результат на модели LightGBM"
   ]
  },
  {
   "cell_type": "markdown",
   "id": "8c30dfbf",
   "metadata": {},
   "source": [
    "## 4.4 Проврека лучшей модели на тесте"
   ]
  },
  {
   "cell_type": "markdown",
   "id": "1ad2f888",
   "metadata": {},
   "source": [
    "Лучшей моделью оказался CatBoost, с лучшими гиперпараметрами проведем тестирование "
   ]
  },
  {
   "cell_type": "code",
   "execution_count": 44,
   "id": "e83d9ef1",
   "metadata": {},
   "outputs": [
    {
     "data": {
      "text/plain": [
       "array([0.15123199, 0.02457066, 0.95360584, ..., 0.92858653, 0.00181908,\n",
       "       0.04328144])"
      ]
     },
     "execution_count": 44,
     "metadata": {},
     "output_type": "execute_result"
    }
   ],
   "source": [
    "predict_proba = ct_RandomGrid.best_estimator_.predict_proba(x_test_coded)[:,1]\n",
    "predict_proba"
   ]
  },
  {
   "cell_type": "code",
   "execution_count": 45,
   "id": "c534062e",
   "metadata": {
    "scrolled": true
   },
   "outputs": [
    {
     "name": "stdout",
     "output_type": "stream",
     "text": [
      " ROC-AUC лучшей модели на тесте: 0.941\n"
     ]
    }
   ],
   "source": [
    "print (f' ROC-AUC лучшей модели на тесте: {roc_auc_score(y_test, predict_proba):.3f}')"
   ]
  },
  {
   "cell_type": "code",
   "execution_count": 46,
   "id": "e65953ba",
   "metadata": {
    "scrolled": false
   },
   "outputs": [
    {
     "data": {
      "image/png": "[encoded data removed]",
      "text/plain": [
       "<Figure size 640x480 with 1 Axes>"
      ]
     },
     "metadata": {},
     "output_type": "display_data"
    }
   ],
   "source": [
    "fpr, tpr, treshold = roc_curve(y_test, predict_proba)\n",
    "roc_auc = auc(fpr, tpr)\n",
    "\n",
    "plt.plot(fpr, tpr, \n",
    "         color='orange',\n",
    "         label='ROC кривая (area = %0.3f)' % roc_auc)\n",
    "plt.plot([0, 1], [0, 1], \n",
    "         linestyle='--')\n",
    "\n",
    "plt.xlabel('Ложноположительные')\n",
    "plt.ylabel('Положительные')\n",
    "plt.title('ROC-кривой')\n",
    "plt.legend(loc=\"lower right\")\n",
    "\n",
    "plt.show()"
   ]
  },
  {
   "cell_type": "markdown",
   "id": "36f61028",
   "metadata": {},
   "source": [
    "## 4.5 Анализ значимости признаков "
   ]
  },
  {
   "cell_type": "code",
   "execution_count": 47,
   "id": "846e2978",
   "metadata": {},
   "outputs": [
    {
     "data": {
      "image/png": "[encoded data removed]",
      "text/plain": [
       "<Figure size 1400x800 with 1 Axes>"
      ]
     },
     "metadata": {},
     "output_type": "display_data"
    }
   ],
   "source": [
    "cat_iris_imp = pd.Series(ct_RandomGrid.best_estimator_.get_feature_importance(),\n",
    "                         x_test_coded.columns)\n",
    "fig, ax = plt.subplots(figsize=(14,8))\n",
    "cat_iris_imp.plot.bar(ax=ax)\n",
    "ax.set_title(\"Важность признаков\")\n",
    "ax.set_ylabel('Важность, %')\n",
    "fig.tight_layout()"
   ]
  },
  {
   "cell_type": "markdown",
   "id": "c2ffe7c6",
   "metadata": {},
   "source": [
    "# Отчет"
   ]
  },
  {
   "cell_type": "markdown",
   "id": "f31514bf",
   "metadata": {},
   "source": [
    "## Цель работы\n",
    "\n",
    "Создать, обучить и проверить на тестовой выборке модель с удовлетворябщем значение метрик (ROC-AUC => 0.85)"
   ]
  },
  {
   "cell_type": "markdown",
   "id": "51ea280e",
   "metadata": {},
   "source": [
    "## **Этапы работы**\n",
    "\n",
    "### Выгрузка данных\n",
    "***\n",
    "- **Загрузка данных в переменые**\n",
    "\n",
    "Данные содержаться в четырёх файлах, их сохранили в четыре перменные, осмотрели и проверили форму.\n",
    "- **Объеденение данных в единую таблицу**\n",
    "\n",
    "Данные контрактов и лчиные данные полностьь совпадают по длине и проблемой с объеденением нет, а вот набор услуг телефонии и интернета разлиаются в данных появлись пропуски. Они были заполнены No, так как если человек не пользуется услугой он просто не попал в таблицы услуг\n"
   ]
  },
  {
   "cell_type": "markdown",
   "id": "992afe8f",
   "metadata": {},
   "source": [
    "### Исследование и анализ данных\n",
    "***\n",
    "- **Поверка на дубликаты и пропуски**\n",
    "\n",
    "В данных было обнаружено всего 4 дубликата она были удалены. Так же были обнаружены пропуски в столбце TotalCharges(Сумма всех зачислений), они были заполнены нулем.\n",
    "\n",
    "- **Создание нового признака**\n",
    "\n",
    "Для модели всегда полезно создать новый признак. Так как у нас есть информация о дате начала предостовления услуг, то есть возможность рассчитать количесво дней пользованиея услугами компании duration. Рассчет двух типов если есть дата окончания контраката то разница окончания действия контраката с датой начала действия, если клиент не ушел из компании, о разница между началом действия контракта с датой выгрузки данных (1 февраля 2022)\n",
    "\n",
    "- **Создание таргета**\n",
    "\n",
    "В нашим случае решается задача класификации ушел клиент или нет для модели это 1 или 0. Столбец таргета был создан по принципу есть ли дата окончания контракта, если есть, то 1, если нет, то 0.\n",
    "\n",
    "- **Анализ корреляций** \n",
    "\n",
    "Анализ корреляций необходим для понимания взаимосвязи между данными. (Матрицу корреляиций см. Ячейка 20) \n",
    "Инсайды из анализа марицы:\n",
    "\n",
    "   + Большинство значимых корреляций очевидны имеют очень понятную структуру\n",
    "        - Интерент одна из самих дорогих услуг поэтому и ежемесячный платеж больше\n",
    "        - Признык и дата EndDate, по пянтной причине полностью совпадают\n",
    "        - Большинство интернет услуг связаны, скорее всего их берут в комплексе\n",
    "\n",
    "   + Интересные инсайды из анализа корреляций признаков:\n",
    "        - От пола ничего не зависит \n",
    "        - Наличие парнетра связано с длительностью пользования услугами компании\n",
    "        - Так же длительность связана с таргетом, так что можно сказать, что новый признак был найден удачно\n",
    "        \n",
    "- **Соствление портрета уходящего пользователя**\n",
    "\n",
    "Таблица была разделена на две части по таргету и проведен анализ разницы между ушедшими клиентами и действующими.\n",
    "Инсайды которые удалось получить:\n",
    "\n",
    "   + Это НЕ пинсионер\n",
    "   + Человек уже более года пользуется услугами телекома\n",
    "   + Скорее всего к но есть партнер \n",
    "   + Он менее активно пользуеься дополнительными услугами телекома\n",
    "\n",
    "Гипотезы на основе инсайдов:\n",
    "\n",
    "   + Можно предположить, что если пользователь будет определен моделью как уходящий, то стоит  предложить промокды или льготные условия на дополнительные сервисы. Так как уходя от нас он будет не просто менять опреатора связи или провайдера, но и терять широту услуг.\n",
    "   + Одной из самых весемых, важных услуг, можно назвать техническую поддержку.\n",
    "   + Так же стоит сделать факт выставления счёта на электронную почту для всех клиентов.\n",
    "   + Так же интерсно, что у уходящий пользователей чаще есть партнер. Веортяно уход связан с желанием обслуживаться в той же кампании, что и партнер. Можно добавить выгодные семейные тарифы."
   ]
  },
  {
   "cell_type": "markdown",
   "id": "3b31e7b4",
   "metadata": {},
   "source": [
    "### Подготовка данных\n",
    "***\n",
    "- **Удалены лишние признаки**\n",
    "\n",
    "- **ОНЕ**\n",
    "\n",
    "Для того чтобы модель смогла обработать данные их перевести в числовой вид. Для этого я воспользовался OneHotEncoder. В наших данных в основном бинарные категориальные признаки, они перешли из вида Yes/No в 1/0. \n",
    "\n",
    "- **Разделение данных на выборки**\n",
    "\n",
    "Весь датасет был разделен на две части в отношении 1/3. Это необходимо для тестирования модели, так как во время обучения я проверял ее на данных с которыми модель уже знакома. Поэтому четверть выборки выделяется на тестирование.\n"
   ]
  },
  {
   "cell_type": "markdown",
   "id": "e9661807",
   "metadata": {},
   "source": [
    "###  Проверка моделей \n",
    "***\n",
    "Для обучения и проверке на кроссвалидации были взяты три модели классификаци RandomForest, LightGBM и CatBoost.\n",
    "Результаты и лучшие гиперпараметры:\n",
    "\n",
    "|               | CatBoost         | RandomForest   | LightGBM         |\n",
    "|:--------------|:-----------------|:---------------|:-----------------|\n",
    "|Лучшие         |learning_rate=0.1 | n_estimators=91| reg_lambda=1     |\n",
    "|Гиперпараметры | l2_leaf_reg=5    | bootstrap=False| reg_alpha=0.1    |\n",
    "|               | depth=4          | max_depth=9    | n_estimators=300 |\n",
    "|               |                  |                | max_depth=20     |\n",
    "|               |                  |                | learning_rate=0.1|\n",
    "|Roc-Auc        |**0.916**         |**0.825**       |**0.889**         |\n",
    "\n",
    "Как видно из таблицы лучше всего показал себя CatBoost."
   ]
  },
  {
   "cell_type": "markdown",
   "id": "29a40ad2",
   "metadata": {},
   "source": [
    "### Тестировнание\n",
    "***\n",
    "Лучшая модель определенна и далее проверяна на тесовой выборке.\n",
    "\n",
    "**Вывод метрики:**"
   ]
  },
  {
   "cell_type": "code",
   "execution_count": 48,
   "id": "32770d75",
   "metadata": {},
   "outputs": [
    {
     "data": {
      "image/png": "[encoded data removed]",
      "text/plain": [
       "<Figure size 640x480 with 1 Axes>"
      ]
     },
     "metadata": {},
     "output_type": "display_data"
    }
   ],
   "source": [
    "fpr, tpr, treshold = roc_curve(y_test, predict_proba)\n",
    "roc_auc = auc(fpr, tpr)\n",
    "\n",
    "plt.plot(fpr, tpr, \n",
    "         color='orange',\n",
    "         label='ROC кривая (area = %0.3f)' % roc_auc)\n",
    "plt.plot([0, 1], [0, 1], \n",
    "         linestyle='--')\n",
    "\n",
    "plt.xlabel('Ложноположительные')\n",
    "plt.ylabel('Положительные')\n",
    "plt.title('ROC-кривой')\n",
    "plt.legend(loc=\"lower right\")\n",
    "\n",
    "plt.show()"
   ]
  },
  {
   "cell_type": "markdown",
   "id": "7f116fb7",
   "metadata": {},
   "source": [
    "**Вывод важности признаков:**"
   ]
  },
  {
   "cell_type": "code",
   "execution_count": 49,
   "id": "4a311e13",
   "metadata": {},
   "outputs": [
    {
     "data": {
      "image/png": "[encoded data removed]",
      "text/plain": [
       "<Figure size 1400x800 with 1 Axes>"
      ]
     },
     "metadata": {},
     "output_type": "display_data"
    }
   ],
   "source": [
    "cat_iris_imp = pd.Series(ct_RandomGrid.best_estimator_.get_feature_importance(),\n",
    "                         x_test_coded.columns)\n",
    "fig, ax = plt.subplots(figsize=(14,8))\n",
    "cat_iris_imp.plot.bar(ax=ax)\n",
    "ax.set_title(\"Важность признаков\")\n",
    "ax.set_ylabel('Важность, %')\n",
    "fig.tight_layout()"
   ]
  },
  {
   "cell_type": "markdown",
   "id": "89b5c63c",
   "metadata": {},
   "source": [
    "Анализ важности признаков показывает, что самых существенным признаком оказывется новосозданный длительность, так же ежемесяный платеж и, на прямую от него зависящий, сумма платежей.\n",
    "\n",
    "### Вывод \n",
    "***\n",
    "Проделав все выше описанные этапы удалось добится цели, получить модель с удовлетворяющей  метрикой."
   ]
  },
  {
   "cell_type": "markdown",
   "id": "0bcd6683",
   "metadata": {},
   "source": [
    "### Выполненые пункты плана\n",
    "***\n",
    "- [x] Анализ данных (Аномалии не выявленны)\n",
    "\n",
    "Данные будут исследованны на аномалии и ошибки\n",
    "- [x] Подготовка признаков  \n",
    "\n",
    "Из данных будут выделенны признаки, которые будут подготовленны для корректной работы модели и удалены признаки, которые мешают работе модели\n",
    "- [x] Исследование моделей\n",
    "    - Данные будут разделенны на выборки \n",
    "    - Будут обучены несколько моделей и полученные результаты на валидационой выборки \n",
    "    - Сравнение результатов моделей\n",
    "- [x] Тестирование модели \n",
    "\n",
    "Лучшая модель будет проверенна на тестовой выборке \n",
    "- [x] Подготовка отчета \n",
    "\n",
    "Удалось успешно выполнить все пункты плана."
   ]
  },
  {
   "cell_type": "markdown",
   "id": "32aa1190",
   "metadata": {},
   "source": [
    "### Трудности\n",
    "***\n",
    "\n",
    "Самыми сложным этапом я могу назвать анализ корреляций. Инструментами питона не сложно создать саму матрцу, но её анализ ослажняет денежная взаимосвязь признаков возникает весомые значения корреляции(выше 0.4) которые для меня не имеют большого смысла, либо сами по себе очевидны, что ослажняет анализ.\n",
    "\n",
    "Так же составление портрета пользователя, когда много значний тяжело выстраивать логические связи и приходится на месте выдумывать понятные способы визуализировать данные. В качестве примера могу привести зеркальную столбчатую диаграмму, которая получилось создать почти случайно, но оказалось очень локаничным решением.\n",
    "\n"
   ]
  },
  {
   "cell_type": "code",
   "execution_count": null,
   "id": "13aa208d",
   "metadata": {},
   "outputs": [],
   "source": []
  }
 ],
 "metadata": {
  "ExecuteTimeLog": [
   {
    "duration": 7410,
    "start_time": "2023-04-21T18:43:44.208Z"
   },
   {
    "duration": 1561,
    "start_time": "2023-04-21T18:43:55.174Z"
   },
   {
    "duration": 257,
    "start_time": "2023-04-21T18:43:56.842Z"
   },
   {
    "duration": 162,
    "start_time": "2023-04-21T18:44:21.630Z"
   },
   {
    "duration": 28,
    "start_time": "2023-04-21T18:44:25.640Z"
   },
   {
    "duration": 24,
    "start_time": "2023-04-21T18:48:43.445Z"
   },
   {
    "duration": 22,
    "start_time": "2023-04-21T18:48:44.681Z"
   },
   {
    "duration": 26,
    "start_time": "2023-04-21T18:48:44.747Z"
   },
   {
    "duration": 16,
    "start_time": "2023-04-21T18:48:46.938Z"
   },
   {
    "duration": 17,
    "start_time": "2023-04-21T18:48:46.978Z"
   },
   {
    "duration": 14,
    "start_time": "2023-04-21T18:48:47.904Z"
   },
   {
    "duration": 16,
    "start_time": "2023-04-21T18:48:47.963Z"
   },
   {
    "duration": 5,
    "start_time": "2023-04-21T18:48:48.507Z"
   },
   {
    "duration": 4,
    "start_time": "2023-04-21T18:48:49.010Z"
   },
   {
    "duration": 164,
    "start_time": "2023-04-21T18:48:49.044Z"
   },
   {
    "duration": 16,
    "start_time": "2023-04-21T18:48:49.210Z"
   },
   {
    "duration": 9,
    "start_time": "2023-04-21T18:48:49.660Z"
   },
   {
    "duration": 4,
    "start_time": "2023-04-21T18:48:50.165Z"
   },
   {
    "duration": 6,
    "start_time": "2023-04-21T18:48:50.247Z"
   },
   {
    "duration": 16,
    "start_time": "2023-04-21T18:48:50.707Z"
   },
   {
    "duration": 48,
    "start_time": "2023-04-21T18:48:51.276Z"
   },
   {
    "duration": 7,
    "start_time": "2023-04-21T18:48:55.860Z"
   },
   {
    "duration": 168,
    "start_time": "2023-04-21T18:48:56.599Z"
   },
   {
    "duration": 18,
    "start_time": "2023-04-21T18:48:57.894Z"
   },
   {
    "duration": 3,
    "start_time": "2023-04-21T18:48:58.685Z"
   },
   {
    "duration": 18,
    "start_time": "2023-04-21T18:48:58.979Z"
   },
   {
    "duration": 217,
    "start_time": "2023-04-21T18:48:59.283Z"
   },
   {
    "duration": 4,
    "start_time": "2023-04-21T18:49:01.570Z"
   },
   {
    "duration": 12,
    "start_time": "2023-04-21T18:49:01.922Z"
   },
   {
    "duration": 27,
    "start_time": "2023-04-21T18:49:03.573Z"
   },
   {
    "duration": 6,
    "start_time": "2023-04-21T18:49:09.074Z"
   },
   {
    "duration": 14,
    "start_time": "2023-04-21T18:49:10.873Z"
   },
   {
    "duration": 11922,
    "start_time": "2023-04-21T18:49:49.625Z"
   },
   {
    "duration": 1544,
    "start_time": "2023-04-21T18:51:02.087Z"
   },
   {
    "duration": 178,
    "start_time": "2023-04-21T18:51:04.571Z"
   },
   {
    "duration": 26,
    "start_time": "2023-04-21T18:51:06.447Z"
   },
   {
    "duration": 17,
    "start_time": "2023-04-21T18:51:06.574Z"
   },
   {
    "duration": 20,
    "start_time": "2023-04-21T18:51:06.636Z"
   },
   {
    "duration": 18,
    "start_time": "2023-04-21T18:51:08.907Z"
   },
   {
    "duration": 18,
    "start_time": "2023-04-21T18:51:08.940Z"
   },
   {
    "duration": 15,
    "start_time": "2023-04-21T18:51:09.900Z"
   },
   {
    "duration": 14,
    "start_time": "2023-04-21T18:51:09.965Z"
   },
   {
    "duration": 6,
    "start_time": "2023-04-21T18:51:10.970Z"
   },
   {
    "duration": 5,
    "start_time": "2023-04-21T18:51:11.005Z"
   },
   {
    "duration": 160,
    "start_time": "2023-04-21T18:51:11.049Z"
   },
   {
    "duration": 16,
    "start_time": "2023-04-21T18:51:11.679Z"
   },
   {
    "duration": 9,
    "start_time": "2023-04-21T18:51:12.216Z"
   },
   {
    "duration": 4,
    "start_time": "2023-04-21T18:51:12.247Z"
   },
   {
    "duration": 5,
    "start_time": "2023-04-21T18:51:12.310Z"
   },
   {
    "duration": 17,
    "start_time": "2023-04-21T18:51:12.833Z"
   },
   {
    "duration": 62,
    "start_time": "2023-04-21T18:51:13.406Z"
   },
   {
    "duration": 6,
    "start_time": "2023-04-21T18:51:17.513Z"
   },
   {
    "duration": 200,
    "start_time": "2023-04-21T18:51:18.050Z"
   },
   {
    "duration": 18,
    "start_time": "2023-04-21T18:51:19.802Z"
   },
   {
    "duration": 2,
    "start_time": "2023-04-21T18:51:19.870Z"
   },
   {
    "duration": 17,
    "start_time": "2023-04-21T18:51:20.476Z"
   },
   {
    "duration": 214,
    "start_time": "2023-04-21T18:51:20.980Z"
   },
   {
    "duration": 4,
    "start_time": "2023-04-21T18:51:22.408Z"
   },
   {
    "duration": 10,
    "start_time": "2023-04-21T18:51:22.662Z"
   },
   {
    "duration": 25,
    "start_time": "2023-04-21T18:51:23.681Z"
   },
   {
    "duration": 6,
    "start_time": "2023-04-21T18:51:24.811Z"
   },
   {
    "duration": 87,
    "start_time": "2023-04-21T18:51:25.078Z"
   },
   {
    "duration": 3,
    "start_time": "2023-04-21T18:53:19.961Z"
   },
   {
    "duration": 3,
    "start_time": "2023-04-21T18:53:20.673Z"
   },
   {
    "duration": 34135,
    "start_time": "2023-04-21T18:53:22.701Z"
   },
   {
    "duration": 59,
    "start_time": "2023-04-21T18:54:35.684Z"
   },
   {
    "duration": 109,
    "start_time": "2023-04-21T18:54:41.135Z"
   },
   {
    "duration": 3,
    "start_time": "2023-04-21T18:54:48.420Z"
   },
   {
    "duration": 4,
    "start_time": "2023-04-21T18:55:15.046Z"
   },
   {
    "duration": 3,
    "start_time": "2023-04-21T18:55:16.094Z"
   },
   {
    "duration": 5526,
    "start_time": "2023-04-21T18:55:16.927Z"
   },
   {
    "duration": 79,
    "start_time": "2023-04-21T18:55:32.391Z"
   },
   {
    "duration": 77,
    "start_time": "2023-04-21T18:55:36.633Z"
   },
   {
    "duration": 3,
    "start_time": "2023-04-21T18:58:05.366Z"
   },
   {
    "duration": 1490,
    "start_time": "2023-04-21T18:58:19.475Z"
   },
   {
    "duration": 9,
    "start_time": "2023-04-21T18:58:31.644Z"
   },
   {
    "duration": 13,
    "start_time": "2023-04-21T18:58:42.246Z"
   },
   {
    "duration": 1631,
    "start_time": "2023-04-21T18:58:53.879Z"
   },
   {
    "duration": 83,
    "start_time": "2023-04-21T18:59:48.573Z"
   },
   {
    "duration": 14,
    "start_time": "2023-04-21T18:59:53.070Z"
   },
   {
    "duration": 9,
    "start_time": "2023-04-21T19:13:01.904Z"
   },
   {
    "duration": 16410,
    "start_time": "2023-04-21T19:14:04.460Z"
   },
   {
    "duration": 1637,
    "start_time": "2023-04-21T19:14:20.873Z"
   },
   {
    "duration": 709,
    "start_time": "2023-04-21T19:14:22.512Z"
   },
   {
    "duration": 31,
    "start_time": "2023-04-21T19:14:23.223Z"
   },
   {
    "duration": 18,
    "start_time": "2023-04-21T19:14:23.256Z"
   },
   {
    "duration": 51,
    "start_time": "2023-04-21T19:14:23.276Z"
   },
   {
    "duration": 19,
    "start_time": "2023-04-21T19:14:23.329Z"
   },
   {
    "duration": 31,
    "start_time": "2023-04-21T19:14:23.350Z"
   },
   {
    "duration": 40,
    "start_time": "2023-04-21T19:14:23.383Z"
   },
   {
    "duration": 17,
    "start_time": "2023-04-21T19:14:23.426Z"
   },
   {
    "duration": 4,
    "start_time": "2023-04-21T19:14:23.445Z"
   },
   {
    "duration": 4,
    "start_time": "2023-04-21T19:14:23.451Z"
   },
   {
    "duration": 213,
    "start_time": "2023-04-21T19:14:23.457Z"
   },
   {
    "duration": 17,
    "start_time": "2023-04-21T19:14:23.672Z"
   },
   {
    "duration": 27,
    "start_time": "2023-04-21T19:14:23.691Z"
   },
   {
    "duration": 5,
    "start_time": "2023-04-21T19:14:23.720Z"
   },
   {
    "duration": 13,
    "start_time": "2023-04-21T19:14:23.727Z"
   },
   {
    "duration": 17,
    "start_time": "2023-04-21T19:14:23.742Z"
   },
   {
    "duration": 77,
    "start_time": "2023-04-21T19:14:23.761Z"
   },
   {
    "duration": 4685,
    "start_time": "2023-04-21T19:14:23.840Z"
   },
   {
    "duration": 8,
    "start_time": "2023-04-21T19:14:28.526Z"
   },
   {
    "duration": 329,
    "start_time": "2023-04-21T19:14:28.536Z"
   },
   {
    "duration": 46,
    "start_time": "2023-04-21T19:14:28.867Z"
   },
   {
    "duration": 4,
    "start_time": "2023-04-21T19:14:28.915Z"
   },
   {
    "duration": 25,
    "start_time": "2023-04-21T19:14:28.921Z"
   },
   {
    "duration": 318,
    "start_time": "2023-04-21T19:14:28.949Z"
   },
   {
    "duration": 5,
    "start_time": "2023-04-21T19:14:29.269Z"
   },
   {
    "duration": 16,
    "start_time": "2023-04-21T19:14:29.278Z"
   },
   {
    "duration": 31,
    "start_time": "2023-04-21T19:14:29.312Z"
   },
   {
    "duration": 6,
    "start_time": "2023-04-21T19:14:29.345Z"
   },
   {
    "duration": 121,
    "start_time": "2023-04-21T19:14:29.353Z"
   },
   {
    "duration": 3,
    "start_time": "2023-04-21T19:14:29.476Z"
   },
   {
    "duration": 5,
    "start_time": "2023-04-21T19:14:29.481Z"
   },
   {
    "duration": 1149551,
    "start_time": "2023-04-21T19:14:29.488Z"
   },
   {
    "duration": 5,
    "start_time": "2023-04-21T19:33:39.041Z"
   },
   {
    "duration": 4,
    "start_time": "2023-04-21T19:33:39.049Z"
   },
   {
    "duration": 3,
    "start_time": "2023-04-21T19:33:39.056Z"
   },
   {
    "duration": 34767,
    "start_time": "2023-04-21T19:33:39.062Z"
   },
   {
    "duration": 5,
    "start_time": "2023-04-21T19:34:13.832Z"
   },
   {
    "duration": 0,
    "start_time": "2023-04-21T19:34:13.839Z"
   },
   {
    "duration": 0,
    "start_time": "2023-04-21T19:34:13.841Z"
   },
   {
    "duration": 0,
    "start_time": "2023-04-21T19:34:13.843Z"
   },
   {
    "duration": 0,
    "start_time": "2023-04-21T19:34:13.845Z"
   },
   {
    "duration": 0,
    "start_time": "2023-04-21T19:34:13.847Z"
   },
   {
    "duration": 0,
    "start_time": "2023-04-21T19:34:13.848Z"
   },
   {
    "duration": 0,
    "start_time": "2023-04-21T19:34:13.850Z"
   },
   {
    "duration": 0,
    "start_time": "2023-04-21T19:34:13.852Z"
   },
   {
    "duration": 0,
    "start_time": "2023-04-21T19:34:13.853Z"
   },
   {
    "duration": 0,
    "start_time": "2023-04-21T19:34:13.855Z"
   },
   {
    "duration": 0,
    "start_time": "2023-04-21T19:34:13.857Z"
   },
   {
    "duration": 5,
    "start_time": "2023-04-21T19:38:30.323Z"
   },
   {
    "duration": 3,
    "start_time": "2023-04-21T19:38:35.757Z"
   },
   {
    "duration": 3,
    "start_time": "2023-04-21T19:38:37.460Z"
   },
   {
    "duration": 998066,
    "start_time": "2023-04-21T19:38:40.269Z"
   },
   {
    "duration": 4,
    "start_time": "2023-04-21T19:55:18.337Z"
   },
   {
    "duration": 14,
    "start_time": "2023-04-21T19:55:18.413Z"
   },
   {
    "duration": 8,
    "start_time": "2023-04-21T19:55:18.430Z"
   },
   {
    "duration": 161,
    "start_time": "2023-04-21T19:55:18.440Z"
   },
   {
    "duration": 617,
    "start_time": "2023-04-21T19:55:18.603Z"
   },
   {
    "duration": 485,
    "start_time": "2023-04-21T19:57:55.001Z"
   }
  ],
  "kernelspec": {
   "display_name": "Python 3 (ipykernel)",
   "language": "python",
   "name": "python3"
  },
  "language_info": {
   "codemirror_mode": {
    "name": "ipython",
    "version": 3
   },
   "file_extension": ".py",
   "mimetype": "text/x-python",
   "name": "python",
   "nbconvert_exporter": "python",
   "pygments_lexer": "ipython3",
   "version": "3.9.13"
  },
  "toc": {
   "base_numbering": 1,
   "nav_menu": {},
   "number_sections": true,
   "sideBar": true,
   "skip_h1_title": true,
   "title_cell": "Table of Contents",
   "title_sidebar": "Contents",
   "toc_cell": false,
   "toc_position": {},
   "toc_section_display": true,
   "toc_window_display": false
  }
 },
 "nbformat": 4,
 "nbformat_minor": 5
}
